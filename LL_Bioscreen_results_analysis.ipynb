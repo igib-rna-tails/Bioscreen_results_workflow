{
 "cells": [
  {
   "cell_type": "markdown",
   "metadata": {},
   "source": [
    "# Growth rate analysis with Bioscreen or any 96-well plate\n",
    "\n",
    "This notebook contain workflow to prepare and analyse the results of microbial growth rate in Bioscreen Honeycomb plates or any 96-well plate.\n",
    "\n",
    "### Steps:\n",
    "1. Install requirements.\n",
    "2. Import raw data.\n",
    "3. Prepare raw data for visualisation (numpy, pandas).\n",
    "4. Visualisation of growth curves.\n",
    "5. Usage of [pyphe-growthcurves made by Stephan Kamrad from Bahler Lab](https://github.com/Bahler-Lab/pyphe-growthcurves) for determination of maximal slope of growth curves and time of microbial lag phase.\n",
    "6. Visualisation of max_slope and lap phase on box plots (matplotlib, seaborn).\n",
    "\n",
    "\n",
    "\n",
    "### Requirements: \n",
    "    . numpy >= 1.8.0\n",
    "    . scipy >= 0.17.0\n",
    "    . pysam >= 0.8\n",
    "    . matplotlib >= 1.4.0\n",
    "    . seaborn\n",
    "    . pytime\n",
    "    . parsedatatime\n",
    "    . pytimeparse"
   ]
  },
  {
   "cell_type": "markdown",
   "metadata": {},
   "source": [
    "### Install requirenments:"
   ]
  },
  {
   "cell_type": "code",
   "execution_count": null,
   "metadata": {},
   "outputs": [],
   "source": [
    "!pip install -r requirements.txt"
   ]
  },
  {
   "cell_type": "code",
   "execution_count": null,
   "metadata": {},
   "outputs": [],
   "source": [
    "# Install other requierments with pip install\n",
    "!pip install parsedatetime"
   ]
  },
  {
   "cell_type": "code",
   "execution_count": null,
   "metadata": {},
   "outputs": [],
   "source": [
    "!pip install pytimeparse"
   ]
  },
  {
   "cell_type": "code",
   "execution_count": null,
   "metadata": {},
   "outputs": [],
   "source": [
    "!pip install pytime"
   ]
  },
  {
   "cell_type": "markdown",
   "metadata": {},
   "source": [
    "### Import libraries and moduls:"
   ]
  },
  {
   "cell_type": "code",
   "execution_count": 3,
   "metadata": {},
   "outputs": [],
   "source": [
    "# Import libraries\n",
    "import numpy as np\n",
    "import matplotlib.pyplot as plt\n",
    "import pandas as pd\n",
    "import seaborn as sns\n",
    "import datetime as DT\n",
    "from datetime import timedelta\n",
    "import parsedatetime\n",
    "from pytimeparse import parse\n",
    "\n",
    "%matplotlib inline"
   ]
  },
  {
   "cell_type": "markdown",
   "metadata": {},
   "source": [
    "### Import metadata file with layout of the plate(s):\n",
    "\n",
    "Prepare the layour in a separate file , only with the names of samples in the raws and columns as below:"
   ]
  },
  {
   "cell_type": "code",
   "execution_count": 25,
   "metadata": {},
   "outputs": [],
   "source": [
    "metadata = pd.read_csv(\"Metadata_layout.csv\", sep = ',')\n",
    "\n",
    "## Function to look at the head of DataFrame (only first 5 rows):\n",
    "# metadata.head() "
   ]
  },
  {
   "cell_type": "markdown",
   "metadata": {},
   "source": [
    "### Import the file with layout prepared beforehand:"
   ]
  },
  {
   "cell_type": "code",
   "execution_count": 26,
   "metadata": {},
   "outputs": [],
   "source": [
    "metadata = pd.read_csv(\"Metadata_example_results_dots.csv\", sep = ',')"
   ]
  },
  {
   "cell_type": "markdown",
   "metadata": {},
   "source": [
    "### This step will make one column with the names of the samples from all columns in the layout:"
   ]
  },
  {
   "cell_type": "code",
   "execution_count": 27,
   "metadata": {},
   "outputs": [],
   "source": [
    "column_names = pd.concat([metadata[col_name] for col_name in metadata.columns],ignore_index=True)"
   ]
  },
  {
   "cell_type": "markdown",
   "metadata": {},
   "source": [
    "### Import the raw results and change index (the first row) to the names of the samples: "
   ]
  },
  {
   "cell_type": "code",
   "execution_count": 28,
   "metadata": {},
   "outputs": [],
   "source": [
    "## Import raw data as raw_results_d:\n",
    "raw_results_d = pd.read_csv(\"raw_results_example.csv\", sep=';')\n",
    "\n",
    "## Make a list from your column names :\n",
    "lista_nowych_nazw=list(column_names)\n",
    "\n",
    "## Add \"Time\" to the list:\n",
    "lista_nowych_nazw=[\"time\"]+lista_nowych_nazw\n",
    "\n",
    "## Use belowed code if you want to change the name of some sample (here 3rd sample):\n",
    "# lista_nowych_nazw[3]=\"Other name\"\n",
    "\n",
    "## Add prepared list with names with your DataFrame containing raw results as the index.\n",
    "raw_results_d.columns=lista_nowych_nazw\n",
    "\n",
    "## Check it if you want:\n",
    "#raw_results_d.head()"
   ]
  },
  {
   "cell_type": "markdown",
   "metadata": {},
   "source": [
    "### Preparation of data to obtain DataFrame with desirable format of time:"
   ]
  },
  {
   "cell_type": "code",
   "execution_count": 48,
   "metadata": {},
   "outputs": [
    {
     "name": "stderr",
     "output_type": "stream",
     "text": [
      "/home/lidia/anaconda3/envs/dm4/lib/python3.7/site-packages/IPython/core/interactiveshell.py:3296: SettingWithCopyWarning: \n",
      "A value is trying to be set on a copy of a slice from a DataFrame\n",
      "\n",
      "See the caveats in the documentation: http://pandas.pydata.org/pandas-docs/stable/indexing.html#indexing-view-versus-copy\n",
      "  exec(code_obj, self.user_global_ns, self.user_ns)\n",
      "/home/lidia/anaconda3/envs/dm4/lib/python3.7/site-packages/ipykernel_launcher.py:12: SettingWithCopyWarning: \n",
      "A value is trying to be set on a copy of a slice from a DataFrame\n",
      "\n",
      "See the caveats in the documentation: http://pandas.pydata.org/pandas-docs/stable/indexing.html#indexing-view-versus-copy\n",
      "  if sys.path[0] == '':\n",
      "/home/lidia/anaconda3/envs/dm4/lib/python3.7/site-packages/ipykernel_launcher.py:16: SettingWithCopyWarning: \n",
      "A value is trying to be set on a copy of a slice from a DataFrame\n",
      "\n",
      "See the caveats in the documentation: http://pandas.pydata.org/pandas-docs/stable/indexing.html#indexing-view-versus-copy\n",
      "  app.launch_new_instance()\n"
     ]
    },
    {
     "data": {
      "text/html": [
       "<div>\n",
       "<style scoped>\n",
       "    .dataframe tbody tr th:only-of-type {\n",
       "        vertical-align: middle;\n",
       "    }\n",
       "\n",
       "    .dataframe tbody tr th {\n",
       "        vertical-align: top;\n",
       "    }\n",
       "\n",
       "    .dataframe thead th {\n",
       "        text-align: right;\n",
       "    }\n",
       "</style>\n",
       "<table border=\"1\" class=\"dataframe\">\n",
       "  <thead>\n",
       "    <tr style=\"text-align: right;\">\n",
       "      <th></th>\n",
       "      <th>WT.1</th>\n",
       "      <th>WT.2</th>\n",
       "      <th>CID1.1</th>\n",
       "      <th>CID1.2</th>\n",
       "      <th>CID11.1</th>\n",
       "      <th>CID11.2</th>\n",
       "      <th>CID13.1</th>\n",
       "      <th>CID13.2</th>\n",
       "      <th>CID16.1</th>\n",
       "      <th>CID16.2</th>\n",
       "      <th>...</th>\n",
       "      <th>WT.etOH.1</th>\n",
       "      <th>WT.etOH.2</th>\n",
       "      <th>CID1.etOH.1</th>\n",
       "      <th>CID1.etOH.2</th>\n",
       "      <th>CID11.etOH.1</th>\n",
       "      <th>CID11.etOH.2</th>\n",
       "      <th>CID13.etOH.1</th>\n",
       "      <th>CID13.etOH.2</th>\n",
       "      <th>CID16.etOH.1</th>\n",
       "      <th>CID16.etOH.2</th>\n",
       "    </tr>\n",
       "    <tr>\n",
       "      <th>Time</th>\n",
       "      <th></th>\n",
       "      <th></th>\n",
       "      <th></th>\n",
       "      <th></th>\n",
       "      <th></th>\n",
       "      <th></th>\n",
       "      <th></th>\n",
       "      <th></th>\n",
       "      <th></th>\n",
       "      <th></th>\n",
       "      <th></th>\n",
       "      <th></th>\n",
       "      <th></th>\n",
       "      <th></th>\n",
       "      <th></th>\n",
       "      <th></th>\n",
       "      <th></th>\n",
       "      <th></th>\n",
       "      <th></th>\n",
       "      <th></th>\n",
       "      <th></th>\n",
       "    </tr>\n",
       "  </thead>\n",
       "  <tbody>\n",
       "    <tr>\n",
       "      <th>0.001389</th>\n",
       "      <td>0.176</td>\n",
       "      <td>0.165</td>\n",
       "      <td>0.055</td>\n",
       "      <td>0.103</td>\n",
       "      <td>0.078</td>\n",
       "      <td>0.147</td>\n",
       "      <td>0.099</td>\n",
       "      <td>0.122</td>\n",
       "      <td>0.120</td>\n",
       "      <td>0.061</td>\n",
       "      <td>...</td>\n",
       "      <td>0.144</td>\n",
       "      <td>0.165</td>\n",
       "      <td>0.146</td>\n",
       "      <td>0.114</td>\n",
       "      <td>0.175</td>\n",
       "      <td>0.138</td>\n",
       "      <td>0.150</td>\n",
       "      <td>0.171</td>\n",
       "      <td>0.191</td>\n",
       "      <td>0.108</td>\n",
       "    </tr>\n",
       "    <tr>\n",
       "      <th>0.192778</th>\n",
       "      <td>0.086</td>\n",
       "      <td>0.094</td>\n",
       "      <td>0.150</td>\n",
       "      <td>0.123</td>\n",
       "      <td>0.118</td>\n",
       "      <td>0.080</td>\n",
       "      <td>0.051</td>\n",
       "      <td>0.056</td>\n",
       "      <td>0.061</td>\n",
       "      <td>0.102</td>\n",
       "      <td>...</td>\n",
       "      <td>0.093</td>\n",
       "      <td>0.134</td>\n",
       "      <td>0.143</td>\n",
       "      <td>0.149</td>\n",
       "      <td>0.097</td>\n",
       "      <td>0.142</td>\n",
       "      <td>0.122</td>\n",
       "      <td>0.129</td>\n",
       "      <td>0.143</td>\n",
       "      <td>0.164</td>\n",
       "    </tr>\n",
       "    <tr>\n",
       "      <th>0.441667</th>\n",
       "      <td>0.102</td>\n",
       "      <td>0.108</td>\n",
       "      <td>0.180</td>\n",
       "      <td>0.133</td>\n",
       "      <td>0.134</td>\n",
       "      <td>0.093</td>\n",
       "      <td>0.065</td>\n",
       "      <td>0.064</td>\n",
       "      <td>0.069</td>\n",
       "      <td>0.122</td>\n",
       "      <td>...</td>\n",
       "      <td>0.106</td>\n",
       "      <td>0.117</td>\n",
       "      <td>0.136</td>\n",
       "      <td>0.131</td>\n",
       "      <td>0.092</td>\n",
       "      <td>0.128</td>\n",
       "      <td>0.117</td>\n",
       "      <td>0.118</td>\n",
       "      <td>0.139</td>\n",
       "      <td>0.154</td>\n",
       "    </tr>\n",
       "    <tr>\n",
       "      <th>0.691389</th>\n",
       "      <td>0.112</td>\n",
       "      <td>0.107</td>\n",
       "      <td>0.186</td>\n",
       "      <td>0.137</td>\n",
       "      <td>0.132</td>\n",
       "      <td>0.093</td>\n",
       "      <td>0.065</td>\n",
       "      <td>0.066</td>\n",
       "      <td>0.071</td>\n",
       "      <td>0.116</td>\n",
       "      <td>...</td>\n",
       "      <td>0.120</td>\n",
       "      <td>0.141</td>\n",
       "      <td>0.148</td>\n",
       "      <td>0.153</td>\n",
       "      <td>0.103</td>\n",
       "      <td>0.147</td>\n",
       "      <td>0.129</td>\n",
       "      <td>0.128</td>\n",
       "      <td>0.157</td>\n",
       "      <td>0.157</td>\n",
       "    </tr>\n",
       "    <tr>\n",
       "      <th>0.940556</th>\n",
       "      <td>0.102</td>\n",
       "      <td>0.095</td>\n",
       "      <td>0.145</td>\n",
       "      <td>0.115</td>\n",
       "      <td>0.109</td>\n",
       "      <td>0.082</td>\n",
       "      <td>0.048</td>\n",
       "      <td>0.053</td>\n",
       "      <td>0.058</td>\n",
       "      <td>0.104</td>\n",
       "      <td>...</td>\n",
       "      <td>0.121</td>\n",
       "      <td>0.125</td>\n",
       "      <td>0.144</td>\n",
       "      <td>0.142</td>\n",
       "      <td>0.100</td>\n",
       "      <td>0.139</td>\n",
       "      <td>0.127</td>\n",
       "      <td>0.120</td>\n",
       "      <td>0.148</td>\n",
       "      <td>0.148</td>\n",
       "    </tr>\n",
       "  </tbody>\n",
       "</table>\n",
       "<p>5 rows × 200 columns</p>\n",
       "</div>"
      ],
      "text/plain": [
       "           WT.1   WT.2  CID1.1  CID1.2  CID11.1  CID11.2  CID13.1  CID13.2  \\\n",
       "Time                                                                         \n",
       "0.001389  0.176  0.165   0.055   0.103    0.078    0.147    0.099    0.122   \n",
       "0.192778  0.086  0.094   0.150   0.123    0.118    0.080    0.051    0.056   \n",
       "0.441667  0.102  0.108   0.180   0.133    0.134    0.093    0.065    0.064   \n",
       "0.691389  0.112  0.107   0.186   0.137    0.132    0.093    0.065    0.066   \n",
       "0.940556  0.102  0.095   0.145   0.115    0.109    0.082    0.048    0.053   \n",
       "\n",
       "          CID16.1  CID16.2  ...  WT.etOH.1  WT.etOH.2  CID1.etOH.1  \\\n",
       "Time                        ...                                      \n",
       "0.001389    0.120    0.061  ...      0.144      0.165        0.146   \n",
       "0.192778    0.061    0.102  ...      0.093      0.134        0.143   \n",
       "0.441667    0.069    0.122  ...      0.106      0.117        0.136   \n",
       "0.691389    0.071    0.116  ...      0.120      0.141        0.148   \n",
       "0.940556    0.058    0.104  ...      0.121      0.125        0.144   \n",
       "\n",
       "          CID1.etOH.2  CID11.etOH.1  CID11.etOH.2  CID13.etOH.1  CID13.etOH.2  \\\n",
       "Time                                                                            \n",
       "0.001389        0.114         0.175         0.138         0.150         0.171   \n",
       "0.192778        0.149         0.097         0.142         0.122         0.129   \n",
       "0.441667        0.131         0.092         0.128         0.117         0.118   \n",
       "0.691389        0.153         0.103         0.147         0.129         0.128   \n",
       "0.940556        0.142         0.100         0.139         0.127         0.120   \n",
       "\n",
       "          CID16.etOH.1  CID16.etOH.2  \n",
       "Time                                  \n",
       "0.001389         0.191         0.108  \n",
       "0.192778         0.143         0.164  \n",
       "0.441667         0.139         0.154  \n",
       "0.691389         0.157         0.157  \n",
       "0.940556         0.148         0.148  \n",
       "\n",
       "[5 rows x 200 columns]"
      ]
     },
     "execution_count": 48,
     "metadata": {},
     "output_type": "execute_result"
    }
   ],
   "source": [
    "## Drop column \"time\" to make new column with time in hours instead of in the format: %H:%M:%S:\n",
    "raw_results_bezczas = raw_results_d.drop(['time'], axis=1)\n",
    "\n",
    "## Transpose DataFrame to add column with proper column names from the metadata layout:\n",
    "cos_nowego = raw_results_bezczas.transpose()\n",
    "\n",
    "## Make new variable column_times containing column \"time\" from DataFrame raw_results_d\n",
    "column_times = raw_results_d['time']\n",
    "\n",
    "### Use parse function to gain time in secounds from format '%H:%M:%S':\n",
    "for i in range(len(column_times)):\n",
    "    column_times[i] = parse(column_times[i], '%H:%M:%S')\n",
    "    \n",
    "## Gain time in hours:\n",
    "for i in range(len(column_times)):\n",
    "    column_times[i] = column_times[i]/3600.0 \n",
    "    \n",
    "## Add column with time in hours to the DataFrame:\n",
    "indexed['Time'] = column_times\n",
    "\n",
    "## Set collumn tima as the index:\n",
    "indexed_plus_time = indexed.set_index('Time')\n",
    "\n",
    "## Export new DataFrame to .csv file:\n",
    "indexed_plus_time.to_csv(\"probna_tabelka.csv\", sep='\\t')\n",
    "\n",
    "indexed_plus_time.head()"
   ]
  },
  {
   "cell_type": "markdown",
   "metadata": {},
   "source": [
    "## THE PLOTS"
   ]
  },
  {
   "cell_type": "code",
   "execution_count": null,
   "metadata": {},
   "outputs": [],
   "source": [
    "krzywe_Time = pd.read_csv(\"probna_tabelka.csv\", sep = \"\\t\")\n",
    "\n",
    "#krzywe_Time.set_index(\"Time\")\n",
    "\n",
    "#column_names=krzywe_Time.columns\n"
   ]
  },
  {
   "cell_type": "code",
   "execution_count": null,
   "metadata": {},
   "outputs": [],
   "source": [
    "krzywe_Time.head()"
   ]
  },
  {
   "cell_type": "code",
   "execution_count": null,
   "metadata": {
    "scrolled": true
   },
   "outputs": [],
   "source": [
    "def przeszukaj(nazwa,colum_names):\n",
    "    \"\"\"nazwa (str),\n",
    "    column_names (df)\n",
    "    \"\"\"\n",
    "    ile_kopi=sum([nazwa in column for column in column_names])\n",
    "    return ile_kopi \n",
    "\n",
    "\n",
    "nazwy_orinalow=[orginal for orginal in column_names if przeszukaj(orginal,column_names)>1]\n",
    "print(nazwy_orinalow)"
   ]
  },
  {
   "cell_type": "code",
   "execution_count": null,
   "metadata": {},
   "outputs": [],
   "source": [
    "column_names= krzywe_Time.columns\n",
    "time=krzywe_Time[\"Time\"]"
   ]
  },
  {
   "cell_type": "code",
   "execution_count": null,
   "metadata": {},
   "outputs": [],
   "source": [
    "def wyciagnij_wszystkie_powtorzenia(nazwa_orginalu, column_names=column_names):\n",
    "    kolumny=np.concatenate([np.array(krzywe_Time[name]) for name in column_names if nazwa_orginalu in name])\n",
    "    \n",
    "    czasy=np.concatenate([np.array(time) for name in column_names if nazwa_orginalu in name])\n",
    "    \n",
    "    zebrana_dataframe= pd.DataFrame(data={'Time': czasy, \"OD\":kolumny})\n",
    "    return zebrana_dataframe"
   ]
  },
  {
   "cell_type": "code",
   "execution_count": null,
   "metadata": {},
   "outputs": [],
   "source": [
    "proba=wyciagnij_wszystkie_powtorzenia(nazwy_orinalow[1])\n",
    "proba.head()"
   ]
  },
  {
   "cell_type": "code",
   "execution_count": null,
   "metadata": {},
   "outputs": [],
   "source": [
    "mozliwe_szczepy=['WT', 'CID','Blank']\n",
    "\n",
    "def zrob_nowe_wiersze(column_name):\n",
    "    proba=wyciagnij_wszystkie_powtorzenia(column_name)\n",
    "    \n",
    "    przed_p_kropka=column_name.split(\".\")[0]\n",
    "    \n",
    "    \n",
    "    proba[\"strain\"]=next(szczep for szczep in mozliwe_szczepy if szczep in przed_p_kropka)\n",
    "    proba[\"name\"]=column_name\n",
    "    return proba\n",
    "\n",
    "lista_nowy_df=[zrob_nowe_wiersze(column_name) for column_name in nazwy_orinalow]\n",
    "\n",
    "splaszczony_df=pd.concat(lista_nowy_df)"
   ]
  },
  {
   "cell_type": "code",
   "execution_count": null,
   "metadata": {},
   "outputs": [],
   "source": [
    "### dla wszystkich szczepow\n",
    "\n",
    "for szczep_name in mozliwe_szczepy:\n",
    "    print(szczep_name)\n",
    "    tylko_szczep_32=splaszczony_df[splaszczony_df[\"strain\"]==szczep_name]\n",
    "    f = plt.figure(figsize=(10,10))\n",
    "    plt.title(\"Growth curve of {}\".format(szczep_name))\n",
    "    plt.axvline(x=10, linewidth=2, color='r')\n",
    "    sns.lineplot(x=\"Time\", y=\"OD\", data=tylko_szczep_32, hue=\"name\",err_style=\"bars\")\n",
    "   # f.savefig(\"{}_8.png\".format(szczep_name))"
   ]
  },
  {
   "cell_type": "code",
   "execution_count": null,
   "metadata": {
    "scrolled": true
   },
   "outputs": [],
   "source": [
    "#column_names= krzywe_Time.columns\n",
    "#time=krzywe_Time[\"Time\"]\n",
    "\n",
    "f = plt.figure(figsize=(30,30))\n",
    "\n",
    "len(column_names)\n",
    "for siatka_n, column_name in enumerate(nazwy_orinalow):\n",
    "    proba=wyciagnij_wszystkie_powtorzenia(column_name)\n",
    "\n",
    "    plt.subplot(20,10, siatka_n+1)\n",
    "    plt.title(column_name)\n",
    "    plt.ylim([0,1])\n",
    "    plt.axvline(x=10, linewidth=2, color='r')\n",
    "    sns.lineplot(data=proba, x=\"Time\", y=\"OD\",err_style=\"bars\")\n",
    "    #plt.plot(time, krzywe_Time[column_name])\n",
    "    \n",
    "plt.tight_layout()\n",
    "#f.savefig(\"all_figures_mean.pdf\")"
   ]
  },
  {
   "cell_type": "code",
   "execution_count": null,
   "metadata": {},
   "outputs": [],
   "source": [
    "#column_names= krzywe_Time.columns\n",
    "#time=krzywe_Time[\"Time\"]\n",
    "\n",
    "f = plt.figure(figsize=(30,30))\n",
    "\n",
    "len(column_names)\n",
    "for siatka_n, column_name in enumerate(nazwy_orinalow):\n",
    "    proba=wyciagnij_wszystkie_powtorzenia(column_name)\n",
    "\n",
    "    plt.subplot(20, 10, siatka_n+1)\n",
    "    plt.title(column_name)\n",
    "    plt.ylim([0,1])\n",
    "    plt.axvline(x=10, linewidth=2, color='r')\n",
    "    sns.lineplot(data=proba, x=\"Time\", y=\"OD\",err_style=\"band\")\n",
    "    #plt.plot(time, krzywe_Time[column_name])\n",
    "    \n",
    "plt.tight_layout()\n",
    "#f.savefig(\"all_figures.pdf\")"
   ]
  },
  {
   "cell_type": "code",
   "execution_count": null,
   "metadata": {},
   "outputs": [],
   "source": [
    "column_names= krzywe_Time.columns\n",
    "time=krzywe_Time[\"Time\"]\n",
    "\n",
    "f = plt.figure(figsize=(30,30))\n",
    "\n",
    "len(column_names)\n",
    "for siatka_n, column_name in enumerate(column_names[1:]):\n",
    "    plt.subplot(20, 10, siatka_n+1)\n",
    "    plt.title(column_name)\n",
    "#    plt.ylim([0,0.8])\n",
    "    plt.axvline(x=10, linewidth=2, color='r')\n",
    "    plt.plot(time, krzywe_Time[column_name])\n",
    "    \n",
    "plt.tight_layout()\n",
    "#f.savefig(\"all_figures_2.pdf\")"
   ]
  },
  {
   "cell_type": "code",
   "execution_count": null,
   "metadata": {},
   "outputs": [],
   "source": []
  },
  {
   "cell_type": "code",
   "execution_count": null,
   "metadata": {},
   "outputs": [],
   "source": []
  },
  {
   "cell_type": "code",
   "execution_count": null,
   "metadata": {},
   "outputs": [],
   "source": [
    "#nieudane próby przygotowania danych do pyphe"
   ]
  },
  {
   "cell_type": "code",
   "execution_count": null,
   "metadata": {
    "scrolled": true
   },
   "outputs": [],
   "source": [
    "krzywe_Time_without_first_cell = krzywe_Time\n",
    "krzywe_Time_without_first_cell.head()"
   ]
  },
  {
   "cell_type": "code",
   "execution_count": null,
   "metadata": {},
   "outputs": [],
   "source": [
    "kkw = krzywe_Time_without_first_cell.rename(columns={\"Time\": \"\"})\n",
    "kkw.head()"
   ]
  },
  {
   "cell_type": "code",
   "execution_count": null,
   "metadata": {
    "scrolled": true
   },
   "outputs": [],
   "source": [
    "time_as_index = kkw.set_index([1])\n",
    "time_as_index.head()"
   ]
  },
  {
   "cell_type": "code",
   "execution_count": null,
   "metadata": {},
   "outputs": [],
   "source": [
    "kk = time_as_index.rename(index=str, columns={\"Time\": \"\"})\n",
    "kk.head()"
   ]
  },
  {
   "cell_type": "code",
   "execution_count": null,
   "metadata": {},
   "outputs": [],
   "source": []
  },
  {
   "cell_type": "code",
   "execution_count": null,
   "metadata": {},
   "outputs": [],
   "source": []
  },
  {
   "cell_type": "code",
   "execution_count": null,
   "metadata": {},
   "outputs": [],
   "source": []
  },
  {
   "cell_type": "code",
   "execution_count": null,
   "metadata": {},
   "outputs": [],
   "source": []
  },
  {
   "cell_type": "code",
   "execution_count": null,
   "metadata": {},
   "outputs": [],
   "source": []
  },
  {
   "cell_type": "code",
   "execution_count": null,
   "metadata": {},
   "outputs": [],
   "source": []
  },
  {
   "cell_type": "markdown",
   "metadata": {},
   "source": [
    "## Use pyphe-growthcurves module\n",
    "\n",
    "\"pyphe-growthcurves\n",
    "Python module, including command line interface, for on-parametric characterisation of microbial growth curves written by Stephan Kamrad (stephan.kamrad@crick.ac.uk).\n",
    "Source of \" Source and code: https://github.com/Bahler-Lab/pyphe-growthcurves"
   ]
  },
  {
   "cell_type": "code",
   "execution_count": null,
   "metadata": {},
   "outputs": [],
   "source": [
    "pyphe_analysis = pd.read_csv(\"table_without index.csv\", sep = '\\t')\n",
    "pyphe_analysis.head()"
   ]
  },
  {
   "cell_type": "code",
   "execution_count": null,
   "metadata": {
    "scrolled": true
   },
   "outputs": [],
   "source": [
    "#Pyphe growthcurves\n",
    "!python pyphe-growthcurves_3pkt.py --input pyphe_table.csv --plots"
   ]
  },
  {
   "cell_type": "code",
   "execution_count": null,
   "metadata": {},
   "outputs": [],
   "source": []
  },
  {
   "cell_type": "code",
   "execution_count": null,
   "metadata": {},
   "outputs": [],
   "source": []
  },
  {
   "cell_type": "code",
   "execution_count": null,
   "metadata": {
    "scrolled": true
   },
   "outputs": [],
   "source": [
    "wyniki_pyphe_2 = pd.read_csv(\"probna_tabelka_bezczas.csv\", sep = ',')\n",
    "wyniki_pyphe_2.head()\n"
   ]
  },
  {
   "cell_type": "code",
   "execution_count": null,
   "metadata": {},
   "outputs": [],
   "source": [
    "wyniki_pyphe_transposed = wyniki_pyphe.transpose()\n",
    "wyniki_pyphe_transposed.head()"
   ]
  },
  {
   "cell_type": "code",
   "execution_count": null,
   "metadata": {
    "scrolled": true
   },
   "outputs": [],
   "source": [
    "wyniki_pyphe_transposed.reset_index(drop=False)\n",
    "wyniki_pyphe_transposed.head()"
   ]
  },
  {
   "cell_type": "code",
   "execution_count": null,
   "metadata": {},
   "outputs": [],
   "source": []
  },
  {
   "cell_type": "code",
   "execution_count": null,
   "metadata": {},
   "outputs": [],
   "source": []
  },
  {
   "cell_type": "code",
   "execution_count": null,
   "metadata": {},
   "outputs": [],
   "source": [
    "pyphe_wyniki = pd.read_csv(\"Bioscreen_stresy_lagphase_maxslope_short.csv\", sep = '\\t')\n",
    "pyphe_wyniki.head()"
   ]
  },
  {
   "cell_type": "code",
   "execution_count": null,
   "metadata": {},
   "outputs": [],
   "source": [
    "# lagfaza\n",
    "f = plt.figure(figsize=(45,7))\n",
    "sns.boxplot(x=pyphe_wyniki[\"Mutant\"], y=pyphe_wyniki[\"lag\"])\n",
    "f.savefig(\"pyphe_lag_stres_20190517.png\")"
   ]
  },
  {
   "cell_type": "code",
   "execution_count": null,
   "metadata": {},
   "outputs": [],
   "source": [
    "# max_slope\n",
    "f = plt.figure(figsize=(45,7))\n",
    "sns.boxplot(x=pyphe_wyniki[\"Mutant\"], y=pyphe_wyniki[\"max_slope\"])\n",
    "f.savefig(\"pyphe_max_slope_stres_20190517.png\")"
   ]
  },
  {
   "cell_type": "code",
   "execution_count": null,
   "metadata": {
    "scrolled": false
   },
   "outputs": [],
   "source": [
    "new_krzywe_Time_without_first_cell =krzywe_Time_without_first_cell.rename(index=str, columns={\"Time\": \"\"})\n",
    "new_krzywe_Time_without_first_cell.head()"
   ]
  }
 ],
 "metadata": {
  "kernelspec": {
   "display_name": "Python 3",
   "language": "python",
   "name": "python3"
  },
  "language_info": {
   "codemirror_mode": {
    "name": "ipython",
    "version": 3
   },
   "file_extension": ".py",
   "mimetype": "text/x-python",
   "name": "python",
   "nbconvert_exporter": "python",
   "pygments_lexer": "ipython3",
   "version": "3.7.1"
  }
 },
 "nbformat": 4,
 "nbformat_minor": 2
}
