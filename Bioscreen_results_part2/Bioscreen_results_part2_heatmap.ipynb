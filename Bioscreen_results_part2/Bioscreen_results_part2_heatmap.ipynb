{
 "cells": [
  {
   "cell_type": "markdown",
   "metadata": {},
   "source": [
    "# PART 2\n",
    "# Analysis of data obtained from Bioscreen experiment - data frames after pyphe-growthcurves pipeline; Data visualization (Heatmaps)\n",
    "\n",
    "\n",
    "The notebook is a second part of script for analysis the data obtained from Bioscreen or any other multi-well plate experiment. On previous notebook we prepared the data frames with results of the maximum slope and lag phase, according to script described by Stephan Kamrad frim Bahler's Lab.\n",
    "\n",
    "The data frames should be available in folders:\n",
    "\n",
    "                ./Data/Bioscreen_data_YES/\n",
    "                ./Data/Bioscreen_data_EMM/"
   ]
  },
  {
   "cell_type": "code",
   "execution_count": 2,
   "metadata": {},
   "outputs": [],
   "source": [
    "# Import libraries\n",
    "import numpy as np\n",
    "import pandas as pd\n",
    "import seaborn as sns\n",
    "import matplotlib.pyplot as plt\n",
    "import glob\n",
    "\n",
    "%matplotlib inline"
   ]
  },
  {
   "cell_type": "markdown",
   "metadata": {},
   "source": [
    "# ncPAP deletion mutants cultivated in YES supplemented with stressors"
   ]
  },
  {
   "cell_type": "markdown",
   "metadata": {},
   "source": [
    "### Import data"
   ]
  },
  {
   "cell_type": "code",
   "execution_count": 3,
   "metadata": {
    "scrolled": true
   },
   "outputs": [],
   "source": [
    "# YES:\n",
    "path_YES =r'./Data/Bioscreen_data_YES/'\n",
    "filenames_YES = glob.glob(path_YES + \"*.csv\")"
   ]
  },
  {
   "cell_type": "code",
   "execution_count": null,
   "metadata": {},
   "outputs": [],
   "source": [
    "# Import data for YES\n",
    "# We have only one file with results of ncPAP deletion mutants cultivated in YES medium supplemented with stressors\n",
    "\n",
    "YES_1 = pd.read_csv(filenames_YES[0])"
   ]
  },
  {
   "cell_type": "markdown",
   "metadata": {},
   "source": [
    "Now we have new data frames YES_1 and EMM_1-EMM_5."
   ]
  },
  {
   "cell_type": "markdown",
   "metadata": {},
   "source": [
    "# YES medium\n",
    "## Preprocessing of results"
   ]
  },
  {
   "cell_type": "code",
   "execution_count": null,
   "metadata": {},
   "outputs": [],
   "source": [
    "# We have only one file with results of ncPAP deletion mutants cultivated in YES supplemented with stressors\n",
    "# DataFrame: YES_1\n",
    "\n",
    "# Add new column 'Medium':\n",
    "YES_1['Medium'] = 'YES'\n",
    "# Make temporarily a new data frame containing the split value of 'Mutant' column:\n",
    "new = YES_1[\"Mutants\"].str.split(\"_\", n = 1, expand = True) \n",
    "# Add column 'Yeast' from 'new' data frame:\n",
    "YES_1[\"Yeast\"]= new[0] \n",
    "# Delete the rows containing 'Δlsm': \n",
    "YES_1 = YES_1[~YES_1.Mutants.str.contains('Δlsm')] \n",
    "# Add column 'Stress' from 'new' data frame: \n",
    "YES_1[\"Stress\"]= new[1]\n",
    "# Add column '_Medium_Stress':\n",
    "YES_1['Medium_Stress'] = YES_1[['Medium','Stress']].apply(lambda x: '_'.join(x[x.notnull()]), axis = 1)\n",
    "# Save your preprocessed Data Frame:\n",
    "YES_1.to_csv(\"DataFrames/YES_1_preprocessed.csv\")\n",
    "\n",
    "# Check the content of YES_1:\n",
    "#YES_1.head()"
   ]
  },
  {
   "cell_type": "markdown",
   "metadata": {},
   "source": [
    "# YES medium\n",
    "## Make the pivot tables with maximum slope and lag phase"
   ]
  },
  {
   "cell_type": "code",
   "execution_count": null,
   "metadata": {},
   "outputs": [],
   "source": [
    "# Make the pivot tables with maximum slope and lag phase\n",
    "YES_pivot_lagphase = YES_1.pivot_table(index='Yeast', columns='Medium_Stress', values='lag')\n",
    "YES_pivot_maxslope = YES_1.pivot_table(index='Yeast', columns='Medium_Stress', values='max_slope')\n",
    "\n",
    "\n",
    "# Save the pivot tables as csv files: \n",
    "YES_pivot_lagphase.to_csv('DataFrames/YES_pivot_lagphase.csv')\n",
    "YES_pivot_maxslope.to_csv('DataFrames/YES_pivot_maxslope.csv')\n"
   ]
  },
  {
   "cell_type": "code",
   "execution_count": null,
   "metadata": {},
   "outputs": [],
   "source": [
    "# Print the pivot tables (if you want):\n",
    "print(\"results of lag phase:\")\n",
    "print(YES_pivot_lagphase)\n",
    "print(\"\")\n",
    "print(\"\")\n",
    "print(\"results of Maximum slope:\")\n",
    "print(YES_pivot_maxslope)"
   ]
  },
  {
   "cell_type": "markdown",
   "metadata": {},
   "source": [
    "## Normalization of laghase and maximum slope"
   ]
  },
  {
   "cell_type": "code",
   "execution_count": null,
   "metadata": {
    "scrolled": true
   },
   "outputs": [],
   "source": [
    "# Data for each mutant were normalized to growth on media without the stressor (EMM or YES, respectively).\n",
    "\n",
    "# Lag phase\n",
    "YES_lagphase_divirder = YES_pivot_lagphase['YES']\n",
    "YES_lagphase_divirder = YES_lagphase_divirder.transpose()\n",
    "YES_lagphase_after_transpose = YES_pivot_lagphase.transpose()\n",
    "\n",
    "YES_pivot_lagphase_normalized = YES_lagphase_after_transpose/YES_lagphase_divirder\n",
    "YES_pivot_lagphase_normalized = YES_pivot_lagphase_normalized.transpose()\n",
    "\n",
    "\n",
    "# Maximum slope\n",
    "YES_maxslope_divirder = YES_pivot_maxslope['YES']\n",
    "YES_maxslope_divirder = YES_maxslope_divirder.transpose()\n",
    "YES_maxslope_after_transpose = YES_pivot_maxslope.transpose()\n",
    "\n",
    "YES_pivot_maxslope_normalized = YES_maxslope_after_transpose/YES_maxslope_divirder\n",
    "YES_pivot_maxslope_normalized = YES_pivot_maxslope_normalized.transpose()\n",
    "\n",
    "# Save the pivot tables as csv files: \n",
    "YES_pivot_lagphase_normalized.to_csv('DataFrames/YES_pivot_lagphase_normalized.csv')\n",
    "YES_pivot_maxslope_normalized.to_csv('DataFrames/YES_pivot_maxslope_normalized.csv')"
   ]
  },
  {
   "cell_type": "code",
   "execution_count": null,
   "metadata": {},
   "outputs": [],
   "source": [
    "# Print the pivot tables with normalized results (if you want):\n",
    "print(\"Normalized results of lag phase:\")\n",
    "print(YES_pivot_lagphase_normalized)\n",
    "print(\"\")\n",
    "print(\"\")\n",
    "print(\"Normalized results of Maximum slope:\")\n",
    "print(YES_pivot_maxslope_normalized)"
   ]
  },
  {
   "cell_type": "markdown",
   "metadata": {},
   "source": [
    "## YES - Heatmaps preparation"
   ]
  },
  {
   "cell_type": "markdown",
   "metadata": {},
   "source": [
    "### Dobór wielkości czcionki na osiach x i y"
   ]
  },
  {
   "cell_type": "code",
   "execution_count": null,
   "metadata": {},
   "outputs": [],
   "source": [
    "# Helper funtion with interactive widgets to select proper size of labels and title\n",
    "\n",
    "from __future__ import print_function\n",
    "from ipywidgets import interact, interactive, fixed, interact_manual\n",
    "import ipywidgets as widgets\n",
    "\n",
    "@interact\n",
    "def heat_map_fun(label_size=15,title_size=15):\n",
    "    def heat_map_elegant(title,path_to_save,df,cmap='RdYlBu',ylabel='Fission yeast name'):\n",
    "        ax =sns.heatmap(df,cmap=cmap,linewidths=5)\n",
    "        #with sns.axes_style(\"white\"):\n",
    "        #    ax = sns.heatmap(df, vmax=.3, square=True)\n",
    "        fig=ax.figure #wyciagamy dostep do figure\n",
    "        fig.set_size_inches(10,8)\n",
    "        ax.set(title=title,\n",
    "               ylabel=ylabel,\n",
    "              xlabel='Growth medium/ stress conditions',\n",
    "              )\n",
    "        ax.xaxis.label.set_size(label_size)\n",
    "        ax.yaxis.label.set_size(label_size)\n",
    "        ax.title.set_size(title_size)\n",
    "        plt.setp(ax.get_xticklabels(), rotation=45, ha=\"right\",\n",
    "                 rotation_mode=\"anchor\")\n",
    "        plt.setp(ax.get_yticklabels(), rotation=0, ha=\"right\",\n",
    "                 rotation_mode=\"anchor\")\n",
    "\n",
    "        plt.setp(ax.get_yticklabels(), style=\"italic\")    \n",
    "        #fig.savefig(path_to_save+\".pdf\",dpi=150)\n",
    "        #fig.savefig(path_to_save+\".png\",dpi=150)\n",
    "        return ax,fig\n",
    "    return heat_map_elegant(\"The normalized maximum slope of fission yeast in YES\",\n",
    "                            \"Plots_Heatmaps//YES_max_slope_RdYlBu_znormalizowana\",YES_pivot_maxslope_normalized)"
   ]
  },
  {
   "cell_type": "markdown",
   "metadata": {},
   "source": [
    "## Colors of heatmap\n",
    "We used two kinds of colors of cmap:\n",
    "1. 'RdYlBu' for lag phase\n",
    "2. 'RdYlBu_r' ('RdYlBu' with reversed colors) for maximum slope\n",
    "\n",
    "You can find other colors for label here: https://matplotlib.org/examples/color/colormaps_reference.html\n"
   ]
  },
  {
   "cell_type": "code",
   "execution_count": null,
   "metadata": {},
   "outputs": [],
   "source": [
    "# This function reverses the colors of chosen cmap and makes new cmap named \"oldname_r\":\n",
    "\n",
    "reversed('RdYlBu')\n",
    "\n",
    "#Output:\n",
    "#'RdYlBu_r'"
   ]
  },
  {
   "cell_type": "markdown",
   "metadata": {},
   "source": [
    "## Make the heatmaps"
   ]
  },
  {
   "cell_type": "code",
   "execution_count": null,
   "metadata": {},
   "outputs": [],
   "source": [
    "def heat_map_elegant_YES(title,path_to_save,df,cmap,ylabel='Name of ncPAP deletion mutants'):\n",
    "    '''\n",
    "    This function will create a heatmap and save it as pdf and png.\n",
    "    \n",
    "    title: title of plot [string]\n",
    "    path_to_save: path to directory where the heatmap will be saved [string]\n",
    "    df: \n",
    "    \n",
    "    '''\n",
    "    ax =sns.heatmap(df,cmap=cmap,linewidths=1)\n",
    "    #with sns.axes_style(\"white\"):\n",
    "    #    ax = sns.heatmap(df, vmax=.3, square=True)\n",
    "    fig=ax.figure #wyciagamy dostep do figure\n",
    "    fig.set_size_inches(6,9)\n",
    "    ax.set(title=title,\n",
    "           ylabel=ylabel,\n",
    "          xlabel='YES & stress conditions')\n",
    "    ax.xaxis.label.set_size(20)\n",
    "    ax.yaxis.label.set_size(20)\n",
    "    ax.title.set_size(20)\n",
    "    plt.setp(ax.get_xticklabels(), rotation=45, ha=\"right\",\n",
    "             rotation_mode=\"anchor\", fontsize=20)\n",
    "    plt.setp(ax.get_yticklabels(), rotation=0, ha=\"right\",\n",
    "             rotation_mode=\"anchor\", fontsize=20)\n",
    "    \n",
    "    plt.setp(ax.get_yticklabels(), style=\"italic\")   \n",
    "    plt.rcParams.update({'legend.labelspacing':0.25})\n",
    "    fig.tight_layout()\n",
    "\n",
    "    fig.savefig(path_to_save+\".pdf\",dpi=150)\n",
    "    fig.savefig(path_to_save+\".png\",dpi=150)\n",
    "    return ax,fig"
   ]
  },
  {
   "cell_type": "code",
   "execution_count": null,
   "metadata": {
    "scrolled": false
   },
   "outputs": [],
   "source": [
    "# Heatmap of the normalized maximum slope of fission yeast in YES\n",
    "\n",
    "heat_map_elegant_YES(\"The normalized maximum slope of fission yeast in YES\",\n",
    "                     \"Plots_Heatmaps//YES_max_slope_RdYlBu_znormalizowana\",\n",
    "                     YES_pivot_maxslope_normalized,'RdYlBu_r')"
   ]
  },
  {
   "cell_type": "code",
   "execution_count": null,
   "metadata": {},
   "outputs": [],
   "source": [
    "# Heatmap of the normalized lag phase of fission yeast in YES\n",
    "\n",
    "heat_map_elegant_YES(\"The normalized lag phase of fission yeast in YES\",\n",
    "                     \"Plots_Heatmaps//YES_lagphase_RdYlBu_znormalizowana\",\n",
    "                     YES_pivot_lagphase_normalized,'RdYlBu')"
   ]
  },
  {
   "cell_type": "markdown",
   "metadata": {},
   "source": [
    "# EMM medium\n",
    "## Preprocessing of results"
   ]
  },
  {
   "cell_type": "code",
   "execution_count": 8,
   "metadata": {},
   "outputs": [],
   "source": [
    "# Make a path for data and list of files:\n",
    "path_EMM =r'./Data/Bioscreen_data_EMM/'\n",
    "filenames_EMM = glob.glob(path_EMM + \"*.csv\")\n",
    "filenames_EMM_short = filenames_EMM\n"
   ]
  },
  {
   "cell_type": "code",
   "execution_count": 20,
   "metadata": {},
   "outputs": [],
   "source": [
    "import os.path\n",
    "old_names=[os.path.splitext(os.path.basename(name))[0] for name in filenames_EMM]"
   ]
  },
  {
   "cell_type": "code",
   "execution_count": 9,
   "metadata": {},
   "outputs": [],
   "source": [
    "EMM_list=[pd.read_csv(filename_EMM) for filename_EMM in filenames_EMM ]"
   ]
  },
  {
   "cell_type": "code",
   "execution_count": null,
   "metadata": {},
   "outputs": [],
   "source": [
    "list_of_dataframes_EMM = (EMM_1, EMM_2, EMM_3, EMM_4, EMM_5)"
   ]
  },
  {
   "cell_type": "code",
   "execution_count": 10,
   "metadata": {},
   "outputs": [],
   "source": [
    "# We have 5 filse with results of ncPAP deletion mutants cultivated in YES supplemented with stressors\n",
    "# DataFrames: EMM_1 - EMM_5\n",
    "\n",
    "# Please do it only once - the second one will change the output\n",
    "\n",
    "\n",
    "\n",
    "def put_yeast_stress(EMM):\n",
    "    EMM['Medium'] = 'EMM'        #Add new column 'Medium'    \n",
    "    new_i = EMM[\"Mutants\"].str.split(\"_\", n = 1, expand = True)  # Make temporarily 'new' data frame    \n",
    "    EMM[\"Yeast\"]= new_i[0] # Add column 'Yeast' from 'new' data frame    \n",
    "    EMM[\"Stress\"]= new_i[1]  # Add column 'Stress' from 'new' data frame\n",
    "#    i = i[i['Yeast']!='Δlsm'] # Delete the rows containing 'Δlsm'       \n",
    "    EMM['Medium_Stress'] = EMM[['Medium','Stress']].apply(lambda x: '_'.join(x[x.notnull()]),\n",
    "                                                      axis = 1) # Add column '_Medium_Stress'  \n",
    "    \n",
    "    "
   ]
  },
  {
   "cell_type": "code",
   "execution_count": 11,
   "metadata": {},
   "outputs": [],
   "source": [
    "for EMM in EMM_list:\n",
    "    put_yeast_stress(EMM)"
   ]
  },
  {
   "cell_type": "code",
   "execution_count": null,
   "metadata": {},
   "outputs": [],
   "source": []
  },
  {
   "cell_type": "code",
   "execution_count": 22,
   "metadata": {},
   "outputs": [
    {
     "name": "stdout",
     "output_type": "stream",
     "text": [
      "DataFrames/preprocessed_EMM_20190530.csv\n",
      "DataFrames/preprocessed_EMM_20190606.csv\n",
      "DataFrames/preprocessed_EMM_20190624.csv\n",
      "DataFrames/preprocessed_EMM_20190613.csv\n",
      "DataFrames/preprocessed_EMM_20190612.csv\n"
     ]
    }
   ],
   "source": [
    "for old_name,EMM in zip(old_names,EMM_list): # takes a pair one from first one from second list\n",
    "    print(os.path.join(\"DataFrames\",\"preprocessed_%s.csv\" % old_name))\n",
    "    EMM.to_csv(os.path.join(\"DataFrames\",\"preprocessed_%s.csv\" % old_name))"
   ]
  },
  {
   "cell_type": "code",
   "execution_count": 23,
   "metadata": {},
   "outputs": [],
   "source": [
    "lagphase_pivot_EMM_list=[EMM.pivot_table(index='Yeast', columns='Medium_Stress', values='lag')\n",
    "                        for EMM in EMM_list]\n",
    "\n",
    "maxslope_pivot_EMM_list=[EMM.pivot_table(index='Yeast', columns='Medium_Stress', values='max_slope')\n",
    "                        for EMM in EMM_list]"
   ]
  },
  {
   "cell_type": "markdown",
   "metadata": {},
   "source": [
    "lagph"
   ]
  },
  {
   "cell_type": "code",
   "execution_count": 24,
   "metadata": {},
   "outputs": [
    {
     "name": "stdout",
     "output_type": "stream",
     "text": [
      "DataFrames/lagphase_pivot_EMM_20190530.csv\n",
      "DataFrames/lagphase_pivot_EMM_20190606.csv\n",
      "DataFrames/lagphase_pivot_EMM_20190624.csv\n",
      "DataFrames/lagphase_pivot_EMM_20190613.csv\n",
      "DataFrames/lagphase_pivot_EMM_20190612.csv\n"
     ]
    }
   ],
   "source": [
    "for old_name,EMM in zip(old_names, lagphase_pivot_EMM_list):\n",
    "    print(os.path.join(\"DataFrames\",\"lagphase_pivot_%s.csv\" % old_name))\n",
    "    EMM.to_csv(os.path.join(\"DataFrames\",\"lagphase_pivot_%s.csv\" % old_name))"
   ]
  },
  {
   "cell_type": "code",
   "execution_count": 25,
   "metadata": {},
   "outputs": [
    {
     "name": "stdout",
     "output_type": "stream",
     "text": [
      "DataFrames/maxslope_pivot_EMM_20190530.csv\n",
      "DataFrames/maxslope_pivot_EMM_20190606.csv\n",
      "DataFrames/maxslope_pivot_EMM_20190624.csv\n",
      "DataFrames/maxslope_pivot_EMM_20190613.csv\n",
      "DataFrames/maxslope_pivot_EMM_20190612.csv\n"
     ]
    }
   ],
   "source": [
    "for old_name,EMM in zip(old_names, maxslope_pivot_EMM_list):\n",
    "    print(os.path.join(\"DataFrames\",\"maxslope_pivot_%s.csv\" % old_name))\n",
    "    EMM.to_csv(os.path.join(\"DataFrames\",\"maxslope_pivot_%s.csv\" % old_name))"
   ]
  },
  {
   "cell_type": "code",
   "execution_count": null,
   "metadata": {},
   "outputs": [],
   "source": [
    "list_of_laghase_pivot_EMM = (lagphase_pivot_EMM_1,lagphase_pivot_EMM_2,lagphase_pivot_EMM_3,\n",
    "                             lagphase_pivot_EMM_4,lagphase_pivot_EMM_5)\n",
    "\n",
    "list_of_maxslope_pivot_EMM = (maxslope_pivot_EMM_1,lagphase_pivot_EMM_2,lagphase_pivot_EMM_3,\n",
    "                             maxslope_pivot_EMM_4,lagphase_pivot_EMM_5)"
   ]
  },
  {
   "cell_type": "code",
   "execution_count": null,
   "metadata": {},
   "outputs": [],
   "source": [
    "names_of_laghase_pivot_EMM = {\"lagphase_pivot_EMM_1\": lagphase_pivot_EMM_1,\n",
    "                              \"lagphase_pivot_EMM_2\":lagphase_pivot_EMM_2,\n",
    "                              \"lagphase_pivot_EMM_3\":lagphase_pivot_EMM_3,\n",
    "                             \"lagphase_pivot_EMM_4\":lagphase_pivot_EMM_4,\n",
    "                              \"lagphase_pivot_EMM_5\":lagphase_pivot_EMM_5}\n",
    "\n",
    "names_of_maxslope_pivot_EMM = {\"maxslope_pivot_EMM_1\": maxslope_pivot_EMM_1,\n",
    "                              \"maxslope_pivot_EMM_2\":maxslope_pivot_EMM_2,\n",
    "                              \"maxslope_pivot_EMM_3\":maxslope_pivot_EMM_3,\n",
    "                             \"maxslope_pivot_EMM_4\":maxslope_pivot_EMM_4,\n",
    "                              \"maxslope_pivot_EMM_5\":maxslope_pivot_EMM_5}"
   ]
  },
  {
   "cell_type": "code",
   "execution_count": null,
   "metadata": {},
   "outputs": [],
   "source": [
    "list_of_laghase_pivot_EMM[1]"
   ]
  },
  {
   "cell_type": "code",
   "execution_count": null,
   "metadata": {},
   "outputs": [],
   "source": [
    "# Data for each mutant were normalized to growth on media without the stressor (EMM or YES, respectively).\n",
    "\n",
    "# Lag phase\n",
    "for i in list_of_laghase_pivot_EMM:\n",
    "    for number in range (1,5):\n",
    "        lagphase_divider_EMM = i['EMM']\n",
    "        lagphase_divider_EMM[number] = lagphase_divider_EMM[number].transpose()\n",
    "    \n",
    "        lagphase_after_transpose_EMM[number] = i.transpose()\n",
    "        pivot_lagphase_normalized_EMM[number] = lagphase_after_transpose_EMM[number]/lagphase_divider_EMM[number]\n",
    "        pivot_lagphase_normalized_EMM[number] = pivot_lagphase_normalized_EMM[number].transpose()\n",
    "   "
   ]
  },
  {
   "cell_type": "code",
   "execution_count": null,
   "metadata": {},
   "outputs": [],
   "source": [
    " pivot_lagphase_normalized_EMM_2\n",
    "    "
   ]
  },
  {
   "cell_type": "code",
   "execution_count": null,
   "metadata": {},
   "outputs": [],
   "source": [
    "# Data for each mutant were normalized to growth on media without the stressor (EMM or YES, respectively).\n",
    "\n",
    "# Lag phase\n",
    "\n",
    "lagphase_divider_EMM_1 = lagphase_pivot_EMM_1['EMM']\n",
    "lagphase_divider_EMM_1 = lagphase_divider_EMM_1.transpose()\n",
    "lagphase_after_transpose_EMM_1 = lagphase_pivot_EMM_1.transpose()\n",
    "pivot_lagphase_normalized_EMM_1 = lagphase_after_transpose_EMM_1/lagphase_divider_EMM_1\n",
    "pivot_lagphase_normalized_EMM_1 = pivot_lagphase_normalized_EMM_1.transpose()\n",
    "pivot_lagphase_normalized_EMM_1\n",
    "\n",
    "# Maximum slope\n",
    "#YES_maxslope_divider = YES_pivot_maxslope['YES']\n",
    "#YES_maxslope_divider = YES_maxslope_divrder.transpose()\n",
    "#YES_maxslope_after_transpose = YES_pivot_maxslope.transpose()\n",
    "\n",
    "#YES_pivot_maxslope_normalized = YES_maxslope_after_transpose/YES_maxslope_divirder\n",
    "#YES_pivot_maxslope_normalized = YES_pivot_maxslope_normalized.transpose()\n",
    "\n",
    "# Save the pivot tables as csv files: \n",
    "#YES_pivot_lagphase_normalized.to_csv('DataFrames/YES_pivot_lagphase_normalized.csv')\n",
    "#YES_pivot_maxslope_normalized.to_csv('DataFrames/YES_pivot_maxslope_normalized.csv')"
   ]
  },
  {
   "cell_type": "code",
   "execution_count": null,
   "metadata": {},
   "outputs": [],
   "source": [
    "pivot_lagphase_normalized_EMM_1"
   ]
  },
  {
   "cell_type": "code",
   "execution_count": null,
   "metadata": {},
   "outputs": [],
   "source": []
  },
  {
   "cell_type": "code",
   "execution_count": null,
   "metadata": {},
   "outputs": [],
   "source": []
  },
  {
   "cell_type": "code",
   "execution_count": null,
   "metadata": {},
   "outputs": [],
   "source": [
    "# normalizacja laghase i maxslope - dzielę wyniki dla stresów przez wyniki dla samej pożywki\n",
    "\n",
    "# Lagfaza\n",
    "dzielnik_lagphase = lag_pivot_EMM['EMM']\n",
    "dzielnik_lagphase = dzielnik_lagphase.transpose()\n",
    "\n",
    "Lag_po_transpozycji = lag_pivot_EMM.transpose()\n",
    "\n",
    "normalized_lagphase_EMM_pivot = Lag_po_transpozycji/dzielnik_lagphase\n",
    "\n",
    "\n",
    "\n",
    "\n",
    "# maxslope\n",
    "dzielnik_maxslope = maxslope_pivot_EMM['EMM']\n",
    "dzielnik_maxslope = dzielnik_maxslope.transpose()\n",
    "\n",
    "maxslope_po_transpozycji1 = maxslope_pivot_EMM.transpose()\n",
    "\n",
    "normalized_maxslope_EMM_pivot = maxslope_po_transpozycji1/dzielnik_maxslope\n",
    "\n",
    "\n",
    "# zapisuje wyniki jako obiekty dla konkternej daty w formacie DDMMRRRR\n",
    "normalized_lagphase_EMM_pivot_24062019 = normalized_lagphase_EMM_pivot\n",
    "normalized_maxslope_EMM_pivot_24062019 = normalized_maxslope_EMM_pivot\n",
    "\n",
    "# mam przygotowane pivot tables dla YES - lagphase and maxslope osobno\n",
    "\n",
    "# Tutaj podglądam moje nowe znowrmalizowane pivot tables:\n",
    "print(\"Normalized results of lag phase:\")\n",
    "print(normalized_lagphase_EMM_pivot)\n",
    "print(\"\")\n",
    "print(\"\")\n",
    "print(\"Normalized results of Maximum slope:\")\n",
    "print(normalized_maxslope_EMM_pivot)"
   ]
  },
  {
   "cell_type": "markdown",
   "metadata": {},
   "source": [
    "### Join pivot tables (lag phase and maxslope separately) after all of EMM experiments together"
   ]
  },
  {
   "cell_type": "code",
   "execution_count": null,
   "metadata": {},
   "outputs": [],
   "source": [
    "#LAG PHASE\n",
    "\n",
    "frames_lagphase_EMM = [normalized_lagphase_EMM_pivot_30052019,\n",
    "                       normalized_lagphase_EMM_pivot_06062019, normalized_lagphase_EMM_pivot_12062019, \n",
    "                       normalized_lagphase_EMM_pivot_13062019,normalized_lagphase_EMM_pivot_24062019]\n",
    "\n",
    "joined_frames_lagphase_EMM = pd.concat(frames_lagphase_EMM)"
   ]
  },
  {
   "cell_type": "code",
   "execution_count": null,
   "metadata": {},
   "outputs": [],
   "source": [
    "#LAG PHASE\n",
    "\n",
    "frames_maxslope_EMM = [normalized_maxslope_EMM_pivot_30052019,\n",
    "                       normalized_maxslope_EMM_pivot_06062019, normalized_maxslope_EMM_pivot_12062019, \n",
    "                       normalized_maxslope_EMM_pivot_13062019,normalized_maxslope_EMM_pivot_24062019]\n",
    "\n",
    "joined_frames_maxslope_EMM = pd.concat(frames_maxslope_EMM )\n",
    "joined_frames_maxslope_EMM\n"
   ]
  },
  {
   "cell_type": "code",
   "execution_count": null,
   "metadata": {},
   "outputs": [],
   "source": []
  },
  {
   "cell_type": "code",
   "execution_count": null,
   "metadata": {},
   "outputs": [],
   "source": [
    "#imporp do csv\n",
    "\n",
    "joined_frames_maxslope_EMM.to_csv('joined_frames_maxslope_EMM.csv')\n",
    "joined_frames_lagphase_EMM.to_csv('joined_frames_lagphase_EMM.csv')\n",
    "\n",
    "# w plikach ręcznie :( wywalam dislsm i lsm oraz powtórki EMM"
   ]
  },
  {
   "cell_type": "code",
   "execution_count": null,
   "metadata": {},
   "outputs": [],
   "source": []
  },
  {
   "cell_type": "markdown",
   "metadata": {},
   "source": [
    "# Mogę puścić kod od tego momentu - mam wygenerowany plik csv"
   ]
  },
  {
   "cell_type": "code",
   "execution_count": null,
   "metadata": {},
   "outputs": [],
   "source": [
    "results_EMM_all_lag = pd.read_csv('joined_frames_lagphase_EMM.csv')\n",
    "results_EMM_all_maxslope = pd.read_csv('joined_frames_maxslope_EMM.csv')\n",
    "\n",
    "\n",
    "results_EMM_all_maxslope = results_EMM_all_maxslope.set_index('Medium_Stress')\n",
    "results_EMM_all_lag = results_EMM_all_lag.set_index('Medium_Stress')"
   ]
  },
  {
   "cell_type": "code",
   "execution_count": null,
   "metadata": {},
   "outputs": [],
   "source": [
    "results_EMM_all_maxslope = results_EMM_all_maxslope.transpose()\n",
    "results_EMM_all_lag = results_EMM_all_lag.transpose()"
   ]
  },
  {
   "cell_type": "code",
   "execution_count": null,
   "metadata": {},
   "outputs": [],
   "source": [
    "results_EMM_all_lag"
   ]
  },
  {
   "cell_type": "code",
   "execution_count": null,
   "metadata": {
    "scrolled": true
   },
   "outputs": [],
   "source": [
    "results_EMM_all_maxslope"
   ]
  },
  {
   "cell_type": "code",
   "execution_count": null,
   "metadata": {},
   "outputs": [],
   "source": [
    "maxslope_pivot_YES"
   ]
  },
  {
   "cell_type": "markdown",
   "metadata": {},
   "source": [
    "## Tutaj mam poprawnie zrobione heatmapy EMM - do czyszczenia\n",
    "\n",
    "#### ładuję pliki \n",
    "    results_EMM_all_lag\n",
    "    results_EMM_all_maxslope"
   ]
  },
  {
   "cell_type": "code",
   "execution_count": null,
   "metadata": {},
   "outputs": [],
   "source": [
    "results_EMM_all_lag"
   ]
  },
  {
   "cell_type": "code",
   "execution_count": null,
   "metadata": {},
   "outputs": [],
   "source": [
    "#heatmap maxslope EMM\n",
    "\n",
    "\n",
    "df = results_EMM_all_maxslope\n",
    "fig, ax = plt.subplots(figsize=a4_dims)\n",
    "plt.fontsize=20\n",
    "#plt.xlim([0,8])\n",
    "#plt.ylim([0.01,150])\n",
    "plt.xticks(fontsize=18, rotation=90)\n",
    "plt.yticks(fontsize=18)\n",
    "plt.setp(ax.get_xticklabels(), rotation=45, ha=\"right\",\n",
    "             rotation_mode=\"anchor\")\n",
    "#plt.legend(loc=2, prop={'size': 6})\n",
    "plt.title(\"The maximum slope of the growth curve of ncPAP deletion mutants in EMM medium\", fontsize=20)\n",
    "plt.xlabel(\"Medium & stress conditions\",fontsize=20)\n",
    "plt.ylabel(\"Deletion mutants\",fontsize=20)\n",
    "#plt =sns.heatmap(df,cmap=plt.cm.RdYlBu)\n",
    "#with sns.axes_style(\"white\"):\n",
    "#    ax = sns.heatmap(df, vmax=.3, square=True)\n",
    "\n",
    "plt.savefig(\"EMM_max_slope_RdYlBu_znormalizowana.pdf\")\n",
    "plt.savefig(\"EMM_max_slope_RdYlBu_znormalizowana.png\")"
   ]
  },
  {
   "cell_type": "code",
   "execution_count": null,
   "metadata": {},
   "outputs": [],
   "source": [
    "\n",
    "from __future__ import print_function\n",
    "from ipywidgets import interact, interactive, fixed, interact_manual\n",
    "import ipywidgets as widgets\n",
    "\n",
    "@interact\n",
    "def heat_map_fun(label_size=15,title_size=15):\n",
    "    def heat_map_elegant(title,path_to_save,df,cmap='RdYlBu',ylabel='Fission yeast name'):\n",
    "        ax =sns.heatmap(df,cmap=cmap,linewidths=5)\n",
    "        #with sns.axes_style(\"white\"):\n",
    "        #    ax = sns.heatmap(df, vmax=.3, square=True)\n",
    "        fig=ax.figure #wyciagamy dostep do figure\n",
    "        fig.set_size_inches(10,8)\n",
    "        ax.set(title=title,\n",
    "               ylabel=ylabel,\n",
    "              xlabel='Growth medium/ stress conditions',\n",
    "              )\n",
    "        ax.xaxis.label.set_size(label_size)\n",
    "        ax.yaxis.label.set_size(label_size)\n",
    "        ax.title.set_size(title_size)\n",
    "        plt.setp(ax.get_xticklabels(), rotation=45, ha=\"right\",\n",
    "                 rotation_mode=\"anchor\")\n",
    "        plt.setp(ax.get_yticklabels(), rotation=0, ha=\"right\",\n",
    "                 rotation_mode=\"anchor\")\n",
    "\n",
    "        plt.setp(ax.get_yticklabels(), style=\"italic\")    \n",
    "        #fig.savefig(path_to_save+\".pdf\",dpi=150)\n",
    "        #fig.savefig(path_to_save+\".png\",dpi=150)\n",
    "        return ax,fig\n",
    "    return heat_map_elegant(\"EMM_max_slope_RdYlBu_znormalizowana\",\"ploty/EMM_max_slope_RdYlBu_znormalizowana\",results_EMM_all_lag)"
   ]
  },
  {
   "cell_type": "code",
   "execution_count": null,
   "metadata": {},
   "outputs": [],
   "source": [
    "def heat_map_elegant(title,path_to_save,df,cmap='RdYlBu_r',ylabel='Name of ncPAP deletion mutants'):\n",
    "    ax =sns.heatmap(df,cmap=cmap,linewidths=1)\n",
    "    #with sns.axes_style(\"white\"):\n",
    "    #    ax = sns.heatmap(df, vmax=.3, square=True)\n",
    "    fig=ax.figure #wyciagamy dostep do figure\n",
    "    fig.set_size_inches(5,5.9)\n",
    "    ax.set(title=title,\n",
    "           ylabel=ylabel,\n",
    "          xlabel='EMM & stress conditions')\n",
    "    ax.xaxis.label.set_size(20)\n",
    "    ax.yaxis.label.set_size(20)\n",
    "    ax.title.set_size(20)\n",
    "    plt.setp(ax.get_xticklabels(), rotation=45, ha=\"right\",\n",
    "             rotation_mode=\"anchor\", fontsize=20)\n",
    "    plt.setp(ax.get_yticklabels(), rotation=0, ha=\"right\",\n",
    "             rotation_mode=\"anchor\", fontsize=20)\n",
    "    \n",
    "    plt.setp(ax.get_yticklabels(), style=\"italic\")   \n",
    "    plt.rcParams.update({'legend.labelspacing':0.25})\n",
    "    fig.tight_layout()\n",
    "\n",
    "    fig.savefig(path_to_save+\".pdf\",dpi=150)\n",
    "    fig.savefig(path_to_save+\".png\",dpi=150)\n",
    "    return ax,fig\n",
    "\n",
    "#ax,fig=heat_map_elegant(\"EMM_max_slope_RdYlBu_znormalizowana\",\"ploty/EMM_max_slope_RdYlBu_znormalizowana\",df);"
   ]
  },
  {
   "cell_type": "code",
   "execution_count": null,
   "metadata": {},
   "outputs": [],
   "source": [
    "ax,fig=heat_map_elegant(\"The normalized maximum slope of fission yeast in EMM medium\",\n",
    "                        \"ploty/EMM_maxslope_LL\",results_EMM_all_maxslope);"
   ]
  },
  {
   "cell_type": "code",
   "execution_count": null,
   "metadata": {},
   "outputs": [],
   "source": [
    "# odwraca kolory w wybramej cmap i tworzy nowy cmap o nazwie \"staranazwa_r\"\n",
    "reversed('RdYlBu')"
   ]
  },
  {
   "cell_type": "code",
   "execution_count": null,
   "metadata": {},
   "outputs": [],
   "source": [
    "def heat_map_elegant_YES(title,path_to_save,df,cmap='RdYlBu_r',ylabel='Fission yeast name'):\n",
    "    ax =sns.heatmap(df,cmap=cmap,linewidths=1)\n",
    "    #with sns.axes_style(\"white\"):\n",
    "    #    ax = sns.heatmap(df, vmax=.3, square=True)\n",
    "    fig=ax.figure #wyciagamy dostep do figure\n",
    "    fig.set_size_inches(5.5,9)\n",
    "    ax.set(title=title,\n",
    "           ylabel=ylabel,\n",
    "          xlabel='YES & stress conditions')\n",
    "    ax.xaxis.label.set_size(20)\n",
    "    ax.yaxis.label.set_size(20)\n",
    "    ax.title.set_size(20)\n",
    "    plt.setp(ax.get_xticklabels(), rotation=45, ha=\"right\",\n",
    "             rotation_mode=\"anchor\", fontsize=20)\n",
    "    plt.setp(ax.get_yticklabels(), rotation=0, ha=\"right\",\n",
    "             rotation_mode=\"anchor\", fontsize=20)\n",
    "    \n",
    "    plt.setp(ax.get_yticklabels(), style=\"italic\")   \n",
    "    plt.rcParams.update({'legend.labelspacing':0.25})\n",
    "    fig.tight_layout()\n",
    "\n",
    "    fig.savefig(path_to_save+\".pdf\",dpi=150)\n",
    "    fig.savefig(path_to_save+\".png\",dpi=150)\n",
    "    return ax,fig"
   ]
  },
  {
   "cell_type": "code",
   "execution_count": null,
   "metadata": {
    "scrolled": true
   },
   "outputs": [],
   "source": [
    "ax,fig=heat_map_elegant(\"The normalized Lag phase of fission yeast in EMM medium\",\n",
    "                        \"ploty/EMM_lagphase_LL\",df_yes_maxslope);"
   ]
  },
  {
   "cell_type": "code",
   "execution_count": null,
   "metadata": {},
   "outputs": [],
   "source": [
    "def heat_map_elegant_YES(title,path_to_save,df,cmap='RdYlBu_r',ylabel='Fission yeast name'):\n",
    "    ax =sns.heatmap(df,cmap=cmap,linewidths=1)\n",
    "    #with sns.axes_style(\"white\"):\n",
    "    #    ax = sns.heatmap(df, vmax=.3, square=True)\n",
    "    fig=ax.figure #wyciagamy dostep do figure\n",
    "    fig.set_size_inches(5.5,9)\n",
    "    ax.set(title=title,\n",
    "           ylabel=ylabel,\n",
    "          xlabel='YES & stress conditions')\n",
    "    ax.xaxis.label.set_size(20)\n",
    "    ax.yaxis.label.set_size(20)\n",
    "    ax.title.set_size(20)\n",
    "    plt.setp(ax.get_xticklabels(), rotation=45, ha=\"right\",\n",
    "             rotation_mode=\"anchor\", fontsize=20)\n",
    "    plt.setp(ax.get_yticklabels(), rotation=0, ha=\"right\",\n",
    "             rotation_mode=\"anchor\", fontsize=20)\n",
    "    \n",
    "    plt.setp(ax.get_yticklabels(), style=\"italic\")   \n",
    "    plt.rcParams.update({'legend.labelspacing':0.25})\n",
    "    fig.tight_layout()\n",
    "\n",
    "    fig.savefig(path_to_save+\".pdf\",dpi=150)\n",
    "    fig.savefig(path_to_save+\".png\",dpi=150)\n",
    "    return ax,fig\n",
    "\n",
    "#ax,fig=heat_map_elegant(\"EMM_max_slope_RdYlBu_znormalizowana\",\"ploty/EMM_max_slope_RdYlBu_znormalizowana\",df)"
   ]
  },
  {
   "cell_type": "code",
   "execution_count": null,
   "metadata": {},
   "outputs": [],
   "source": [
    "#YES\n",
    "df_yes_lagphase = normalized_lagphase_YES_pivot.transpose()\n",
    "df_yes_maxslope = normalized_maxslope_YES_pivot.transpose()\n"
   ]
  },
  {
   "cell_type": "code",
   "execution_count": null,
   "metadata": {},
   "outputs": [],
   "source": [
    "ax,fig=heat_map_elegant_YES(\"The normalized maximum slope of fission yeast in YES medium\",\n",
    "                        \"ploty/YES_maxslope_LL\",df);"
   ]
  },
  {
   "cell_type": "code",
   "execution_count": null,
   "metadata": {},
   "outputs": [],
   "source": [
    "#YES\n",
    "\n",
    "ax,fig=heat_map_elegant(\"The normalized maximum slope \\n of fission yeast in YES medium\",\n",
    "                        \"ploty/YES_maxslope_LL\",normalized_maxslope_YES_pivot)"
   ]
  },
  {
   "cell_type": "code",
   "execution_count": null,
   "metadata": {},
   "outputs": [],
   "source": [
    "ax,fig=heat_map_elegant_YES(\"The normalized Lag phase \\n of fission yeast in YES medium\",\n",
    "                        \"ploty/YES_lagphase_LL\",df_yes_lagphase);"
   ]
  },
  {
   "cell_type": "code",
   "execution_count": null,
   "metadata": {},
   "outputs": [],
   "source": []
  },
  {
   "cell_type": "code",
   "execution_count": null,
   "metadata": {
    "scrolled": true
   },
   "outputs": [],
   "source": [
    "ax.get_label"
   ]
  },
  {
   "cell_type": "code",
   "execution_count": null,
   "metadata": {},
   "outputs": [],
   "source": [
    "ax.figure.get_children()"
   ]
  },
  {
   "cell_type": "code",
   "execution_count": null,
   "metadata": {},
   "outputs": [],
   "source": [
    "fig.artists"
   ]
  },
  {
   "cell_type": "code",
   "execution_count": null,
   "metadata": {
    "scrolled": true
   },
   "outputs": [],
   "source": [
    "sns.heatmap(results_EMM_all_maxslope, cmap='RdYlBu')"
   ]
  },
  {
   "cell_type": "code",
   "execution_count": null,
   "metadata": {},
   "outputs": [],
   "source": [
    "results_EMM_all_maxslope"
   ]
  },
  {
   "cell_type": "code",
   "execution_count": null,
   "metadata": {
    "scrolled": true
   },
   "outputs": [],
   "source": [
    "sns.heatmap(results_EMM_all_lag, cmap='RdYlBu')"
   ]
  },
  {
   "cell_type": "markdown",
   "metadata": {},
   "source": [
    "# Nieudane próby modyfikacji heatmapy"
   ]
  },
  {
   "cell_type": "code",
   "execution_count": null,
   "metadata": {},
   "outputs": [],
   "source": [
    "#heatmap lagphase\n",
    "\n",
    "fig, ax = plt.subplots()\n",
    "#im = ax.imshow(harvest)\n",
    "ax.fontsize=20\n",
    "#plt.xlim([0,8])\n",
    "#plt.ylim([0.01,150])\n",
    "plt.xticks(fontsize=18, rotation=90)\n",
    "plt.yticks(fontsize=18)\n",
    "plt.setp(ax.get_xticklabels(), rotation=45, ha=\"right\",\n",
    "             rotation_mode=\"anchor\")\n",
    "#plt.legend(loc=2, prop={'size': 6})\n",
    "plt.title(\"Survival of ncPAP deletion mutants in EMM medium\", fontsize=20)\n",
    "plt.xlabel(\"Stress conditions\",fontsize=20)\n",
    "plt.ylabel(\"Deletion mutants\",fontsize=20)\n",
    "plt.setp(ax.get_xticklabels(), rotation=45, ha=\"right\",\n",
    "         rotation_mode=\"anchor\")\n",
    "\n",
    "plt =sns.heatmap(results_EMM_all_lag, cmap='Spectral')\n",
    "#with sns.axes_style(\"white\"):\n",
    "#    ax = sns.heatmap(df, vmax=.3, square=True)\n",
    "plt.tight_layout()\n",
    "plt.savefig(\"EMM_lag_Spectral_znormalizowana.pdf\")\n",
    "plt.savefig(\"EMM_lag_Spectral_znormalizowana.png\")"
   ]
  },
  {
   "cell_type": "code",
   "execution_count": null,
   "metadata": {},
   "outputs": [],
   "source": []
  }
 ],
 "metadata": {
  "kernelspec": {
   "display_name": "Python 3",
   "language": "python",
   "name": "python3"
  },
  "language_info": {
   "codemirror_mode": {
    "name": "ipython",
    "version": 3
   },
   "file_extension": ".py",
   "mimetype": "text/x-python",
   "name": "python",
   "nbconvert_exporter": "python",
   "pygments_lexer": "ipython3",
   "version": "3.7.1"
  }
 },
 "nbformat": 4,
 "nbformat_minor": 2
}
