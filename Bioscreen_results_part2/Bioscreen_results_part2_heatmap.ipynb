{
 "cells": [
  {
   "cell_type": "markdown",
   "metadata": {},
   "source": [
    "# PART 2\n",
    "\n",
    "# Analysis of data from data frames after usage of pyphe-growthcurves pipeline; Data visualization (Heatmaps)\n",
    "\n",
    "\n",
    "The notebook is a second part of script for analysis the data obtained from Bioscreen or any other multi-well plate experiment. On previous notebook we prepared the data frames with results of the maximum slope and lag phase, according to script described by Stephan Kamrad frim Bahler's Lab.\n",
    "\n",
    "The data frames should be available in folders:\n",
    "\n",
    "                ./Data/Bioscreen_data_YES/\n",
    "                ./Data/Bioscreen_data_EMM/"
   ]
  },
  {
   "cell_type": "code",
   "execution_count": 2,
   "metadata": {},
   "outputs": [],
   "source": [
    "# Import libraries\n",
    "import numpy as np\n",
    "import pandas as pd\n",
    "import seaborn as sns\n",
    "import matplotlib.pyplot as plt\n",
    "import glob\n",
    "\n",
    "%matplotlib inline"
   ]
  },
  {
   "cell_type": "markdown",
   "metadata": {},
   "source": [
    "#### Let's create new directories"
   ]
  },
  {
   "cell_type": "code",
   "execution_count": null,
   "metadata": {},
   "outputs": [],
   "source": [
    "!mkdir DataFrames # Directory for saving new data frames\n",
    "!mkdir Heatmaps # Directory for saving the plots/heatmaps"
   ]
  },
  {
   "cell_type": "markdown",
   "metadata": {},
   "source": [
    "# the mutants cultivated in YES supplemented with stressors"
   ]
  },
  {
   "cell_type": "markdown",
   "metadata": {},
   "source": [
    "### Import data"
   ]
  },
  {
   "cell_type": "code",
   "execution_count": 22,
   "metadata": {},
   "outputs": [],
   "source": [
    "# YES:\n",
    "path_YES =r'./Example_data/Bioscreen_data_YES/'\n",
    "filenames_YES = glob.glob(path_YES + \"*.csv\")"
   ]
  },
  {
   "cell_type": "code",
   "execution_count": 25,
   "metadata": {},
   "outputs": [],
   "source": [
    "import os.path\n",
    "old_names=[os.path.splitext(os.path.basename(name))[0] for name in filenames_YES]"
   ]
  },
  {
   "cell_type": "code",
   "execution_count": 26,
   "metadata": {},
   "outputs": [],
   "source": [
    "YES_list=[pd.read_csv(filename_YES) for filename_YES in filenames_YES]"
   ]
  },
  {
   "cell_type": "markdown",
   "metadata": {},
   "source": [
    "# YES medium\n",
    "## Preprocessing of results"
   ]
  },
  {
   "cell_type": "code",
   "execution_count": 36,
   "metadata": {},
   "outputs": [],
   "source": [
    "# We have the example files with results of the mutants cultivated in YES supplemented with stressors\n",
    "\n",
    "def put_yeast_stress(YES):\n",
    "    YES['Medium'] = 'YES'        #Add new column 'Medium'    \n",
    "    new_i = YES[\"Mutants\"].str.split(\"_\", n = 1, expand = True)  # Make temporarily 'new' data frame    \n",
    "    YES[\"Yeast\"]= new_i[0] # Add column 'Yeast' from 'new' data frame    \n",
    "    YES[\"Stress\"]= new_i[1]  # Add column 'Stress' from 'new' data frame   \n",
    "    YES['Medium_Stress'] = YES[['Medium','Stress']].apply(lambda x: '_'.join(x[x.notnull()]),\n",
    "                                                      axis = 1) # Add column '_Medium_Stress'  \n",
    "   "
   ]
  },
  {
   "cell_type": "code",
   "execution_count": 37,
   "metadata": {},
   "outputs": [],
   "source": [
    "for YES in YES_list:\n",
    "    put_yeast_stress(YES)"
   ]
  },
  {
   "cell_type": "code",
   "execution_count": 39,
   "metadata": {
    "scrolled": false
   },
   "outputs": [
    {
     "name": "stdout",
     "output_type": "stream",
     "text": [
      "DataFrames/preprocessed_YES_20190601.csv\n",
      "DataFrames/preprocessed_YES_20190602.csv\n"
     ]
    }
   ],
   "source": [
    "for old_name,YES in zip(old_names,YES_list): # takes a pair one from first one from second list\n",
    "    print(os.path.join(\"DataFrames\",\"preprocessed_%s.csv\" % old_name))\n",
    "    YES.to_csv(os.path.join(\"DataFrames\",\"preprocessed_%s.csv\" % old_name))"
   ]
  },
  {
   "cell_type": "markdown",
   "metadata": {},
   "source": [
    "### Make the pivot tables with maximum slope and lag phase"
   ]
  },
  {
   "cell_type": "code",
   "execution_count": 40,
   "metadata": {},
   "outputs": [],
   "source": [
    "lagphase_pivot_YES_list=[YES.pivot_table(index='Yeast', columns='Medium_Stress', values='lag')\n",
    "                        for YES in YES_list]\n",
    "\n",
    "maxslope_pivot_YES_list=[YES.pivot_table(index='Yeast', columns='Medium_Stress', values='max_slope')\n",
    "                        for YES in YES_list]"
   ]
  },
  {
   "cell_type": "code",
   "execution_count": 41,
   "metadata": {},
   "outputs": [
    {
     "name": "stdout",
     "output_type": "stream",
     "text": [
      "DataFrames/lagphase_pivot_YES_20190601.csv\n",
      "DataFrames/lagphase_pivot_YES_20190602.csv\n"
     ]
    }
   ],
   "source": [
    "for old_name,YES in zip(old_names, lagphase_pivot_YES_list):\n",
    "    print(os.path.join(\"DataFrames\",\"lagphase_pivot_%s.csv\" % old_name))\n",
    "    YES.to_csv(os.path.join(\"DataFrames\",\"lagphase_pivot_%s.csv\" % old_name))"
   ]
  },
  {
   "cell_type": "markdown",
   "metadata": {},
   "source": [
    "### Results of lag phase and maximum slope before normalization"
   ]
  },
  {
   "cell_type": "code",
   "execution_count": null,
   "metadata": {},
   "outputs": [],
   "source": [
    "# Print the pivot tables (if you want):\n",
    "print(\"results of lag phase:\")\n",
    "print(lagphase_pivot_YES_list)\n",
    "print(\"\")\n",
    "print(\"\")\n",
    "print(\"results of Maximum slope:\")\n",
    "print(maxslope_pivot_YES_list)"
   ]
  },
  {
   "cell_type": "markdown",
   "metadata": {},
   "source": [
    "### Normalization of laghase and maximum slope"
   ]
  },
  {
   "cell_type": "code",
   "execution_count": 67,
   "metadata": {},
   "outputs": [
    {
     "data": {
      "text/plain": [
       "[Medium_Stress     YES  YES_etOH10%  YES_etOH5%  YES_heat40C10min\n",
       " Yeast                                                           \n",
       " WT             8.1250    20.937500     10.0000            8.4375\n",
       " mutant1        8.1250    23.750000     10.9375            8.7500\n",
       " mutant11       7.1875    17.500000      9.3750            6.8750\n",
       " mutant13       6.8750    21.666667      8.7500            6.8750\n",
       " mutant16       7.5000    21.250000     10.0000            8.4375\n",
       " mutant32       8.4375    25.625000     12.1875            7.8125,\n",
       " Medium_Stress     YES  YES_etOH15%  YES_etOH20%  YES_heat40C20min\n",
       " Yeast                                                            \n",
       " WT             8.1250      10.0000    20.937500            8.4375\n",
       " mutant1        8.1250      10.9375    23.750000            8.7500\n",
       " mutant11       7.1875       9.3750    17.500000            6.8750\n",
       " mutant13       6.8750       8.7500    21.666667            6.8750\n",
       " mutant16       7.5000      10.0000    21.250000            8.4375\n",
       " mutant32       8.4375      12.1875    25.625000            7.8125]"
      ]
     },
     "execution_count": 67,
     "metadata": {},
     "output_type": "execute_result"
    }
   ],
   "source": [
    "lagphase_pivot_YES_list"
   ]
  },
  {
   "cell_type": "code",
   "execution_count": 70,
   "metadata": {
    "scrolled": true
   },
   "outputs": [
    {
     "ename": "ValueError",
     "evalue": "setting an array element with a sequence.",
     "output_type": "error",
     "traceback": [
      "\u001b[0;31m---------------------------------------------------------------------------\u001b[0m",
      "\u001b[0;31mKeyError\u001b[0m                                  Traceback (most recent call last)",
      "\u001b[0;32m~/anaconda3/envs/dm4/lib/python3.7/site-packages/pandas/core/series.py\u001b[0m in \u001b[0;36m_set_with_engine\u001b[0;34m(self, key, value)\u001b[0m\n\u001b[1;32m   1045\u001b[0m         \u001b[0;32mtry\u001b[0m\u001b[0;34m:\u001b[0m\u001b[0;34m\u001b[0m\u001b[0;34m\u001b[0m\u001b[0m\n\u001b[0;32m-> 1046\u001b[0;31m             \u001b[0mself\u001b[0m\u001b[0;34m.\u001b[0m\u001b[0mindex\u001b[0m\u001b[0;34m.\u001b[0m\u001b[0m_engine\u001b[0m\u001b[0;34m.\u001b[0m\u001b[0mset_value\u001b[0m\u001b[0;34m(\u001b[0m\u001b[0mvalues\u001b[0m\u001b[0;34m,\u001b[0m \u001b[0mkey\u001b[0m\u001b[0;34m,\u001b[0m \u001b[0mvalue\u001b[0m\u001b[0;34m)\u001b[0m\u001b[0;34m\u001b[0m\u001b[0;34m\u001b[0m\u001b[0m\n\u001b[0m\u001b[1;32m   1047\u001b[0m             \u001b[0;32mreturn\u001b[0m\u001b[0;34m\u001b[0m\u001b[0;34m\u001b[0m\u001b[0m\n",
      "\u001b[0;32mpandas/_libs/index.pyx\u001b[0m in \u001b[0;36mpandas._libs.index.IndexEngine.set_value\u001b[0;34m()\u001b[0m\n",
      "\u001b[0;32mpandas/_libs/index.pyx\u001b[0m in \u001b[0;36mpandas._libs.index.IndexEngine.set_value\u001b[0;34m()\u001b[0m\n",
      "\u001b[0;32mpandas/_libs/index.pyx\u001b[0m in \u001b[0;36mpandas._libs.index.IndexEngine.get_loc\u001b[0;34m()\u001b[0m\n",
      "\u001b[0;32mpandas/_libs/hashtable_class_helper.pxi\u001b[0m in \u001b[0;36mpandas._libs.hashtable.PyObjectHashTable.get_item\u001b[0;34m()\u001b[0m\n",
      "\u001b[0;32mpandas/_libs/hashtable_class_helper.pxi\u001b[0m in \u001b[0;36mpandas._libs.hashtable.PyObjectHashTable.get_item\u001b[0;34m()\u001b[0m\n",
      "\u001b[0;31mKeyError\u001b[0m: 1",
      "\nDuring handling of the above exception, another exception occurred:\n",
      "\u001b[0;31mKeyError\u001b[0m                                  Traceback (most recent call last)",
      "\u001b[0;32m~/anaconda3/envs/dm4/lib/python3.7/site-packages/pandas/core/indexes/base.py\u001b[0m in \u001b[0;36mget_loc\u001b[0;34m(self, key, method, tolerance)\u001b[0m\n\u001b[1;32m   2656\u001b[0m             \u001b[0;32mtry\u001b[0m\u001b[0;34m:\u001b[0m\u001b[0;34m\u001b[0m\u001b[0;34m\u001b[0m\u001b[0m\n\u001b[0;32m-> 2657\u001b[0;31m                 \u001b[0;32mreturn\u001b[0m \u001b[0mself\u001b[0m\u001b[0;34m.\u001b[0m\u001b[0m_engine\u001b[0m\u001b[0;34m.\u001b[0m\u001b[0mget_loc\u001b[0m\u001b[0;34m(\u001b[0m\u001b[0mkey\u001b[0m\u001b[0;34m)\u001b[0m\u001b[0;34m\u001b[0m\u001b[0;34m\u001b[0m\u001b[0m\n\u001b[0m\u001b[1;32m   2658\u001b[0m             \u001b[0;32mexcept\u001b[0m \u001b[0mKeyError\u001b[0m\u001b[0;34m:\u001b[0m\u001b[0;34m\u001b[0m\u001b[0;34m\u001b[0m\u001b[0m\n",
      "\u001b[0;32mpandas/_libs/index.pyx\u001b[0m in \u001b[0;36mpandas._libs.index.IndexEngine.get_loc\u001b[0;34m()\u001b[0m\n",
      "\u001b[0;32mpandas/_libs/index.pyx\u001b[0m in \u001b[0;36mpandas._libs.index.IndexEngine.get_loc\u001b[0;34m()\u001b[0m\n",
      "\u001b[0;32mpandas/_libs/hashtable_class_helper.pxi\u001b[0m in \u001b[0;36mpandas._libs.hashtable.PyObjectHashTable.get_item\u001b[0;34m()\u001b[0m\n",
      "\u001b[0;32mpandas/_libs/hashtable_class_helper.pxi\u001b[0m in \u001b[0;36mpandas._libs.hashtable.PyObjectHashTable.get_item\u001b[0;34m()\u001b[0m\n",
      "\u001b[0;31mKeyError\u001b[0m: 1",
      "\nDuring handling of the above exception, another exception occurred:\n",
      "\u001b[0;31mKeyError\u001b[0m                                  Traceback (most recent call last)",
      "\u001b[0;32m~/anaconda3/envs/dm4/lib/python3.7/site-packages/pandas/core/series.py\u001b[0m in \u001b[0;36msetitem\u001b[0;34m(key, value)\u001b[0m\n\u001b[1;32m    986\u001b[0m             \u001b[0;32mtry\u001b[0m\u001b[0;34m:\u001b[0m\u001b[0;34m\u001b[0m\u001b[0;34m\u001b[0m\u001b[0m\n\u001b[0;32m--> 987\u001b[0;31m                 \u001b[0mself\u001b[0m\u001b[0;34m.\u001b[0m\u001b[0m_set_with_engine\u001b[0m\u001b[0;34m(\u001b[0m\u001b[0mkey\u001b[0m\u001b[0;34m,\u001b[0m \u001b[0mvalue\u001b[0m\u001b[0;34m)\u001b[0m\u001b[0;34m\u001b[0m\u001b[0;34m\u001b[0m\u001b[0m\n\u001b[0m\u001b[1;32m    988\u001b[0m                 \u001b[0;32mreturn\u001b[0m\u001b[0;34m\u001b[0m\u001b[0;34m\u001b[0m\u001b[0m\n",
      "\u001b[0;32m~/anaconda3/envs/dm4/lib/python3.7/site-packages/pandas/core/series.py\u001b[0m in \u001b[0;36m_set_with_engine\u001b[0;34m(self, key, value)\u001b[0m\n\u001b[1;32m   1048\u001b[0m         \u001b[0;32mexcept\u001b[0m \u001b[0mKeyError\u001b[0m\u001b[0;34m:\u001b[0m\u001b[0;34m\u001b[0m\u001b[0;34m\u001b[0m\u001b[0m\n\u001b[0;32m-> 1049\u001b[0;31m             \u001b[0mvalues\u001b[0m\u001b[0;34m[\u001b[0m\u001b[0mself\u001b[0m\u001b[0;34m.\u001b[0m\u001b[0mindex\u001b[0m\u001b[0;34m.\u001b[0m\u001b[0mget_loc\u001b[0m\u001b[0;34m(\u001b[0m\u001b[0mkey\u001b[0m\u001b[0;34m)\u001b[0m\u001b[0;34m]\u001b[0m \u001b[0;34m=\u001b[0m \u001b[0mvalue\u001b[0m\u001b[0;34m\u001b[0m\u001b[0;34m\u001b[0m\u001b[0m\n\u001b[0m\u001b[1;32m   1050\u001b[0m             \u001b[0;32mreturn\u001b[0m\u001b[0;34m\u001b[0m\u001b[0;34m\u001b[0m\u001b[0m\n",
      "\u001b[0;32m~/anaconda3/envs/dm4/lib/python3.7/site-packages/pandas/core/indexes/base.py\u001b[0m in \u001b[0;36mget_loc\u001b[0;34m(self, key, method, tolerance)\u001b[0m\n\u001b[1;32m   2658\u001b[0m             \u001b[0;32mexcept\u001b[0m \u001b[0mKeyError\u001b[0m\u001b[0;34m:\u001b[0m\u001b[0;34m\u001b[0m\u001b[0;34m\u001b[0m\u001b[0m\n\u001b[0;32m-> 2659\u001b[0;31m                 \u001b[0;32mreturn\u001b[0m \u001b[0mself\u001b[0m\u001b[0;34m.\u001b[0m\u001b[0m_engine\u001b[0m\u001b[0;34m.\u001b[0m\u001b[0mget_loc\u001b[0m\u001b[0;34m(\u001b[0m\u001b[0mself\u001b[0m\u001b[0;34m.\u001b[0m\u001b[0m_maybe_cast_indexer\u001b[0m\u001b[0;34m(\u001b[0m\u001b[0mkey\u001b[0m\u001b[0;34m)\u001b[0m\u001b[0;34m)\u001b[0m\u001b[0;34m\u001b[0m\u001b[0;34m\u001b[0m\u001b[0m\n\u001b[0m\u001b[1;32m   2660\u001b[0m         \u001b[0mindexer\u001b[0m \u001b[0;34m=\u001b[0m \u001b[0mself\u001b[0m\u001b[0;34m.\u001b[0m\u001b[0mget_indexer\u001b[0m\u001b[0;34m(\u001b[0m\u001b[0;34m[\u001b[0m\u001b[0mkey\u001b[0m\u001b[0;34m]\u001b[0m\u001b[0;34m,\u001b[0m \u001b[0mmethod\u001b[0m\u001b[0;34m=\u001b[0m\u001b[0mmethod\u001b[0m\u001b[0;34m,\u001b[0m \u001b[0mtolerance\u001b[0m\u001b[0;34m=\u001b[0m\u001b[0mtolerance\u001b[0m\u001b[0;34m)\u001b[0m\u001b[0;34m\u001b[0m\u001b[0;34m\u001b[0m\u001b[0m\n",
      "\u001b[0;32mpandas/_libs/index.pyx\u001b[0m in \u001b[0;36mpandas._libs.index.IndexEngine.get_loc\u001b[0;34m()\u001b[0m\n",
      "\u001b[0;32mpandas/_libs/index.pyx\u001b[0m in \u001b[0;36mpandas._libs.index.IndexEngine.get_loc\u001b[0;34m()\u001b[0m\n",
      "\u001b[0;32mpandas/_libs/hashtable_class_helper.pxi\u001b[0m in \u001b[0;36mpandas._libs.hashtable.PyObjectHashTable.get_item\u001b[0;34m()\u001b[0m\n",
      "\u001b[0;32mpandas/_libs/hashtable_class_helper.pxi\u001b[0m in \u001b[0;36mpandas._libs.hashtable.PyObjectHashTable.get_item\u001b[0;34m()\u001b[0m\n",
      "\u001b[0;31mKeyError\u001b[0m: 1",
      "\nDuring handling of the above exception, another exception occurred:\n",
      "\u001b[0;31mValueError\u001b[0m                                Traceback (most recent call last)",
      "\u001b[0;32m<ipython-input-70-df28865a3c5b>\u001b[0m in \u001b[0;36m<module>\u001b[0;34m\u001b[0m\n\u001b[1;32m      2\u001b[0m \u001b[0;32mfor\u001b[0m \u001b[0mi\u001b[0m \u001b[0;32min\u001b[0m \u001b[0mlagphase_pivot_YES_list\u001b[0m\u001b[0;34m:\u001b[0m\u001b[0;34m\u001b[0m\u001b[0;34m\u001b[0m\u001b[0m\n\u001b[1;32m      3\u001b[0m     \u001b[0;32mfor\u001b[0m \u001b[0mnumber\u001b[0m \u001b[0;32min\u001b[0m \u001b[0mrange\u001b[0m\u001b[0;34m(\u001b[0m\u001b[0;36m1\u001b[0m\u001b[0;34m,\u001b[0m\u001b[0;36m2\u001b[0m\u001b[0;34m)\u001b[0m\u001b[0;34m:\u001b[0m\u001b[0;34m\u001b[0m\u001b[0;34m\u001b[0m\u001b[0m\n\u001b[0;32m----> 4\u001b[0;31m         \u001b[0mlagphase_divider_YES\u001b[0m\u001b[0;34m[\u001b[0m\u001b[0mnumber\u001b[0m\u001b[0;34m]\u001b[0m\u001b[0;34m=\u001b[0m \u001b[0mi\u001b[0m\u001b[0;34m[\u001b[0m\u001b[0;34m'YES'\u001b[0m\u001b[0;34m]\u001b[0m\u001b[0;34m\u001b[0m\u001b[0;34m\u001b[0m\u001b[0m\n\u001b[0m\u001b[1;32m      5\u001b[0m         \u001b[0mlagphase_divider_YES\u001b[0m\u001b[0;34m[\u001b[0m\u001b[0mnumber\u001b[0m\u001b[0;34m]\u001b[0m \u001b[0;34m=\u001b[0m \u001b[0mlagphase_divider_YES\u001b[0m\u001b[0;34m[\u001b[0m\u001b[0mnumber\u001b[0m\u001b[0;34m]\u001b[0m\u001b[0;34m.\u001b[0m\u001b[0mtranspose\u001b[0m\u001b[0;34m(\u001b[0m\u001b[0;34m)\u001b[0m\u001b[0;34m\u001b[0m\u001b[0;34m\u001b[0m\u001b[0m\n\u001b[1;32m      6\u001b[0m \u001b[0;34m\u001b[0m\u001b[0m\n",
      "\u001b[0;32m~/anaconda3/envs/dm4/lib/python3.7/site-packages/pandas/core/series.py\u001b[0m in \u001b[0;36m__setitem__\u001b[0;34m(self, key, value)\u001b[0m\n\u001b[1;32m   1037\u001b[0m         \u001b[0;31m# do the setitem\u001b[0m\u001b[0;34m\u001b[0m\u001b[0;34m\u001b[0m\u001b[0;34m\u001b[0m\u001b[0m\n\u001b[1;32m   1038\u001b[0m         \u001b[0mcacher_needs_updating\u001b[0m \u001b[0;34m=\u001b[0m \u001b[0mself\u001b[0m\u001b[0;34m.\u001b[0m\u001b[0m_check_is_chained_assignment_possible\u001b[0m\u001b[0;34m(\u001b[0m\u001b[0;34m)\u001b[0m\u001b[0;34m\u001b[0m\u001b[0;34m\u001b[0m\u001b[0m\n\u001b[0;32m-> 1039\u001b[0;31m         \u001b[0msetitem\u001b[0m\u001b[0;34m(\u001b[0m\u001b[0mkey\u001b[0m\u001b[0;34m,\u001b[0m \u001b[0mvalue\u001b[0m\u001b[0;34m)\u001b[0m\u001b[0;34m\u001b[0m\u001b[0;34m\u001b[0m\u001b[0m\n\u001b[0m\u001b[1;32m   1040\u001b[0m         \u001b[0;32mif\u001b[0m \u001b[0mcacher_needs_updating\u001b[0m\u001b[0;34m:\u001b[0m\u001b[0;34m\u001b[0m\u001b[0;34m\u001b[0m\u001b[0m\n\u001b[1;32m   1041\u001b[0m             \u001b[0mself\u001b[0m\u001b[0;34m.\u001b[0m\u001b[0m_maybe_update_cacher\u001b[0m\u001b[0;34m(\u001b[0m\u001b[0;34m)\u001b[0m\u001b[0;34m\u001b[0m\u001b[0;34m\u001b[0m\u001b[0m\n",
      "\u001b[0;32m~/anaconda3/envs/dm4/lib/python3.7/site-packages/pandas/core/series.py\u001b[0m in \u001b[0;36msetitem\u001b[0;34m(key, value)\u001b[0m\n\u001b[1;32m    994\u001b[0m                         not self.index.inferred_type == 'integer'):\n\u001b[1;32m    995\u001b[0m \u001b[0;34m\u001b[0m\u001b[0m\n\u001b[0;32m--> 996\u001b[0;31m                     \u001b[0mvalues\u001b[0m\u001b[0;34m[\u001b[0m\u001b[0mkey\u001b[0m\u001b[0;34m]\u001b[0m \u001b[0;34m=\u001b[0m \u001b[0mvalue\u001b[0m\u001b[0;34m\u001b[0m\u001b[0;34m\u001b[0m\u001b[0m\n\u001b[0m\u001b[1;32m    997\u001b[0m                     \u001b[0;32mreturn\u001b[0m\u001b[0;34m\u001b[0m\u001b[0;34m\u001b[0m\u001b[0m\n\u001b[1;32m    998\u001b[0m                 \u001b[0;32melif\u001b[0m \u001b[0mkey\u001b[0m \u001b[0;32mis\u001b[0m \u001b[0mEllipsis\u001b[0m\u001b[0;34m:\u001b[0m\u001b[0;34m\u001b[0m\u001b[0;34m\u001b[0m\u001b[0m\n",
      "\u001b[0;31mValueError\u001b[0m: setting an array element with a sequence."
     ]
    }
   ],
   "source": [
    "# Lag phase\n",
    "for i in lagphase_pivot_YES_list:\n",
    "    for number in range(1,2):\n",
    "        lagphase_divider_YES[number]= i['YES']\n",
    "        lagphase_divider_YES[number] = lagphase_divider_YES[number].transpose()\n",
    "        \n",
    "        lagphase_after_transpose = i[number]\n",
    " #       lagphase_after_transpose[number] = i[number].transpose() \n",
    "    \n",
    "    \n",
    " #       lagphase_after_transpose_YES[number] = i[number].transpose()\n",
    "        pivot_lagphase_normalized_YES[number] = lagphase_after_transpose_YES[number]/lagphase_divider_YES[number]\n",
    "        pivot_lagphase_normalized_YES[number] = pivot_lagphase_normalized_YES[number].transpose()"
   ]
  },
  {
   "cell_type": "code",
   "execution_count": null,
   "metadata": {},
   "outputs": [],
   "source": []
  },
  {
   "cell_type": "code",
   "execution_count": 55,
   "metadata": {
    "scrolled": true
   },
   "outputs": [
    {
     "ename": "TypeError",
     "evalue": "list indices must be integers or slices, not str",
     "output_type": "error",
     "traceback": [
      "\u001b[0;31m---------------------------------------------------------------------------\u001b[0m",
      "\u001b[0;31mTypeError\u001b[0m                                 Traceback (most recent call last)",
      "\u001b[0;32m<ipython-input-55-bbd537066443>\u001b[0m in \u001b[0;36m<module>\u001b[0;34m\u001b[0m\n\u001b[1;32m      2\u001b[0m \u001b[0;34m\u001b[0m\u001b[0m\n\u001b[1;32m      3\u001b[0m \u001b[0;31m# Lag phase\u001b[0m\u001b[0;34m\u001b[0m\u001b[0;34m\u001b[0m\u001b[0;34m\u001b[0m\u001b[0m\n\u001b[0;32m----> 4\u001b[0;31m \u001b[0mYES_lagphase_divirder\u001b[0m \u001b[0;34m=\u001b[0m \u001b[0mlagphase_pivot_YES_list\u001b[0m\u001b[0;34m[\u001b[0m\u001b[0;34m'YES'\u001b[0m\u001b[0;34m]\u001b[0m\u001b[0;34m\u001b[0m\u001b[0;34m\u001b[0m\u001b[0m\n\u001b[0m\u001b[1;32m      5\u001b[0m \u001b[0mYES_lagphase_divirder\u001b[0m \u001b[0;34m=\u001b[0m \u001b[0mYES_lagphase_divirder\u001b[0m\u001b[0;34m.\u001b[0m\u001b[0mtranspose\u001b[0m\u001b[0;34m(\u001b[0m\u001b[0;34m)\u001b[0m\u001b[0;34m\u001b[0m\u001b[0;34m\u001b[0m\u001b[0m\n\u001b[1;32m      6\u001b[0m \u001b[0mYES_lagphase_after_transpose\u001b[0m \u001b[0;34m=\u001b[0m \u001b[0mYES_pivot_lagphase\u001b[0m\u001b[0;34m.\u001b[0m\u001b[0mtranspose\u001b[0m\u001b[0;34m(\u001b[0m\u001b[0;34m)\u001b[0m\u001b[0;34m\u001b[0m\u001b[0;34m\u001b[0m\u001b[0m\n",
      "\u001b[0;31mTypeError\u001b[0m: list indices must be integers or slices, not str"
     ]
    }
   ],
   "source": [
    "# Data for each mutant were normalized to growth on media without the stressor (EMM or YES, respectively).\n",
    "\n",
    "# Lag phase\n",
    "YES_lagphase_divirder = YES_pivot_lagphase['YES']\n",
    "YES_lagphase_divirder = YES_lagphase_divirder.transpose()\n",
    "YES_lagphase_after_transpose = YES_pivot_lagphase.transpose()\n",
    "\n",
    "YES_pivot_lagphase_normalized = YES_lagphase_after_transpose/YES_lagphase_divirder\n",
    "YES_pivot_lagphase_normalized = YES_pivot_lagphase_normalized.transpose()\n",
    "\n",
    "\n",
    "# Maximum slope\n",
    "YES_maxslope_divirder = YES_pivot_maxslope['YES']\n",
    "YES_maxslope_divirder = YES_maxslope_divirder.transpose()\n",
    "YES_maxslope_after_transpose = YES_pivot_maxslope.transpose()\n",
    "\n",
    "YES_pivot_maxslope_normalized = YES_maxslope_after_transpose/YES_maxslope_divirder\n",
    "YES_pivot_maxslope_normalized = YES_pivot_maxslope_normalized.transpose()\n",
    "\n",
    "# Save the pivot tables as csv files: \n",
    "YES_pivot_lagphase_normalized.to_csv('DataFrames/YES_pivot_lagphase_normalized.csv')\n",
    "YES_pivot_maxslope_normalized.to_csv('DataFrames/YES_pivot_maxslope_normalized.csv')"
   ]
  },
  {
   "cell_type": "code",
   "execution_count": null,
   "metadata": {},
   "outputs": [],
   "source": [
    "# Print the pivot tables with normalized results (if you want):\n",
    "print(\"Normalized results of lag phase:\")\n",
    "print(YES_pivot_lagphase_normalized)\n",
    "print(\"\")\n",
    "print(\"\")\n",
    "print(\"Normalized results of Maximum slope:\")\n",
    "print(YES_pivot_maxslope_normalized)"
   ]
  },
  {
   "cell_type": "markdown",
   "metadata": {},
   "source": [
    "## YES - Heatmaps preparation"
   ]
  },
  {
   "cell_type": "markdown",
   "metadata": {},
   "source": [
    "### Dobór wielkości czcionki na osiach x i y"
   ]
  },
  {
   "cell_type": "code",
   "execution_count": null,
   "metadata": {},
   "outputs": [],
   "source": [
    "# Helper funtion with interactive widgets to select proper size of labels and title\n",
    "\n",
    "from __future__ import print_function\n",
    "from ipywidgets import interact, interactive, fixed, interact_manual\n",
    "import ipywidgets as widgets\n",
    "\n",
    "@interact\n",
    "def heat_map_fun(label_size=15,title_size=15):\n",
    "    def heat_map_elegant(title,path_to_save,df,cmap='RdYlBu',ylabel='Fission yeast name'):\n",
    "        ax =sns.heatmap(df,cmap=cmap,linewidths=5)\n",
    "        #with sns.axes_style(\"white\"):\n",
    "        #    ax = sns.heatmap(df, vmax=.3, square=True)\n",
    "        fig=ax.figure #wyciagamy dostep do figure\n",
    "        fig.set_size_inches(10,8)\n",
    "        ax.set(title=title,\n",
    "               ylabel=ylabel,\n",
    "              xlabel='Growth medium/ stress conditions',\n",
    "              )\n",
    "        ax.xaxis.label.set_size(label_size)\n",
    "        ax.yaxis.label.set_size(label_size)\n",
    "        ax.title.set_size(title_size)\n",
    "        plt.setp(ax.get_xticklabels(), rotation=45, ha=\"right\",\n",
    "                 rotation_mode=\"anchor\")\n",
    "        plt.setp(ax.get_yticklabels(), rotation=0, ha=\"right\",\n",
    "                 rotation_mode=\"anchor\")\n",
    "\n",
    "        plt.setp(ax.get_yticklabels(), style=\"italic\")    \n",
    "        #fig.savefig(path_to_save+\".pdf\",dpi=150)\n",
    "        #fig.savefig(path_to_save+\".png\",dpi=150)\n",
    "        return ax,fig\n",
    "    return heat_map_elegant(\"The normalized maximum slope of fission yeast in YES\",\n",
    "                            \"Heatmaps//YES_max_slope_RdYlBu_znormalizowana\",YES_pivot_maxslope_normalized)"
   ]
  },
  {
   "cell_type": "markdown",
   "metadata": {},
   "source": [
    "## Colors of heatmap\n",
    "We used two kinds of colors of cmap:\n",
    "1. 'RdYlBu' for lag phase\n",
    "2. 'RdYlBu_r' ('RdYlBu' with reversed colors) for maximum slope\n",
    "\n",
    "You can find other colors for label here: https://matplotlib.org/examples/color/colormaps_reference.html\n"
   ]
  },
  {
   "cell_type": "code",
   "execution_count": null,
   "metadata": {},
   "outputs": [],
   "source": [
    "# This function reverses the colors of chosen cmap and makes new cmap named \"oldname_r\":\n",
    "\n",
    "reversed('RdYlBu')\n",
    "\n",
    "#Output:\n",
    "#'RdYlBu_r'"
   ]
  },
  {
   "cell_type": "markdown",
   "metadata": {},
   "source": [
    "## Make the heatmaps"
   ]
  },
  {
   "cell_type": "code",
   "execution_count": null,
   "metadata": {},
   "outputs": [],
   "source": [
    "def heat_map_elegant_YES(title,path_to_save,df,cmap,ylabel='Name of ncPAP deletion mutants'):\n",
    "    '''\n",
    "    This function will create a heatmap and save it as pdf and png.\n",
    "    \n",
    "    title: title of plot [string]\n",
    "    path_to_save: path to directory where the heatmap will be saved [string]\n",
    "    df: \n",
    "    \n",
    "    '''\n",
    "    ax =sns.heatmap(df,cmap=cmap,linewidths=1)\n",
    "    #with sns.axes_style(\"white\"):\n",
    "    #    ax = sns.heatmap(df, vmax=.3, square=True)\n",
    "    fig=ax.figure #wyciagamy dostep do figure\n",
    "    fig.set_size_inches(6,9)\n",
    "    ax.set(title=title,\n",
    "           ylabel=ylabel,\n",
    "          xlabel='YES & stress conditions')\n",
    "    ax.xaxis.label.set_size(20)\n",
    "    ax.yaxis.label.set_size(20)\n",
    "    ax.title.set_size(20)\n",
    "    plt.setp(ax.get_xticklabels(), rotation=45, ha=\"right\",\n",
    "             rotation_mode=\"anchor\", fontsize=20)\n",
    "    plt.setp(ax.get_yticklabels(), rotation=0, ha=\"right\",\n",
    "             rotation_mode=\"anchor\", fontsize=20)\n",
    "    \n",
    "    plt.setp(ax.get_yticklabels(), style=\"italic\")   \n",
    "    plt.rcParams.update({'legend.labelspacing':0.25})\n",
    "    fig.tight_layout()\n",
    "\n",
    "    fig.savefig(path_to_save+\".pdf\",dpi=150)\n",
    "    fig.savefig(path_to_save+\".png\",dpi=150)\n",
    "    return ax,fig"
   ]
  },
  {
   "cell_type": "code",
   "execution_count": null,
   "metadata": {
    "scrolled": false
   },
   "outputs": [],
   "source": [
    "# Heatmap of the normalized maximum slope of fission yeast in YES\n",
    "\n",
    "heat_map_elegant_YES(\"The normalized maximum slope of fission yeast in YES\",\n",
    "                     \"Plots_Heatmaps//YES_max_slope_RdYlBu_znormalizowana\",\n",
    "                     YES_pivot_maxslope_normalized,'RdYlBu_r')"
   ]
  },
  {
   "cell_type": "code",
   "execution_count": null,
   "metadata": {},
   "outputs": [],
   "source": [
    "# Heatmap of the normalized lag phase of fission yeast in YES\n",
    "\n",
    "heat_map_elegant_YES(\"The normalized lag phase of fission yeast in YES\",\n",
    "                     \"Plots_Heatmaps//YES_lagphase_RdYlBu_znormalizowana\",\n",
    "                     YES_pivot_lagphase_normalized,'RdYlBu')"
   ]
  },
  {
   "cell_type": "markdown",
   "metadata": {},
   "source": [
    "# EMM medium\n",
    "## Preprocessing of results"
   ]
  },
  {
   "cell_type": "code",
   "execution_count": 71,
   "metadata": {},
   "outputs": [],
   "source": [
    "# Make a path for data and list of files:\n",
    "path_EMM =r'./Example_data/Bioscreen_data_EMM/'\n",
    "filenames_EMM = glob.glob(path_EMM + \"*.csv\")\n",
    "filenames_EMM_short = filenames_EMM\n"
   ]
  },
  {
   "cell_type": "code",
   "execution_count": 72,
   "metadata": {},
   "outputs": [],
   "source": [
    "import os.path\n",
    "old_names=[os.path.splitext(os.path.basename(name))[0] for name in filenames_EMM]"
   ]
  },
  {
   "cell_type": "code",
   "execution_count": 73,
   "metadata": {},
   "outputs": [],
   "source": [
    "EMM_list=[pd.read_csv(filename_EMM) for filename_EMM in filenames_EMM ]"
   ]
  },
  {
   "cell_type": "code",
   "execution_count": 74,
   "metadata": {},
   "outputs": [],
   "source": [
    "# We have 3 example files with results of maximum slope and lag phase of mutants cultivated \n",
    "# in EMM supplemented with stressors\n",
    "#\n",
    "# Please do it only once - the second one will change the output\n",
    "\n",
    "\n",
    "def put_yeast_stress(EMM):\n",
    "    EMM['Medium'] = 'EMM'        #Add new column 'Medium'    \n",
    "    new_i = EMM[\"Mutants\"].str.split(\"_\", n = 1, expand = True)  # Make temporarily 'new' data frame    \n",
    "    EMM[\"Yeast\"]= new_i[0] # Add column 'Yeast' from 'new' data frame    \n",
    "    EMM[\"Stress\"]= new_i[1]  # Add column 'Stress' from 'new' data frame    \n",
    "    EMM['Medium_Stress'] = EMM[['Medium','Stress']].apply(lambda x: '_'.join(x[x.notnull()]),\n",
    "                                                      axis = 1) # Add column '_Medium_Stress'  \n",
    "    \n",
    "    "
   ]
  },
  {
   "cell_type": "code",
   "execution_count": 75,
   "metadata": {},
   "outputs": [],
   "source": [
    "for EMM in EMM_list:\n",
    "    put_yeast_stress(EMM)"
   ]
  },
  {
   "cell_type": "code",
   "execution_count": 76,
   "metadata": {},
   "outputs": [
    {
     "name": "stdout",
     "output_type": "stream",
     "text": [
      "DataFrames/preprocessed_EMM_20190624.csv\n",
      "DataFrames/preprocessed_EMM_20190613.csv\n",
      "DataFrames/preprocessed_EMM_20190612.csv\n"
     ]
    }
   ],
   "source": [
    "for old_name,EMM in zip(old_names,EMM_list): # takes a pair one from first one from second list\n",
    "    print(os.path.join(\"DataFrames\",\"preprocessed_%s.csv\" % old_name))\n",
    "    EMM.to_csv(os.path.join(\"DataFrames\",\"preprocessed_%s.csv\" % old_name))"
   ]
  },
  {
   "cell_type": "code",
   "execution_count": 77,
   "metadata": {},
   "outputs": [],
   "source": [
    "lagphase_pivot_EMM_list=[EMM.pivot_table(index='Yeast', columns='Medium_Stress', values='lag')\n",
    "                        for EMM in EMM_list]\n",
    "\n",
    "maxslope_pivot_EMM_list=[EMM.pivot_table(index='Yeast', columns='Medium_Stress', values='max_slope')\n",
    "                        for EMM in EMM_list]"
   ]
  },
  {
   "cell_type": "code",
   "execution_count": 78,
   "metadata": {},
   "outputs": [
    {
     "name": "stdout",
     "output_type": "stream",
     "text": [
      "DataFrames/lagphase_pivot_EMM_20190624.csv\n",
      "DataFrames/lagphase_pivot_EMM_20190613.csv\n",
      "DataFrames/lagphase_pivot_EMM_20190612.csv\n"
     ]
    }
   ],
   "source": [
    "for old_name,EMM in zip(old_names, lagphase_pivot_EMM_list):\n",
    "    print(os.path.join(\"DataFrames\",\"lagphase_pivot_%s.csv\" % old_name))\n",
    "    EMM.to_csv(os.path.join(\"DataFrames\",\"lagphase_pivot_%s.csv\" % old_name))"
   ]
  },
  {
   "cell_type": "code",
   "execution_count": 79,
   "metadata": {},
   "outputs": [
    {
     "name": "stdout",
     "output_type": "stream",
     "text": [
      "DataFrames/maxslope_pivot_EMM_20190624.csv\n",
      "DataFrames/maxslope_pivot_EMM_20190613.csv\n",
      "DataFrames/maxslope_pivot_EMM_20190612.csv\n"
     ]
    }
   ],
   "source": [
    "for old_name,EMM in zip(old_names, maxslope_pivot_EMM_list):\n",
    "    print(os.path.join(\"DataFrames\",\"maxslope_pivot_%s.csv\" % old_name))\n",
    "    EMM.to_csv(os.path.join(\"DataFrames\",\"maxslope_pivot_%s.csv\" % old_name))"
   ]
  },
  {
   "cell_type": "code",
   "execution_count": 80,
   "metadata": {},
   "outputs": [],
   "source": [
    "list_of_lagphase_EMM=[pd.read_csv(os.path.join(\"DataFrames\",\"maxslope_pivot_%s.csv\" % old_name))]"
   ]
  },
  {
   "cell_type": "code",
   "execution_count": null,
   "metadata": {},
   "outputs": [],
   "source": [
    "names_of_laghase_pivot_EMM = {\"lagphase_pivot_EMM_1\": lagphase_pivot_EMM_1,\n",
    "                              \"lagphase_pivot_EMM_2\":lagphase_pivot_EMM_2,\n",
    "                              \"lagphase_pivot_EMM_3\":lagphase_pivot_EMM_3,\n",
    "                             \"lagphase_pivot_EMM_4\":lagphase_pivot_EMM_4,\n",
    "                              \"lagphase_pivot_EMM_5\":lagphase_pivot_EMM_5}\n",
    "\n",
    "names_of_maxslope_pivot_EMM = {\"maxslope_pivot_EMM_1\": maxslope_pivot_EMM_1,\n",
    "                              \"maxslope_pivot_EMM_2\":maxslope_pivot_EMM_2,\n",
    "                              \"maxslope_pivot_EMM_3\":maxslope_pivot_EMM_3,\n",
    "                             \"maxslope_pivot_EMM_4\":maxslope_pivot_EMM_4,\n",
    "                              \"maxslope_pivot_EMM_5\":maxslope_pivot_EMM_5}"
   ]
  },
  {
   "cell_type": "code",
   "execution_count": 87,
   "metadata": {},
   "outputs": [
    {
     "name": "stderr",
     "output_type": "stream",
     "text": [
      "/home/lidia/anaconda3/envs/dm4/lib/python3.7/site-packages/ipykernel_launcher.py:7: SettingWithCopyWarning: \n",
      "A value is trying to be set on a copy of a slice from a DataFrame\n",
      "\n",
      "See the caveats in the documentation: http://pandas.pydata.org/pandas-docs/stable/indexing.html#indexing-view-versus-copy\n",
      "  import sys\n"
     ]
    },
    {
     "ename": "KeyError",
     "evalue": "0",
     "output_type": "error",
     "traceback": [
      "\u001b[0;31m---------------------------------------------------------------------------\u001b[0m",
      "\u001b[0;31mKeyError\u001b[0m                                  Traceback (most recent call last)",
      "\u001b[0;32m~/anaconda3/envs/dm4/lib/python3.7/site-packages/pandas/core/indexes/base.py\u001b[0m in \u001b[0;36mget_loc\u001b[0;34m(self, key, method, tolerance)\u001b[0m\n\u001b[1;32m   2656\u001b[0m             \u001b[0;32mtry\u001b[0m\u001b[0;34m:\u001b[0m\u001b[0;34m\u001b[0m\u001b[0;34m\u001b[0m\u001b[0m\n\u001b[0;32m-> 2657\u001b[0;31m                 \u001b[0;32mreturn\u001b[0m \u001b[0mself\u001b[0m\u001b[0;34m.\u001b[0m\u001b[0m_engine\u001b[0m\u001b[0;34m.\u001b[0m\u001b[0mget_loc\u001b[0m\u001b[0;34m(\u001b[0m\u001b[0mkey\u001b[0m\u001b[0;34m)\u001b[0m\u001b[0;34m\u001b[0m\u001b[0;34m\u001b[0m\u001b[0m\n\u001b[0m\u001b[1;32m   2658\u001b[0m             \u001b[0;32mexcept\u001b[0m \u001b[0mKeyError\u001b[0m\u001b[0;34m:\u001b[0m\u001b[0;34m\u001b[0m\u001b[0;34m\u001b[0m\u001b[0m\n",
      "\u001b[0;32mpandas/_libs/index.pyx\u001b[0m in \u001b[0;36mpandas._libs.index.IndexEngine.get_loc\u001b[0;34m()\u001b[0m\n",
      "\u001b[0;32mpandas/_libs/index.pyx\u001b[0m in \u001b[0;36mpandas._libs.index.IndexEngine.get_loc\u001b[0;34m()\u001b[0m\n",
      "\u001b[0;32mpandas/_libs/hashtable_class_helper.pxi\u001b[0m in \u001b[0;36mpandas._libs.hashtable.PyObjectHashTable.get_item\u001b[0;34m()\u001b[0m\n",
      "\u001b[0;32mpandas/_libs/hashtable_class_helper.pxi\u001b[0m in \u001b[0;36mpandas._libs.hashtable.PyObjectHashTable.get_item\u001b[0;34m()\u001b[0m\n",
      "\u001b[0;31mKeyError\u001b[0m: 0",
      "\nDuring handling of the above exception, another exception occurred:\n",
      "\u001b[0;31mKeyError\u001b[0m                                  Traceback (most recent call last)",
      "\u001b[0;32m<ipython-input-87-e91b428a6156>\u001b[0m in \u001b[0;36m<module>\u001b[0;34m\u001b[0m\n\u001b[1;32m      7\u001b[0m         \u001b[0mlagphase_divider_EMM\u001b[0m\u001b[0;34m[\u001b[0m\u001b[0mnumber\u001b[0m\u001b[0;34m]\u001b[0m \u001b[0;34m=\u001b[0m \u001b[0mlagphase_divider_EMM\u001b[0m\u001b[0;34m[\u001b[0m\u001b[0mnumber\u001b[0m\u001b[0;34m]\u001b[0m\u001b[0;34m.\u001b[0m\u001b[0mtranspose\u001b[0m\u001b[0;34m(\u001b[0m\u001b[0;34m)\u001b[0m\u001b[0;34m\u001b[0m\u001b[0;34m\u001b[0m\u001b[0m\n\u001b[1;32m      8\u001b[0m \u001b[0;34m\u001b[0m\u001b[0m\n\u001b[0;32m----> 9\u001b[0;31m         \u001b[0mlagphase_after_transpose_EMM\u001b[0m \u001b[0;34m=\u001b[0m \u001b[0mi\u001b[0m\u001b[0;34m[\u001b[0m\u001b[0;36m0\u001b[0m\u001b[0;34m]\u001b[0m\u001b[0;34m\u001b[0m\u001b[0;34m\u001b[0m\u001b[0m\n\u001b[0m\u001b[1;32m     10\u001b[0m         \u001b[0mlagphase_after_transpose_EMM\u001b[0m\u001b[0;34m[\u001b[0m\u001b[0mnumber\u001b[0m\u001b[0;34m]\u001b[0m \u001b[0;34m=\u001b[0m \u001b[0mi\u001b[0m\u001b[0;34m.\u001b[0m\u001b[0mtranspose\u001b[0m\u001b[0;34m(\u001b[0m\u001b[0;34m)\u001b[0m\u001b[0;34m\u001b[0m\u001b[0;34m\u001b[0m\u001b[0m\n\u001b[1;32m     11\u001b[0m         \u001b[0mpivot_lagphase_normalized_EMM\u001b[0m\u001b[0;34m[\u001b[0m\u001b[0mnumber\u001b[0m\u001b[0;34m]\u001b[0m \u001b[0;34m=\u001b[0m \u001b[0mlagphase_after_transpose_EMM\u001b[0m\u001b[0;34m[\u001b[0m\u001b[0mnumber\u001b[0m\u001b[0;34m]\u001b[0m\u001b[0;34m/\u001b[0m\u001b[0mlagphase_divider_EMM\u001b[0m\u001b[0;34m[\u001b[0m\u001b[0mnumber\u001b[0m\u001b[0;34m]\u001b[0m\u001b[0;34m\u001b[0m\u001b[0;34m\u001b[0m\u001b[0m\n",
      "\u001b[0;32m~/anaconda3/envs/dm4/lib/python3.7/site-packages/pandas/core/frame.py\u001b[0m in \u001b[0;36m__getitem__\u001b[0;34m(self, key)\u001b[0m\n\u001b[1;32m   2925\u001b[0m             \u001b[0;32mif\u001b[0m \u001b[0mself\u001b[0m\u001b[0;34m.\u001b[0m\u001b[0mcolumns\u001b[0m\u001b[0;34m.\u001b[0m\u001b[0mnlevels\u001b[0m \u001b[0;34m>\u001b[0m \u001b[0;36m1\u001b[0m\u001b[0;34m:\u001b[0m\u001b[0;34m\u001b[0m\u001b[0;34m\u001b[0m\u001b[0m\n\u001b[1;32m   2926\u001b[0m                 \u001b[0;32mreturn\u001b[0m \u001b[0mself\u001b[0m\u001b[0;34m.\u001b[0m\u001b[0m_getitem_multilevel\u001b[0m\u001b[0;34m(\u001b[0m\u001b[0mkey\u001b[0m\u001b[0;34m)\u001b[0m\u001b[0;34m\u001b[0m\u001b[0;34m\u001b[0m\u001b[0m\n\u001b[0;32m-> 2927\u001b[0;31m             \u001b[0mindexer\u001b[0m \u001b[0;34m=\u001b[0m \u001b[0mself\u001b[0m\u001b[0;34m.\u001b[0m\u001b[0mcolumns\u001b[0m\u001b[0;34m.\u001b[0m\u001b[0mget_loc\u001b[0m\u001b[0;34m(\u001b[0m\u001b[0mkey\u001b[0m\u001b[0;34m)\u001b[0m\u001b[0;34m\u001b[0m\u001b[0;34m\u001b[0m\u001b[0m\n\u001b[0m\u001b[1;32m   2928\u001b[0m             \u001b[0;32mif\u001b[0m \u001b[0mis_integer\u001b[0m\u001b[0;34m(\u001b[0m\u001b[0mindexer\u001b[0m\u001b[0;34m)\u001b[0m\u001b[0;34m:\u001b[0m\u001b[0;34m\u001b[0m\u001b[0;34m\u001b[0m\u001b[0m\n\u001b[1;32m   2929\u001b[0m                 \u001b[0mindexer\u001b[0m \u001b[0;34m=\u001b[0m \u001b[0;34m[\u001b[0m\u001b[0mindexer\u001b[0m\u001b[0;34m]\u001b[0m\u001b[0;34m\u001b[0m\u001b[0;34m\u001b[0m\u001b[0m\n",
      "\u001b[0;32m~/anaconda3/envs/dm4/lib/python3.7/site-packages/pandas/core/indexes/base.py\u001b[0m in \u001b[0;36mget_loc\u001b[0;34m(self, key, method, tolerance)\u001b[0m\n\u001b[1;32m   2657\u001b[0m                 \u001b[0;32mreturn\u001b[0m \u001b[0mself\u001b[0m\u001b[0;34m.\u001b[0m\u001b[0m_engine\u001b[0m\u001b[0;34m.\u001b[0m\u001b[0mget_loc\u001b[0m\u001b[0;34m(\u001b[0m\u001b[0mkey\u001b[0m\u001b[0;34m)\u001b[0m\u001b[0;34m\u001b[0m\u001b[0;34m\u001b[0m\u001b[0m\n\u001b[1;32m   2658\u001b[0m             \u001b[0;32mexcept\u001b[0m \u001b[0mKeyError\u001b[0m\u001b[0;34m:\u001b[0m\u001b[0;34m\u001b[0m\u001b[0;34m\u001b[0m\u001b[0m\n\u001b[0;32m-> 2659\u001b[0;31m                 \u001b[0;32mreturn\u001b[0m \u001b[0mself\u001b[0m\u001b[0;34m.\u001b[0m\u001b[0m_engine\u001b[0m\u001b[0;34m.\u001b[0m\u001b[0mget_loc\u001b[0m\u001b[0;34m(\u001b[0m\u001b[0mself\u001b[0m\u001b[0;34m.\u001b[0m\u001b[0m_maybe_cast_indexer\u001b[0m\u001b[0;34m(\u001b[0m\u001b[0mkey\u001b[0m\u001b[0;34m)\u001b[0m\u001b[0;34m)\u001b[0m\u001b[0;34m\u001b[0m\u001b[0;34m\u001b[0m\u001b[0m\n\u001b[0m\u001b[1;32m   2660\u001b[0m         \u001b[0mindexer\u001b[0m \u001b[0;34m=\u001b[0m \u001b[0mself\u001b[0m\u001b[0;34m.\u001b[0m\u001b[0mget_indexer\u001b[0m\u001b[0;34m(\u001b[0m\u001b[0;34m[\u001b[0m\u001b[0mkey\u001b[0m\u001b[0;34m]\u001b[0m\u001b[0;34m,\u001b[0m \u001b[0mmethod\u001b[0m\u001b[0;34m=\u001b[0m\u001b[0mmethod\u001b[0m\u001b[0;34m,\u001b[0m \u001b[0mtolerance\u001b[0m\u001b[0;34m=\u001b[0m\u001b[0mtolerance\u001b[0m\u001b[0;34m)\u001b[0m\u001b[0;34m\u001b[0m\u001b[0;34m\u001b[0m\u001b[0m\n\u001b[1;32m   2661\u001b[0m         \u001b[0;32mif\u001b[0m \u001b[0mindexer\u001b[0m\u001b[0;34m.\u001b[0m\u001b[0mndim\u001b[0m \u001b[0;34m>\u001b[0m \u001b[0;36m1\u001b[0m \u001b[0;32mor\u001b[0m \u001b[0mindexer\u001b[0m\u001b[0;34m.\u001b[0m\u001b[0msize\u001b[0m \u001b[0;34m>\u001b[0m \u001b[0;36m1\u001b[0m\u001b[0;34m:\u001b[0m\u001b[0;34m\u001b[0m\u001b[0;34m\u001b[0m\u001b[0m\n",
      "\u001b[0;32mpandas/_libs/index.pyx\u001b[0m in \u001b[0;36mpandas._libs.index.IndexEngine.get_loc\u001b[0;34m()\u001b[0m\n",
      "\u001b[0;32mpandas/_libs/index.pyx\u001b[0m in \u001b[0;36mpandas._libs.index.IndexEngine.get_loc\u001b[0;34m()\u001b[0m\n",
      "\u001b[0;32mpandas/_libs/hashtable_class_helper.pxi\u001b[0m in \u001b[0;36mpandas._libs.hashtable.PyObjectHashTable.get_item\u001b[0;34m()\u001b[0m\n",
      "\u001b[0;32mpandas/_libs/hashtable_class_helper.pxi\u001b[0m in \u001b[0;36mpandas._libs.hashtable.PyObjectHashTable.get_item\u001b[0;34m()\u001b[0m\n",
      "\u001b[0;31mKeyError\u001b[0m: 0"
     ]
    }
   ],
   "source": [
    "# Data for each mutant were normalized to growth on media without the stressor (EMM or YES, respectively).\n",
    "\n",
    "# Lag phase\n",
    "for i in list_of_lagphase_EMM:\n",
    "    for number in range (1,5):\n",
    "        lagphase_divider_EMM = i['EMM']\n",
    "        lagphase_divider_EMM[number] = lagphase_divider_EMM[number].transpose()\n",
    "    \n",
    "        lagphase_after_transpose_EMM = i[0]\n",
    "        lagphase_after_transpose_EMM[number] = i.transpose()\n",
    "        pivot_lagphase_normalized_EMM[number] = lagphase_after_transpose_EMM[number]/lagphase_divider_EMM[number]\n",
    "        pivot_lagphase_normalized_EMM[number] = pivot_lagphase_normalized_EMM[number].transpose()\n",
    "   "
   ]
  },
  {
   "cell_type": "code",
   "execution_count": null,
   "metadata": {},
   "outputs": [],
   "source": [
    " pivot_lagphase_normalized_EMM_2\n",
    "    "
   ]
  },
  {
   "cell_type": "code",
   "execution_count": null,
   "metadata": {},
   "outputs": [],
   "source": [
    "# Data for each mutant were normalized to growth on media without the stressor (EMM or YES, respectively).\n",
    "\n",
    "# Lag phase\n",
    "\n",
    "lagphase_divider_EMM_1 = lagphase_pivot_EMM_1['EMM']\n",
    "lagphase_divider_EMM_1 = lagphase_divider_EMM_1.transpose()\n",
    "lagphase_after_transpose_EMM_1 = lagphase_pivot_EMM_1.transpose()\n",
    "pivot_lagphase_normalized_EMM_1 = lagphase_after_transpose_EMM_1/lagphase_divider_EMM_1\n",
    "pivot_lagphase_normalized_EMM_1 = pivot_lagphase_normalized_EMM_1.transpose()\n",
    "pivot_lagphase_normalized_EMM_1\n",
    "\n",
    "# Maximum slope\n",
    "#YES_maxslope_divider = YES_pivot_maxslope['YES']\n",
    "#YES_maxslope_divider = YES_maxslope_divrder.transpose()\n",
    "#YES_maxslope_after_transpose = YES_pivot_maxslope.transpose()\n",
    "\n",
    "#YES_pivot_maxslope_normalized = YES_maxslope_after_transpose/YES_maxslope_divirder\n",
    "#YES_pivot_maxslope_normalized = YES_pivot_maxslope_normalized.transpose()\n",
    "\n",
    "# Save the pivot tables as csv files: \n",
    "#YES_pivot_lagphase_normalized.to_csv('DataFrames/YES_pivot_lagphase_normalized.csv')\n",
    "#YES_pivot_maxslope_normalized.to_csv('DataFrames/YES_pivot_maxslope_normalized.csv')"
   ]
  },
  {
   "cell_type": "code",
   "execution_count": null,
   "metadata": {},
   "outputs": [],
   "source": [
    "pivot_lagphase_normalized_EMM_1"
   ]
  },
  {
   "cell_type": "code",
   "execution_count": null,
   "metadata": {},
   "outputs": [],
   "source": []
  },
  {
   "cell_type": "code",
   "execution_count": null,
   "metadata": {},
   "outputs": [],
   "source": []
  },
  {
   "cell_type": "code",
   "execution_count": null,
   "metadata": {},
   "outputs": [],
   "source": [
    "# normalizacja laghase i maxslope - dzielę wyniki dla stresów przez wyniki dla samej pożywki\n",
    "\n",
    "# Lagfaza\n",
    "dzielnik_lagphase = lag_pivot_EMM['EMM']\n",
    "dzielnik_lagphase = dzielnik_lagphase.transpose()\n",
    "\n",
    "Lag_po_transpozycji = lag_pivot_EMM.transpose()\n",
    "\n",
    "normalized_lagphase_EMM_pivot = Lag_po_transpozycji/dzielnik_lagphase\n",
    "\n",
    "\n",
    "\n",
    "\n",
    "# maxslope\n",
    "dzielnik_maxslope = maxslope_pivot_EMM['EMM']\n",
    "dzielnik_maxslope = dzielnik_maxslope.transpose()\n",
    "\n",
    "maxslope_po_transpozycji1 = maxslope_pivot_EMM.transpose()\n",
    "\n",
    "normalized_maxslope_EMM_pivot = maxslope_po_transpozycji1/dzielnik_maxslope\n",
    "\n",
    "\n",
    "# zapisuje wyniki jako obiekty dla konkternej daty w formacie DDMMRRRR\n",
    "normalized_lagphase_EMM_pivot_24062019 = normalized_lagphase_EMM_pivot\n",
    "normalized_maxslope_EMM_pivot_24062019 = normalized_maxslope_EMM_pivot\n",
    "\n",
    "# mam przygotowane pivot tables dla YES - lagphase and maxslope osobno\n",
    "\n",
    "# Tutaj podglądam moje nowe znowrmalizowane pivot tables:\n",
    "print(\"Normalized results of lag phase:\")\n",
    "print(normalized_lagphase_EMM_pivot)\n",
    "print(\"\")\n",
    "print(\"\")\n",
    "print(\"Normalized results of Maximum slope:\")\n",
    "print(normalized_maxslope_EMM_pivot)"
   ]
  },
  {
   "cell_type": "markdown",
   "metadata": {},
   "source": [
    "### Join pivot tables (lag phase and maxslope separately) after all of EMM experiments together"
   ]
  },
  {
   "cell_type": "code",
   "execution_count": null,
   "metadata": {},
   "outputs": [],
   "source": [
    "#LAG PHASE\n",
    "\n",
    "frames_lagphase_EMM = [normalized_lagphase_EMM_pivot_30052019,\n",
    "                       normalized_lagphase_EMM_pivot_06062019, normalized_lagphase_EMM_pivot_12062019, \n",
    "                       normalized_lagphase_EMM_pivot_13062019,normalized_lagphase_EMM_pivot_24062019]\n",
    "\n",
    "joined_frames_lagphase_EMM = pd.concat(frames_lagphase_EMM)"
   ]
  },
  {
   "cell_type": "code",
   "execution_count": null,
   "metadata": {},
   "outputs": [],
   "source": [
    "#LAG PHASE\n",
    "\n",
    "frames_maxslope_EMM = [normalized_maxslope_EMM_pivot_30052019,\n",
    "                       normalized_maxslope_EMM_pivot_06062019, normalized_maxslope_EMM_pivot_12062019, \n",
    "                       normalized_maxslope_EMM_pivot_13062019,normalized_maxslope_EMM_pivot_24062019]\n",
    "\n",
    "joined_frames_maxslope_EMM = pd.concat(frames_maxslope_EMM )\n",
    "joined_frames_maxslope_EMM\n"
   ]
  },
  {
   "cell_type": "code",
   "execution_count": null,
   "metadata": {},
   "outputs": [],
   "source": []
  },
  {
   "cell_type": "code",
   "execution_count": null,
   "metadata": {},
   "outputs": [],
   "source": [
    "#imporp do csv\n",
    "\n",
    "joined_frames_maxslope_EMM.to_csv('joined_frames_maxslope_EMM.csv')\n",
    "joined_frames_lagphase_EMM.to_csv('joined_frames_lagphase_EMM.csv')\n",
    "\n",
    "# w plikach ręcznie :( wywalam dislsm i lsm oraz powtórki EMM"
   ]
  },
  {
   "cell_type": "code",
   "execution_count": null,
   "metadata": {},
   "outputs": [],
   "source": []
  },
  {
   "cell_type": "markdown",
   "metadata": {},
   "source": [
    "# Mogę puścić kod od tego momentu - mam wygenerowany plik csv"
   ]
  },
  {
   "cell_type": "code",
   "execution_count": null,
   "metadata": {},
   "outputs": [],
   "source": [
    "results_EMM_all_lag = pd.read_csv('joined_frames_lagphase_EMM.csv')\n",
    "results_EMM_all_maxslope = pd.read_csv('joined_frames_maxslope_EMM.csv')\n",
    "\n",
    "\n",
    "results_EMM_all_maxslope = results_EMM_all_maxslope.set_index('Medium_Stress')\n",
    "results_EMM_all_lag = results_EMM_all_lag.set_index('Medium_Stress')"
   ]
  },
  {
   "cell_type": "code",
   "execution_count": null,
   "metadata": {},
   "outputs": [],
   "source": [
    "results_EMM_all_maxslope = results_EMM_all_maxslope.transpose()\n",
    "results_EMM_all_lag = results_EMM_all_lag.transpose()"
   ]
  },
  {
   "cell_type": "code",
   "execution_count": null,
   "metadata": {},
   "outputs": [],
   "source": [
    "results_EMM_all_lag"
   ]
  },
  {
   "cell_type": "code",
   "execution_count": null,
   "metadata": {
    "scrolled": true
   },
   "outputs": [],
   "source": [
    "results_EMM_all_maxslope"
   ]
  },
  {
   "cell_type": "code",
   "execution_count": null,
   "metadata": {},
   "outputs": [],
   "source": [
    "maxslope_pivot_YES"
   ]
  },
  {
   "cell_type": "markdown",
   "metadata": {},
   "source": [
    "## Tutaj mam poprawnie zrobione heatmapy EMM - do czyszczenia\n",
    "\n",
    "#### ładuję pliki \n",
    "    results_EMM_all_lag\n",
    "    results_EMM_all_maxslope"
   ]
  },
  {
   "cell_type": "code",
   "execution_count": null,
   "metadata": {},
   "outputs": [],
   "source": [
    "results_EMM_all_lag"
   ]
  },
  {
   "cell_type": "code",
   "execution_count": null,
   "metadata": {},
   "outputs": [],
   "source": [
    "#heatmap maxslope EMM\n",
    "\n",
    "\n",
    "df = results_EMM_all_maxslope\n",
    "fig, ax = plt.subplots(figsize=a4_dims)\n",
    "plt.fontsize=20\n",
    "#plt.xlim([0,8])\n",
    "#plt.ylim([0.01,150])\n",
    "plt.xticks(fontsize=18, rotation=90)\n",
    "plt.yticks(fontsize=18)\n",
    "plt.setp(ax.get_xticklabels(), rotation=45, ha=\"right\",\n",
    "             rotation_mode=\"anchor\")\n",
    "#plt.legend(loc=2, prop={'size': 6})\n",
    "plt.title(\"The maximum slope of the growth curve of ncPAP deletion mutants in EMM medium\", fontsize=20)\n",
    "plt.xlabel(\"Medium & stress conditions\",fontsize=20)\n",
    "plt.ylabel(\"Deletion mutants\",fontsize=20)\n",
    "#plt =sns.heatmap(df,cmap=plt.cm.RdYlBu)\n",
    "#with sns.axes_style(\"white\"):\n",
    "#    ax = sns.heatmap(df, vmax=.3, square=True)\n",
    "\n",
    "plt.savefig(\"EMM_max_slope_RdYlBu_znormalizowana.pdf\")\n",
    "plt.savefig(\"EMM_max_slope_RdYlBu_znormalizowana.png\")"
   ]
  },
  {
   "cell_type": "code",
   "execution_count": null,
   "metadata": {},
   "outputs": [],
   "source": [
    "\n",
    "from __future__ import print_function\n",
    "from ipywidgets import interact, interactive, fixed, interact_manual\n",
    "import ipywidgets as widgets\n",
    "\n",
    "@interact\n",
    "def heat_map_fun(label_size=15,title_size=15):\n",
    "    def heat_map_elegant(title,path_to_save,df,cmap='RdYlBu',ylabel='Fission yeast name'):\n",
    "        ax =sns.heatmap(df,cmap=cmap,linewidths=5)\n",
    "        #with sns.axes_style(\"white\"):\n",
    "        #    ax = sns.heatmap(df, vmax=.3, square=True)\n",
    "        fig=ax.figure #wyciagamy dostep do figure\n",
    "        fig.set_size_inches(10,8)\n",
    "        ax.set(title=title,\n",
    "               ylabel=ylabel,\n",
    "              xlabel='Growth medium/ stress conditions',\n",
    "              )\n",
    "        ax.xaxis.label.set_size(label_size)\n",
    "        ax.yaxis.label.set_size(label_size)\n",
    "        ax.title.set_size(title_size)\n",
    "        plt.setp(ax.get_xticklabels(), rotation=45, ha=\"right\",\n",
    "                 rotation_mode=\"anchor\")\n",
    "        plt.setp(ax.get_yticklabels(), rotation=0, ha=\"right\",\n",
    "                 rotation_mode=\"anchor\")\n",
    "\n",
    "        plt.setp(ax.get_yticklabels(), style=\"italic\")    \n",
    "        #fig.savefig(path_to_save+\".pdf\",dpi=150)\n",
    "        #fig.savefig(path_to_save+\".png\",dpi=150)\n",
    "        return ax,fig\n",
    "    return heat_map_elegant(\"EMM_max_slope_RdYlBu_znormalizowana\",\"ploty/EMM_max_slope_RdYlBu_znormalizowana\",results_EMM_all_lag)"
   ]
  },
  {
   "cell_type": "code",
   "execution_count": null,
   "metadata": {},
   "outputs": [],
   "source": [
    "def heat_map_elegant(title,path_to_save,df,cmap='RdYlBu_r',ylabel='Name of ncPAP deletion mutants'):\n",
    "    ax =sns.heatmap(df,cmap=cmap,linewidths=1)\n",
    "    #with sns.axes_style(\"white\"):\n",
    "    #    ax = sns.heatmap(df, vmax=.3, square=True)\n",
    "    fig=ax.figure #wyciagamy dostep do figure\n",
    "    fig.set_size_inches(5,5.9)\n",
    "    ax.set(title=title,\n",
    "           ylabel=ylabel,\n",
    "          xlabel='EMM & stress conditions')\n",
    "    ax.xaxis.label.set_size(20)\n",
    "    ax.yaxis.label.set_size(20)\n",
    "    ax.title.set_size(20)\n",
    "    plt.setp(ax.get_xticklabels(), rotation=45, ha=\"right\",\n",
    "             rotation_mode=\"anchor\", fontsize=20)\n",
    "    plt.setp(ax.get_yticklabels(), rotation=0, ha=\"right\",\n",
    "             rotation_mode=\"anchor\", fontsize=20)\n",
    "    \n",
    "    plt.setp(ax.get_yticklabels(), style=\"italic\")   \n",
    "    plt.rcParams.update({'legend.labelspacing':0.25})\n",
    "    fig.tight_layout()\n",
    "\n",
    "    fig.savefig(path_to_save+\".pdf\",dpi=150)\n",
    "    fig.savefig(path_to_save+\".png\",dpi=150)\n",
    "    return ax,fig\n",
    "\n",
    "#ax,fig=heat_map_elegant(\"EMM_max_slope_RdYlBu_znormalizowana\",\"ploty/EMM_max_slope_RdYlBu_znormalizowana\",df);"
   ]
  },
  {
   "cell_type": "code",
   "execution_count": null,
   "metadata": {},
   "outputs": [],
   "source": [
    "ax,fig=heat_map_elegant(\"The normalized maximum slope of fission yeast in EMM medium\",\n",
    "                        \"ploty/EMM_maxslope_LL\",results_EMM_all_maxslope);"
   ]
  },
  {
   "cell_type": "code",
   "execution_count": null,
   "metadata": {},
   "outputs": [],
   "source": [
    "# odwraca kolory w wybramej cmap i tworzy nowy cmap o nazwie \"staranazwa_r\"\n",
    "reversed('RdYlBu')"
   ]
  },
  {
   "cell_type": "code",
   "execution_count": null,
   "metadata": {},
   "outputs": [],
   "source": [
    "def heat_map_elegant_YES(title,path_to_save,df,cmap='RdYlBu_r',ylabel='Fission yeast name'):\n",
    "    ax =sns.heatmap(df,cmap=cmap,linewidths=1)\n",
    "    #with sns.axes_style(\"white\"):\n",
    "    #    ax = sns.heatmap(df, vmax=.3, square=True)\n",
    "    fig=ax.figure #wyciagamy dostep do figure\n",
    "    fig.set_size_inches(5.5,9)\n",
    "    ax.set(title=title,\n",
    "           ylabel=ylabel,\n",
    "          xlabel='YES & stress conditions')\n",
    "    ax.xaxis.label.set_size(20)\n",
    "    ax.yaxis.label.set_size(20)\n",
    "    ax.title.set_size(20)\n",
    "    plt.setp(ax.get_xticklabels(), rotation=45, ha=\"right\",\n",
    "             rotation_mode=\"anchor\", fontsize=20)\n",
    "    plt.setp(ax.get_yticklabels(), rotation=0, ha=\"right\",\n",
    "             rotation_mode=\"anchor\", fontsize=20)\n",
    "    \n",
    "    plt.setp(ax.get_yticklabels(), style=\"italic\")   \n",
    "    plt.rcParams.update({'legend.labelspacing':0.25})\n",
    "    fig.tight_layout()\n",
    "\n",
    "    fig.savefig(path_to_save+\".pdf\",dpi=150)\n",
    "    fig.savefig(path_to_save+\".png\",dpi=150)\n",
    "    return ax,fig"
   ]
  },
  {
   "cell_type": "code",
   "execution_count": null,
   "metadata": {
    "scrolled": true
   },
   "outputs": [],
   "source": [
    "ax,fig=heat_map_elegant(\"The normalized Lag phase of fission yeast in EMM medium\",\n",
    "                        \"ploty/EMM_lagphase_LL\",df_yes_maxslope);"
   ]
  },
  {
   "cell_type": "code",
   "execution_count": null,
   "metadata": {},
   "outputs": [],
   "source": [
    "def heat_map_elegant_YES(title,path_to_save,df,cmap='RdYlBu_r',ylabel='Fission yeast name'):\n",
    "    ax =sns.heatmap(df,cmap=cmap,linewidths=1)\n",
    "    #with sns.axes_style(\"white\"):\n",
    "    #    ax = sns.heatmap(df, vmax=.3, square=True)\n",
    "    fig=ax.figure #wyciagamy dostep do figure\n",
    "    fig.set_size_inches(5.5,9)\n",
    "    ax.set(title=title,\n",
    "           ylabel=ylabel,\n",
    "          xlabel='YES & stress conditions')\n",
    "    ax.xaxis.label.set_size(20)\n",
    "    ax.yaxis.label.set_size(20)\n",
    "    ax.title.set_size(20)\n",
    "    plt.setp(ax.get_xticklabels(), rotation=45, ha=\"right\",\n",
    "             rotation_mode=\"anchor\", fontsize=20)\n",
    "    plt.setp(ax.get_yticklabels(), rotation=0, ha=\"right\",\n",
    "             rotation_mode=\"anchor\", fontsize=20)\n",
    "    \n",
    "    plt.setp(ax.get_yticklabels(), style=\"italic\")   \n",
    "    plt.rcParams.update({'legend.labelspacing':0.25})\n",
    "    fig.tight_layout()\n",
    "\n",
    "    fig.savefig(path_to_save+\".pdf\",dpi=150)\n",
    "    fig.savefig(path_to_save+\".png\",dpi=150)\n",
    "    return ax,fig\n",
    "\n",
    "#ax,fig=heat_map_elegant(\"EMM_max_slope_RdYlBu_znormalizowana\",\"ploty/EMM_max_slope_RdYlBu_znormalizowana\",df)"
   ]
  },
  {
   "cell_type": "code",
   "execution_count": null,
   "metadata": {},
   "outputs": [],
   "source": [
    "#YES\n",
    "df_yes_lagphase = normalized_lagphase_YES_pivot.transpose()\n",
    "df_yes_maxslope = normalized_maxslope_YES_pivot.transpose()\n"
   ]
  },
  {
   "cell_type": "code",
   "execution_count": null,
   "metadata": {},
   "outputs": [],
   "source": [
    "ax,fig=heat_map_elegant_YES(\"The normalized maximum slope of fission yeast in YES medium\",\n",
    "                        \"ploty/YES_maxslope_LL\",df);"
   ]
  },
  {
   "cell_type": "code",
   "execution_count": null,
   "metadata": {},
   "outputs": [],
   "source": [
    "#YES\n",
    "\n",
    "ax,fig=heat_map_elegant(\"The normalized maximum slope \\n of fission yeast in YES medium\",\n",
    "                        \"ploty/YES_maxslope_LL\",normalized_maxslope_YES_pivot)"
   ]
  },
  {
   "cell_type": "code",
   "execution_count": null,
   "metadata": {},
   "outputs": [],
   "source": [
    "ax,fig=heat_map_elegant_YES(\"The normalized Lag phase \\n of fission yeast in YES medium\",\n",
    "                        \"ploty/YES_lagphase_LL\",df_yes_lagphase);"
   ]
  },
  {
   "cell_type": "code",
   "execution_count": null,
   "metadata": {},
   "outputs": [],
   "source": []
  },
  {
   "cell_type": "code",
   "execution_count": null,
   "metadata": {
    "scrolled": true
   },
   "outputs": [],
   "source": [
    "ax.get_label"
   ]
  },
  {
   "cell_type": "code",
   "execution_count": null,
   "metadata": {},
   "outputs": [],
   "source": [
    "ax.figure.get_children()"
   ]
  },
  {
   "cell_type": "code",
   "execution_count": null,
   "metadata": {},
   "outputs": [],
   "source": [
    "fig.artists"
   ]
  },
  {
   "cell_type": "code",
   "execution_count": null,
   "metadata": {
    "scrolled": true
   },
   "outputs": [],
   "source": [
    "sns.heatmap(results_EMM_all_maxslope, cmap='RdYlBu')"
   ]
  },
  {
   "cell_type": "code",
   "execution_count": null,
   "metadata": {},
   "outputs": [],
   "source": [
    "results_EMM_all_maxslope"
   ]
  },
  {
   "cell_type": "code",
   "execution_count": null,
   "metadata": {
    "scrolled": true
   },
   "outputs": [],
   "source": [
    "sns.heatmap(results_EMM_all_lag, cmap='RdYlBu')"
   ]
  }
 ],
 "metadata": {
  "kernelspec": {
   "display_name": "Python 3",
   "language": "python",
   "name": "python3"
  },
  "language_info": {
   "codemirror_mode": {
    "name": "ipython",
    "version": 3
   },
   "file_extension": ".py",
   "mimetype": "text/x-python",
   "name": "python",
   "nbconvert_exporter": "python",
   "pygments_lexer": "ipython3",
   "version": "3.7.1"
  }
 },
 "nbformat": 4,
 "nbformat_minor": 2
}
