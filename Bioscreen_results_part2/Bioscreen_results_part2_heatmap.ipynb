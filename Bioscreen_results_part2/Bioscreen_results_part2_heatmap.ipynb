{
 "cells": [
  {
   "cell_type": "markdown",
   "metadata": {},
   "source": [
    "# PART 2\n",
    "\n",
    "# Analysis of data from data frames after usage of the pyphe-growthcurves pipeline; Data visualization (Heatmaps)\n",
    "\n",
    "\n",
    "The notebook is the second part of the script for analysis of the data obtained from Bioscreen or any other multi-well plate experiment. On previous notebook, we prepared the data frames with results of the maximum slope and lag phase, according to the script described by Stephan Kamrad frim Bahler's Lab.\n",
    "\n",
    "The data frames should be available in folders:\n",
    "\n",
    "                ./Data/Bioscreen_data_YES/\n",
    "                ./Data/Bioscreen_data_EMM/"
   ]
  },
  {
   "cell_type": "code",
   "execution_count": 2,
   "metadata": {},
   "outputs": [],
   "source": [
    "# Import libraries\n",
    "import numpy as np\n",
    "import pandas as pd\n",
    "import seaborn as sns\n",
    "import matplotlib.pyplot as plt\n",
    "import glob\n",
    "\n",
    "%matplotlib inline"
   ]
  },
  {
   "cell_type": "markdown",
   "metadata": {},
   "source": [
    "#### Let's create new directories"
   ]
  },
  {
   "cell_type": "code",
   "execution_count": null,
   "metadata": {},
   "outputs": [],
   "source": [
    "!mkdir DataFrames # Directory for saving new data frames\n",
    "!mkdir Heatmaps # Directory for saving the plots/heatmaps"
   ]
  },
  {
   "cell_type": "markdown",
   "metadata": {},
   "source": [
    "# Analysis of data for the mutants cultivated in YES medium"
   ]
  },
  {
   "cell_type": "markdown",
   "metadata": {},
   "source": [
    "### Import data"
   ]
  },
  {
   "cell_type": "code",
   "execution_count": 22,
   "metadata": {},
   "outputs": [],
   "source": [
    "# YES:\n",
    "path_YES =r'./Example_data/Bioscreen_data_YES/'\n",
    "filenames_YES = glob.glob(path_YES + \"*.csv\")"
   ]
  },
  {
   "cell_type": "code",
   "execution_count": 25,
   "metadata": {},
   "outputs": [],
   "source": [
    "import os.path\n",
    "old_names=[os.path.splitext(os.path.basename(name))[0] for name in filenames_YES]"
   ]
  },
  {
   "cell_type": "code",
   "execution_count": 26,
   "metadata": {},
   "outputs": [],
   "source": [
    "YES_list=[pd.read_csv(filename_YES) for filename_YES in filenames_YES]"
   ]
  },
  {
   "cell_type": "markdown",
   "metadata": {},
   "source": [
    "### Preprocessing of results"
   ]
  },
  {
   "cell_type": "markdown",
   "metadata": {},
   "source": [
    "Before starting the preparation of heatmaps, we need to preprocessed data in the data frames, and t normalize results.\n",
    "\n",
    "Preprocessing of data have several steps:\n",
    "* Add a new column \"Medium\" containing the proper medium name (YES or EMM, respectively);\n",
    "* Split the column \"Mutants\" to obtain separately in the next steps the columns with the name of strain/mutant and name of stressor;\n",
    "* Add a new column \"Medium_Stress\" by merging the columns \"Medium\" and \"Stress\" - we will use this column as y-label."
   ]
  },
  {
   "cell_type": "code",
   "execution_count": 36,
   "metadata": {},
   "outputs": [],
   "source": [
    "# Preprocessing of data frames\n",
    "\n",
    "def put_yeast_stress(YES):\n",
    "    '''\n",
    "    This function:\n",
    "    adds a new column \"Medium\" containing the proper medium name (YES or EMM, respectively);\n",
    "    splits the column \"Mutants\" to the columns containing the name of strain/mutant and name of stressor;\n",
    "    adds a new column \"Medium_Stress\" by merging the columns \"Medium\" and \"Stress\"\n",
    "    \n",
    "    '''\n",
    "    YES['Medium'] = 'YES' \n",
    "    new_i = YES[\"Mutants\"].str.split(\"_\", n = 1, expand = True)   \n",
    "    YES[\"Yeast\"]= new_i[0]   \n",
    "    YES[\"Stress\"]= new_i[1]  \n",
    "    YES['Medium_Stress'] = YES[['Medium','Stress']].apply(lambda x: '_'.join(x[x.notnull()]),\n",
    "                                                      axis = 1)  \n",
    "   "
   ]
  },
  {
   "cell_type": "code",
   "execution_count": 37,
   "metadata": {},
   "outputs": [],
   "source": [
    "# Execute the function for all the data frames:\n",
    "\n",
    "for YES in YES_list:\n",
    "    put_yeast_stress(YES)"
   ]
  },
  {
   "cell_type": "code",
   "execution_count": 39,
   "metadata": {
    "scrolled": false
   },
   "outputs": [
    {
     "name": "stdout",
     "output_type": "stream",
     "text": [
      "DataFrames/preprocessed_YES_20190601.csv\n",
      "DataFrames/preprocessed_YES_20190602.csv\n"
     ]
    }
   ],
   "source": [
    "\"\"\" \n",
    "zip() is a python build-in function takes a pair one from first one from second list.\n",
    "It just works like a zipper. \n",
    "It takes two lists, and aggregates the arguments having the same possition (e.g. 0,1,2,..)\n",
    "\n",
    "\"\"\"\n",
    "\n",
    "for old_name,YES in zip(old_names,YES_list): \n",
    "    '''\n",
    "    This function save all the data frames obtained in previous step as csv files in the folder \"DataFrames\". \n",
    "\n",
    "    '''\n",
    "    print(os.path.join(\"DataFrames\",\"preprocessed_%s.csv\" % old_name))\n",
    "    YES.to_csv(os.path.join(\"DataFrames\",\"preprocessed_%s.csv\" % old_name))"
   ]
  },
  {
   "cell_type": "markdown",
   "metadata": {},
   "source": [
    "### Make the pivot tables containing maximum slope and lag phase, respectively"
   ]
  },
  {
   "cell_type": "code",
   "execution_count": 40,
   "metadata": {},
   "outputs": [],
   "source": [
    "lagphase_pivot_YES_list=[YES.pivot_table(index='Yeast', columns='Medium_Stress', values='lag')\n",
    "                        for YES in YES_list]\n",
    "\n",
    "maxslope_pivot_YES_list=[YES.pivot_table(index='Yeast', columns='Medium_Stress', values='max_slope')\n",
    "                        for YES in YES_list]"
   ]
  },
  {
   "cell_type": "code",
   "execution_count": 41,
   "metadata": {},
   "outputs": [
    {
     "name": "stdout",
     "output_type": "stream",
     "text": [
      "DataFrames/lagphase_pivot_YES_20190601.csv\n",
      "DataFrames/lagphase_pivot_YES_20190602.csv\n"
     ]
    }
   ],
   "source": [
    "for old_name,YES in zip(old_names, lagphase_pivot_YES_list):\n",
    "    '''\n",
    "    This function save the pivot tables with lag phase (results before normalization) \n",
    "    as csv files in the folder \"DataFrames\"\n",
    "    '''\n",
    "    print(os.path.join(\"DataFrames\",\"lagphase_pivot_%s.csv\" % old_name))\n",
    "    YES.to_csv(os.path.join(\"DataFrames\",\"lagphase_pivot_%s.csv\" % old_name))"
   ]
  },
  {
   "cell_type": "code",
   "execution_count": null,
   "metadata": {},
   "outputs": [],
   "source": [
    "for old_name,YES in zip(old_names, maxslope_pivot_YES_list):\n",
    "    '''\n",
    "    This function save the pivot tables with maximum slope (results before normalization) \n",
    "    as csv files in the folder \"DataFrames\"\n",
    "    '''\n",
    "    print(os.path.join(\"DataFrames\",\"maxslope_pivot_%s.csv\" % old_name))\n",
    "    YES.to_csv(os.path.join(\"DataFrames\",\"maxslope_pivot_%s.csv\" % old_name))"
   ]
  },
  {
   "cell_type": "code",
   "execution_count": null,
   "metadata": {},
   "outputs": [],
   "source": [
    "# Print the pivot tables (if you want):\n",
    "print(\"results of lag phase:\")\n",
    "print(lagphase_pivot_YES_list)\n",
    "print(\"\")\n",
    "print(\"\")\n",
    "print(\"results of Maximum slope:\")\n",
    "print(maxslope_pivot_YES_list)"
   ]
  },
  {
   "cell_type": "markdown",
   "metadata": {},
   "source": [
    "### Normalization of pivot tables with lag phase and maximum slope\n",
    "\n",
    "Every data frame was prepared as a result of separate experiment. Due to that and the possibility of some differences between the experiments, we will normalize the results for every experiment (data frame) separately. After that, we will merge the normalized pivot tables.\n",
    "\n",
    "Data for each mutant were normalized to growth on media without the stressor (EMM or YES respectively). \n"
   ]
  },
  {
   "cell_type": "markdown",
   "metadata": {},
   "source": [
    "## Uwaga: poniższe funkcje są do drobnej modyfikacji. "
   ]
  },
  {
   "cell_type": "code",
   "execution_count": null,
   "metadata": {
    "scrolled": true
   },
   "outputs": [],
   "source": [
    "# Lag phase\n",
    "for i in lagphase_pivot_YES_list:\n",
    "    for number in range(1,2):\n",
    "        lagphase_divider_YES[number]= i['YES']\n",
    "        lagphase_divider_YES[number] = lagphase_divider_YES[number].transpose()\n",
    "        \n",
    "        lagphase_after_transpose = i[number]\n",
    " #       lagphase_after_transpose[number] = i[number].transpose() \n",
    "    \n",
    "    \n",
    " #       lagphase_after_transpose_YES[number] = i[number].transpose()\n",
    "        pivot_lagphase_normalized_YES[number] = lagphase_after_transpose_YES[number]/lagphase_divider_YES[number]\n",
    "        pivot_lagphase_normalized_YES[number] = pivot_lagphase_normalized_YES[number].transpose()"
   ]
  },
  {
   "cell_type": "code",
   "execution_count": null,
   "metadata": {},
   "outputs": [],
   "source": [
    "# Maximum slope\n",
    "for i in maxslope_pivot_YES_list:\n",
    "    for number in range(1,2):\n",
    "        maxslope_divider_YES[number]= i['YES']\n",
    "        maxslope_divider_YES[number] = maxslope_divider_YES[number].transpose()\n",
    "        \n",
    "        maxslope_after_transpose = i[number]\n",
    " #       lagphase_after_transpose[number] = i[number].transpose() \n",
    "    \n",
    "    \n",
    " #       lagphase_after_transpose_YES[number] = i[number].transpose()\n",
    "        pivot_maxslope_normalized_YES[number] = maxslope_after_transpose_YES[number]/maxslope_divider_YES[number]\n",
    "        pivot_maxslope_normalized_YES[number] = pivot_maxslope_normalized_YES[number].transpose()"
   ]
  },
  {
   "cell_type": "code",
   "execution_count": null,
   "metadata": {},
   "outputs": [],
   "source": [
    "for old_name,YES in zip(old_names, YES_pivot_lagphase_normalized):\n",
    "    '''\n",
    "    This function save the pivot tables with normalized lag phase\n",
    "    as csv files in the folder \"DataFrames\"\n",
    "    '''\n",
    "    print(os.path.join(\"DataFrames\",\"lagphase_pivot_normalized_%s.csv\" % old_name))\n",
    "    YES.to_csv(os.path.join(\"DataFrames\",\"lagphase_normalized_pivot_%s.csv\" % old_name))"
   ]
  },
  {
   "cell_type": "code",
   "execution_count": null,
   "metadata": {},
   "outputs": [],
   "source": [
    "for old_name,YES in zip(old_names, YES_pivot_maxslope_normalized):\n",
    "    '''\n",
    "    This function save the pivot tables with normalized maximum slope\n",
    "    as csv files in the folder \"DataFrames\"\n",
    "    '''\n",
    "    print(os.path.join(\"DataFrames\",\"maxslope_pivot_normalized_%s.csv\" % old_name))\n",
    "    YES.to_csv(os.path.join(\"DataFrames\",\"maxslope_normalized_pivot_%s.csv\" % old_name))"
   ]
  },
  {
   "cell_type": "code",
   "execution_count": null,
   "metadata": {},
   "outputs": [],
   "source": [
    "# Print the pivot tables with normalized results (if you want):\n",
    "print(\"Normalized results of lag phase:\")\n",
    "print(YES_pivot_lagphase_normalized)\n",
    "print(\"\")\n",
    "print(\"\")\n",
    "print(\"Normalized results of Maximum slope:\")\n",
    "print(YES_pivot_maxslope_normalized)"
   ]
  },
  {
   "cell_type": "markdown",
   "metadata": {},
   "source": [
    "## YES - Heatmaps preparation"
   ]
  },
  {
   "cell_type": "code",
   "execution_count": null,
   "metadata": {},
   "outputs": [],
   "source": [
    "# Helper funtion with interactive widgets to select proper size of labels and title\n",
    "\n",
    "from __future__ import print_function\n",
    "from ipywidgets import interact, interactive, fixed, interact_manual\n",
    "import ipywidgets as widgets\n",
    "\n",
    "@interact\n",
    "def heat_map_fun(label_size=15,title_size=15):\n",
    "    def heat_map_elegant(title,path_to_save,df,cmap='RdYlBu',ylabel='Fission yeast name'):\n",
    "        \n",
    "        '''\n",
    "        This function will create the heatmap using Ipython widgets. \n",
    "        This interactive tool will allow to  to select proper size of labels and title\n",
    "        '''\n",
    "        ax =sns.heatmap(df,cmap=cmap,linewidths=5)\n",
    "        #with sns.axes_style(\"white\"):\n",
    "        #    ax = sns.heatmap(df, vmax=.3, square=True)\n",
    "        fig=ax.figure #wyciagamy dostep do figure\n",
    "        fig.set_size_inches(10,8)\n",
    "        ax.set(title=title,\n",
    "               ylabel=ylabel,\n",
    "              xlabel='Growth medium/ stress conditions',\n",
    "              )\n",
    "        ax.xaxis.label.set_size(label_size)\n",
    "        ax.yaxis.label.set_size(label_size)\n",
    "        ax.title.set_size(title_size)\n",
    "        plt.setp(ax.get_xticklabels(), rotation=45, ha=\"right\",\n",
    "                 rotation_mode=\"anchor\")\n",
    "        plt.setp(ax.get_yticklabels(), rotation=0, ha=\"right\",\n",
    "                 rotation_mode=\"anchor\")\n",
    "\n",
    "        plt.setp(ax.get_yticklabels(), style=\"italic\")    \n",
    "        #fig.savefig(path_to_save+\".pdf\",dpi=150)\n",
    "        #fig.savefig(path_to_save+\".png\",dpi=150)\n",
    "        return ax,fig\n",
    "    return heat_map_elegant(\"The normalized maximum slope of fission yeast in YES\",\n",
    "                            \"Heatmaps//YES_max_slope_RdYlBu_znormalizowana\",YES_pivot_maxslope_normalized)"
   ]
  },
  {
   "cell_type": "markdown",
   "metadata": {},
   "source": [
    "## Colors of the heatmap\n",
    "\n",
    "We used two kinds of colors of cmap:\n",
    "1. 'RdYlBu' for visualizing the lag phase\n",
    "2. 'RdYlBu_r' ('RdYlBu' with reversed colors) for visualizing the maximum slope\n",
    "\n",
    "We used this approach because the higher result of the lag phase means the longest time before the exponential growth phase. The maximum slope has the opposite tendency - the highest result of maximum, the fastest growth in the exponential phase. \n",
    "\n",
    "You can find other colors for the label here: https://matplotlib.org/examples/color/colormaps_reference.html\n"
   ]
  },
  {
   "cell_type": "code",
   "execution_count": null,
   "metadata": {},
   "outputs": [],
   "source": [
    "reversed('RdYlBu')\n",
    "\n",
    "'''\n",
    "This function reverses the colors of chosen cmap 'RdYlBu' and makes new cmap named 'RdYlBu_r\n",
    "\n",
    "Input: 'RdYlBu'\n",
    "Output: 'RdYlBu_r'\n",
    "\n",
    "'''"
   ]
  },
  {
   "cell_type": "markdown",
   "metadata": {},
   "source": [
    "## Make the heatmaps"
   ]
  },
  {
   "cell_type": "code",
   "execution_count": null,
   "metadata": {},
   "outputs": [],
   "source": [
    "def heat_map_elegant_YES(title,path_to_save,df,cmap,ylabel='Name of ncPAP deletion mutants'):\n",
    "    '''\n",
    "    This function will create a heatmap and save it as pdf and png.\n",
    "    \n",
    "    title: title of plot [string]\n",
    "    path_to_save: path to directory where the heatmap will be saved [string]\n",
    "    df: \n",
    "    \n",
    "    '''\n",
    "    ax =sns.heatmap(df,cmap=cmap,linewidths=1)\n",
    "    #with sns.axes_style(\"white\"):\n",
    "    #    ax = sns.heatmap(df, vmax=.3, square=True)\n",
    "    fig=ax.figure #wyciagamy dostep do figure\n",
    "    fig.set_size_inches(6,9)\n",
    "    ax.set(title=title,\n",
    "           ylabel=ylabel,\n",
    "          xlabel='YES & stress conditions')\n",
    "    ax.xaxis.label.set_size(20)\n",
    "    ax.yaxis.label.set_size(20)\n",
    "    ax.title.set_size(20)\n",
    "    plt.setp(ax.get_xticklabels(), rotation=45, ha=\"right\",\n",
    "             rotation_mode=\"anchor\", fontsize=20)\n",
    "    plt.setp(ax.get_yticklabels(), rotation=0, ha=\"right\",\n",
    "             rotation_mode=\"anchor\", fontsize=20)\n",
    "    \n",
    "    plt.setp(ax.get_yticklabels(), style=\"italic\")   \n",
    "    plt.rcParams.update({'legend.labelspacing':0.25})\n",
    "    fig.tight_layout()\n",
    "\n",
    "    fig.savefig(path_to_save+\".pdf\",dpi=150)\n",
    "    fig.savefig(path_to_save+\".png\",dpi=150)\n",
    "    return ax,fig"
   ]
  },
  {
   "cell_type": "code",
   "execution_count": null,
   "metadata": {
    "scrolled": false
   },
   "outputs": [],
   "source": [
    "# Heatmap of the normalized maximum slope of fission yeast in YES\n",
    "\n",
    "heat_map_elegant_YES(\"The normalized maximum slope of fission yeast in YES\",\n",
    "                     \"Plots_Heatmaps//YES_max_slope_RdYlBu_znormalizowana\",\n",
    "                     YES_pivot_maxslope_normalized,'RdYlBu_r')"
   ]
  },
  {
   "cell_type": "code",
   "execution_count": null,
   "metadata": {},
   "outputs": [],
   "source": [
    "# Heatmap of the normalized lag phase of fission yeast in YES\n",
    "\n",
    "heat_map_elegant_YES(\"The normalized lag phase of fission yeast in YES\",\n",
    "                     \"Plots_Heatmaps//YES_lagphase_RdYlBu_znormalizowana\",\n",
    "                     YES_pivot_lagphase_normalized,'RdYlBu')"
   ]
  },
  {
   "cell_type": "markdown",
   "metadata": {},
   "source": [
    "# Analysis of data for the mutants cultivated in EMM medium\n",
    "### Preprocessing of results, and preparation of heatmaps (the same as for YES medium) "
   ]
  },
  {
   "cell_type": "code",
   "execution_count": 71,
   "metadata": {},
   "outputs": [],
   "source": [
    "# Make a path for data and list of files:\n",
    "path_EMM =r'./Example_data/Bioscreen_data_EMM/'\n",
    "filenames_EMM = glob.glob(path_EMM + \"*.csv\")\n",
    "filenames_EMM_short = filenames_EMM\n"
   ]
  },
  {
   "cell_type": "code",
   "execution_count": 72,
   "metadata": {},
   "outputs": [],
   "source": [
    "import os.path\n",
    "old_names=[os.path.splitext(os.path.basename(name))[0] for name in filenames_EMM]"
   ]
  },
  {
   "cell_type": "code",
   "execution_count": 73,
   "metadata": {},
   "outputs": [],
   "source": [
    "EMM_list=[pd.read_csv(filename_EMM) for filename_EMM in filenames_EMM ]"
   ]
  },
  {
   "cell_type": "code",
   "execution_count": 74,
   "metadata": {},
   "outputs": [],
   "source": [
    "# We have 3 example files with results of maximum slope and lag phase of mutants cultivated \n",
    "# in EMM supplemented with stressors\n",
    "#\n",
    "# Please do it only once - the second one will change the output\n",
    "\n",
    "\n",
    "def put_yeast_stress(EMM):\n",
    "    EMM['Medium'] = 'EMM'        #Add new column 'Medium'    \n",
    "    new_i = EMM[\"Mutants\"].str.split(\"_\", n = 1, expand = True)  # Make temporarily 'new' data frame    \n",
    "    EMM[\"Yeast\"]= new_i[0] # Add column 'Yeast' from 'new' data frame    \n",
    "    EMM[\"Stress\"]= new_i[1]  # Add column 'Stress' from 'new' data frame    \n",
    "    EMM['Medium_Stress'] = EMM[['Medium','Stress']].apply(lambda x: '_'.join(x[x.notnull()]),\n",
    "                                                      axis = 1) # Add column '_Medium_Stress'"
   ]
  },
  {
   "cell_type": "code",
   "execution_count": 75,
   "metadata": {},
   "outputs": [],
   "source": [
    "for EMM in EMM_list:\n",
    "    put_yeast_stress(EMM)"
   ]
  },
  {
   "cell_type": "code",
   "execution_count": 76,
   "metadata": {},
   "outputs": [
    {
     "name": "stdout",
     "output_type": "stream",
     "text": [
      "DataFrames/preprocessed_EMM_20190624.csv\n",
      "DataFrames/preprocessed_EMM_20190613.csv\n",
      "DataFrames/preprocessed_EMM_20190612.csv\n"
     ]
    }
   ],
   "source": [
    "for old_name,EMM in zip(old_names,EMM_list): # takes a pair one from first one from second list\n",
    "    print(os.path.join(\"DataFrames\",\"preprocessed_%s.csv\" % old_name))\n",
    "    EMM.to_csv(os.path.join(\"DataFrames\",\"preprocessed_%s.csv\" % old_name))"
   ]
  },
  {
   "cell_type": "code",
   "execution_count": 77,
   "metadata": {},
   "outputs": [],
   "source": [
    "lagphase_pivot_EMM_list=[EMM.pivot_table(index='Yeast', columns='Medium_Stress', values='lag')\n",
    "                        for EMM in EMM_list]\n",
    "\n",
    "maxslope_pivot_EMM_list=[EMM.pivot_table(index='Yeast', columns='Medium_Stress', values='max_slope')\n",
    "                        for EMM in EMM_list]"
   ]
  },
  {
   "cell_type": "code",
   "execution_count": 78,
   "metadata": {},
   "outputs": [
    {
     "name": "stdout",
     "output_type": "stream",
     "text": [
      "DataFrames/lagphase_pivot_EMM_20190624.csv\n",
      "DataFrames/lagphase_pivot_EMM_20190613.csv\n",
      "DataFrames/lagphase_pivot_EMM_20190612.csv\n"
     ]
    }
   ],
   "source": [
    "for old_name,EMM in zip(old_names, lagphase_pivot_EMM_list):\n",
    "    print(os.path.join(\"DataFrames\",\"lagphase_pivot_%s.csv\" % old_name))\n",
    "    EMM.to_csv(os.path.join(\"DataFrames\",\"lagphase_pivot_%s.csv\" % old_name))"
   ]
  },
  {
   "cell_type": "code",
   "execution_count": 79,
   "metadata": {},
   "outputs": [
    {
     "name": "stdout",
     "output_type": "stream",
     "text": [
      "DataFrames/maxslope_pivot_EMM_20190624.csv\n",
      "DataFrames/maxslope_pivot_EMM_20190613.csv\n",
      "DataFrames/maxslope_pivot_EMM_20190612.csv\n"
     ]
    }
   ],
   "source": [
    "for old_name,EMM in zip(old_names, maxslope_pivot_EMM_list):\n",
    "    print(os.path.join(\"DataFrames\",\"maxslope_pivot_%s.csv\" % old_name))\n",
    "    EMM.to_csv(os.path.join(\"DataFrames\",\"maxslope_pivot_%s.csv\" % old_name))"
   ]
  },
  {
   "cell_type": "code",
   "execution_count": 80,
   "metadata": {},
   "outputs": [],
   "source": [
    "list_of_lagphase_EMM=[pd.read_csv(os.path.join(\"DataFrames\",\"maxslope_pivot_%s.csv\" % old_name))]"
   ]
  },
  {
   "cell_type": "code",
   "execution_count": null,
   "metadata": {},
   "outputs": [],
   "source": [
    "# Data for each mutant were normalized to growth on media without the stressor (EMM or YES, respectively).\n",
    "\n",
    "# Lag phase\n",
    "for i in list_of_lagphase_EMM:\n",
    "    for number in range (1,5):\n",
    "        lagphase_divider_EMM = i['EMM']\n",
    "        lagphase_divider_EMM[number] = lagphase_divider_EMM[number].transpose()\n",
    "    \n",
    "        lagphase_after_transpose_EMM = i[0]\n",
    "        lagphase_after_transpose_EMM[number] = i.transpose()\n",
    "        pivot_lagphase_normalized_EMM[number] = lagphase_after_transpose_EMM[number]/lagphase_divider_EMM[number]\n",
    "        pivot_lagphase_normalized_EMM[number] = pivot_lagphase_normalized_EMM[number].transpose()\n",
    "   "
   ]
  },
  {
   "cell_type": "code",
   "execution_count": null,
   "metadata": {},
   "outputs": [],
   "source": [
    "# Maximum slope\n",
    "for i in list_of_maxslope_EMM:\n",
    "    for number in range (1,5):\n",
    "        maxslope_divider_EMM = i['EMM']\n",
    "        maxslope_divider_EMM[number] = maxslope_divider_EMM[number].transpose()\n",
    "    \n",
    "        maxslope_after_transpose_EMM = i[0]\n",
    "        maxslope_after_transpose_EMM[number] = i.transpose()\n",
    "        pivot_maxslope_normalized_EMM[number] = maxslope_after_transpose_EMM[number]/maxslope_divider_EMM[number]\n",
    "        pivot_maxslope_normalized_EMM[number] = pivot_maxslope_normalized_EMM[number].transpose()"
   ]
  },
  {
   "cell_type": "markdown",
   "metadata": {},
   "source": [
    "### Join pivot tables (lag phase and maxslope separately) after all of EMM experiments together"
   ]
  },
  {
   "cell_type": "code",
   "execution_count": null,
   "metadata": {},
   "outputs": [],
   "source": [
    "#LAG PHASE\n",
    "\n",
    "frames_lagphase_EMM = [normalized_lagphase_EMM_pivot_30052019,\n",
    "                       normalized_lagphase_EMM_pivot_06062019, normalized_lagphase_EMM_pivot_12062019, \n",
    "                       normalized_lagphase_EMM_pivot_13062019,normalized_lagphase_EMM_pivot_24062019]\n",
    "\n",
    "joined_frames_lagphase_EMM = pd.concat(frames_lagphase_EMM)"
   ]
  },
  {
   "cell_type": "code",
   "execution_count": null,
   "metadata": {},
   "outputs": [],
   "source": [
    "#LAG PHASE\n",
    "\n",
    "frames_maxslope_EMM = [normalized_maxslope_EMM_pivot_30052019,\n",
    "                       normalized_maxslope_EMM_pivot_06062019, normalized_maxslope_EMM_pivot_12062019, \n",
    "                       normalized_maxslope_EMM_pivot_13062019,normalized_maxslope_EMM_pivot_24062019]\n",
    "\n",
    "joined_frames_maxslope_EMM = pd.concat(frames_maxslope_EMM )\n",
    "joined_frames_maxslope_EMM\n"
   ]
  },
  {
   "cell_type": "markdown",
   "metadata": {},
   "source": [
    "### Heatmaps"
   ]
  },
  {
   "cell_type": "code",
   "execution_count": null,
   "metadata": {},
   "outputs": [],
   "source": [
    "\n",
    "from __future__ import print_function\n",
    "from ipywidgets import interact, interactive, fixed, interact_manual\n",
    "import ipywidgets as widgets\n",
    "\n",
    "@interact\n",
    "def heat_map_fun(label_size=15,title_size=15):\n",
    "    def heat_map_elegant(title,path_to_save,df,cmap='RdYlBu',ylabel='Fission yeast name'):\n",
    "        ax =sns.heatmap(df,cmap=cmap,linewidths=5)\n",
    "        #with sns.axes_style(\"white\"):\n",
    "        #    ax = sns.heatmap(df, vmax=.3, square=True)\n",
    "        fig=ax.figure #wyciagamy dostep do figure\n",
    "        fig.set_size_inches(10,8)\n",
    "        ax.set(title=title,\n",
    "               ylabel=ylabel,\n",
    "              xlabel='Growth medium/ stress conditions',\n",
    "              )\n",
    "        ax.xaxis.label.set_size(label_size)\n",
    "        ax.yaxis.label.set_size(label_size)\n",
    "        ax.title.set_size(title_size)\n",
    "        plt.setp(ax.get_xticklabels(), rotation=45, ha=\"right\",\n",
    "                 rotation_mode=\"anchor\")\n",
    "        plt.setp(ax.get_yticklabels(), rotation=0, ha=\"right\",\n",
    "                 rotation_mode=\"anchor\")\n",
    "\n",
    "        plt.setp(ax.get_yticklabels(), style=\"italic\")    \n",
    "        #fig.savefig(path_to_save+\".pdf\",dpi=150)\n",
    "        #fig.savefig(path_to_save+\".png\",dpi=150)\n",
    "        return ax,fig\n",
    "    return heat_map_elegant(\"EMM_max_slope_RdYlBu_znormalizowana\",\"ploty/EMM_max_slope_RdYlBu_znormalizowana\",results_EMM_all_lag)"
   ]
  },
  {
   "cell_type": "code",
   "execution_count": null,
   "metadata": {},
   "outputs": [],
   "source": [
    "def heat_map_elegant(title,path_to_save,df,cmap='RdYlBu_r',ylabel='Name of ncPAP deletion mutants'):\n",
    "    ax =sns.heatmap(df,cmap=cmap,linewidths=1)\n",
    "    #with sns.axes_style(\"white\"):\n",
    "    #    ax = sns.heatmap(df, vmax=.3, square=True)\n",
    "    fig=ax.figure #wyciagamy dostep do figure\n",
    "    fig.set_size_inches(5,5.9)\n",
    "    ax.set(title=title,\n",
    "           ylabel=ylabel,\n",
    "          xlabel='EMM & stress conditions')\n",
    "    ax.xaxis.label.set_size(20)\n",
    "    ax.yaxis.label.set_size(20)\n",
    "    ax.title.set_size(20)\n",
    "    plt.setp(ax.get_xticklabels(), rotation=45, ha=\"right\",\n",
    "             rotation_mode=\"anchor\", fontsize=20)\n",
    "    plt.setp(ax.get_yticklabels(), rotation=0, ha=\"right\",\n",
    "             rotation_mode=\"anchor\", fontsize=20)\n",
    "    \n",
    "    plt.setp(ax.get_yticklabels(), style=\"italic\")   \n",
    "    plt.rcParams.update({'legend.labelspacing':0.25})\n",
    "    fig.tight_layout()\n",
    "\n",
    "    fig.savefig(path_to_save+\".pdf\",dpi=150)\n",
    "    fig.savefig(path_to_save+\".png\",dpi=150)\n",
    "    return ax,fig\n",
    "\n",
    "#ax,fig=heat_map_elegant(\"EMM_max_slope_RdYlBu_znormalizowana\",\"ploty/EMM_max_slope_RdYlBu_znormalizowana\",df);"
   ]
  },
  {
   "cell_type": "code",
   "execution_count": null,
   "metadata": {},
   "outputs": [],
   "source": [
    "ax,fig=heat_map_elegant(\"The normalized maximum slope of fission yeast in EMM medium\",\n",
    "                        \"ploty/EMM_maxslope_LL\",results_EMM_all_maxslope);"
   ]
  },
  {
   "cell_type": "code",
   "execution_count": null,
   "metadata": {},
   "outputs": [],
   "source": [
    "def heat_map_elegant_YES(title,path_to_save,df,cmap='RdYlBu_r',ylabel='Fission yeast name'):\n",
    "    ax =sns.heatmap(df,cmap=cmap,linewidths=1)\n",
    "    #with sns.axes_style(\"white\"):\n",
    "    #    ax = sns.heatmap(df, vmax=.3, square=True)\n",
    "    fig=ax.figure #wyciagamy dostep do figure\n",
    "    fig.set_size_inches(5.5,9)\n",
    "    ax.set(title=title,\n",
    "           ylabel=ylabel,\n",
    "          xlabel='YES & stress conditions')\n",
    "    ax.xaxis.label.set_size(20)\n",
    "    ax.yaxis.label.set_size(20)\n",
    "    ax.title.set_size(20)\n",
    "    plt.setp(ax.get_xticklabels(), rotation=45, ha=\"right\",\n",
    "             rotation_mode=\"anchor\", fontsize=20)\n",
    "    plt.setp(ax.get_yticklabels(), rotation=0, ha=\"right\",\n",
    "             rotation_mode=\"anchor\", fontsize=20)\n",
    "    \n",
    "    plt.setp(ax.get_yticklabels(), style=\"italic\")   \n",
    "    plt.rcParams.update({'legend.labelspacing':0.25})\n",
    "    fig.tight_layout()\n",
    "\n",
    "    fig.savefig(path_to_save+\".pdf\",dpi=150)\n",
    "    fig.savefig(path_to_save+\".png\",dpi=150)\n",
    "    return ax,fig"
   ]
  },
  {
   "cell_type": "code",
   "execution_count": null,
   "metadata": {
    "scrolled": true
   },
   "outputs": [],
   "source": [
    "ax,fig=heat_map_elegant(\"The normalized Lag phase of fission yeast in EMM medium\",\n",
    "                        \"ploty/EMM_lagphase_LL\",df_yes_maxslope);"
   ]
  },
  {
   "cell_type": "code",
   "execution_count": null,
   "metadata": {},
   "outputs": [],
   "source": [
    "def heat_map_elegant_YES(title,path_to_save,df,cmap='RdYlBu_r',ylabel='Fission yeast name'):\n",
    "    ax =sns.heatmap(df,cmap=cmap,linewidths=1)\n",
    "    #with sns.axes_style(\"white\"):\n",
    "    #    ax = sns.heatmap(df, vmax=.3, square=True)\n",
    "    fig=ax.figure #wyciagamy dostep do figure\n",
    "    fig.set_size_inches(5.5,9)\n",
    "    ax.set(title=title,\n",
    "           ylabel=ylabel,\n",
    "          xlabel='YES & stress conditions')\n",
    "    ax.xaxis.label.set_size(20)\n",
    "    ax.yaxis.label.set_size(20)\n",
    "    ax.title.set_size(20)\n",
    "    plt.setp(ax.get_xticklabels(), rotation=45, ha=\"right\",\n",
    "             rotation_mode=\"anchor\", fontsize=20)\n",
    "    plt.setp(ax.get_yticklabels(), rotation=0, ha=\"right\",\n",
    "             rotation_mode=\"anchor\", fontsize=20)\n",
    "    \n",
    "    plt.setp(ax.get_yticklabels(), style=\"italic\")   \n",
    "    plt.rcParams.update({'legend.labelspacing':0.25})\n",
    "    fig.tight_layout()\n",
    "\n",
    "    fig.savefig(path_to_save+\".pdf\",dpi=150)\n",
    "    fig.savefig(path_to_save+\".png\",dpi=150)\n",
    "    return ax,fig\n",
    "\n",
    "#ax,fig=heat_map_elegant(\"EMM_max_slope_RdYlBu_znormalizowana\",\"ploty/EMM_max_slope_RdYlBu_znormalizowana\",df)"
   ]
  },
  {
   "cell_type": "code",
   "execution_count": null,
   "metadata": {
    "scrolled": true
   },
   "outputs": [],
   "source": [
    "sns.heatmap(results_EMM_all_lag, cmap='RdYlBu')"
   ]
  }
 ],
 "metadata": {
  "kernelspec": {
   "display_name": "Python 3",
   "language": "python",
   "name": "python3"
  },
  "language_info": {
   "codemirror_mode": {
    "name": "ipython",
    "version": 3
   },
   "file_extension": ".py",
   "mimetype": "text/x-python",
   "name": "python",
   "nbconvert_exporter": "python",
   "pygments_lexer": "ipython3",
   "version": "3.7.1"
  }
 },
 "nbformat": 4,
 "nbformat_minor": 2
}
