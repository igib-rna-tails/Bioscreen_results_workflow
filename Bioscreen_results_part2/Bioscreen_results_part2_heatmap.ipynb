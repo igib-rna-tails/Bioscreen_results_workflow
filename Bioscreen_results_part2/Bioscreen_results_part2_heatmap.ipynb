{
 "cells": [
  {
   "cell_type": "markdown",
   "metadata": {},
   "source": [
    "# PART 2\n",
    "\n",
    "# Analysis of data from data frames after usage of pyphe-growthcurves pipeline; Data visualization (Heatmaps)\n",
    "\n",
    "\n",
    "The notebook is a second part of script for analysis the data obtained from Bioscreen or any other multi-well plate experiment. On previous notebook we prepared the data frames with results of the maximum slope and lag phase, according to script described by Stephan Kamrad frim Bahler's Lab.\n",
    "\n",
    "The data frames should be available in folders:\n",
    "\n",
    "                ./Data/Bioscreen_data_YES/\n",
    "                ./Data/Bioscreen_data_EMM/"
   ]
  },
  {
   "cell_type": "code",
   "execution_count": 2,
   "metadata": {},
   "outputs": [],
   "source": [
    "# Import libraries\n",
    "import numpy as np\n",
    "import pandas as pd\n",
    "import seaborn as sns\n",
    "import matplotlib.pyplot as plt\n",
    "import glob\n",
    "\n",
    "%matplotlib inline"
   ]
  },
  {
   "cell_type": "markdown",
   "metadata": {},
   "source": [
    "#### Let's create new directories"
   ]
  },
  {
   "cell_type": "code",
   "execution_count": null,
   "metadata": {},
   "outputs": [],
   "source": [
    "!mkdir DataFrames # Directory for saving new data frames\n",
    "!mkdir Heatmaps # Directory for saving the plots/heatmaps"
   ]
  },
  {
   "cell_type": "markdown",
   "metadata": {},
   "source": [
    "# the mutants cultivated in YES supplemented with stressors"
   ]
  },
  {
   "cell_type": "markdown",
   "metadata": {},
   "source": [
    "### Import data"
   ]
  },
  {
   "cell_type": "code",
   "execution_count": 22,
   "metadata": {},
   "outputs": [],
   "source": [
    "# YES:\n",
    "path_YES =r'./Example_data/Bioscreen_data_YES/'\n",
    "filenames_YES = glob.glob(path_YES + \"*.csv\")"
   ]
  },
  {
   "cell_type": "code",
   "execution_count": 25,
   "metadata": {},
   "outputs": [],
   "source": [
    "import os.path\n",
    "old_names=[os.path.splitext(os.path.basename(name))[0] for name in filenames_YES]"
   ]
  },
  {
   "cell_type": "code",
   "execution_count": 26,
   "metadata": {},
   "outputs": [],
   "source": [
    "YES_list=[pd.read_csv(filename_YES) for filename_YES in filenames_YES]"
   ]
  },
  {
   "cell_type": "markdown",
   "metadata": {},
   "source": [
    "# YES medium\n",
    "## Preprocessing of results"
   ]
  },
  {
   "cell_type": "code",
   "execution_count": 36,
   "metadata": {},
   "outputs": [],
   "source": [
    "# We have the example files with results of the mutants cultivated in YES supplemented with stressors\n",
    "\n",
    "def put_yeast_stress(YES):\n",
    "    YES['Medium'] = 'YES'        #Add new column 'Medium'    \n",
    "    new_i = YES[\"Mutants\"].str.split(\"_\", n = 1, expand = True)  # Make temporarily 'new' data frame    \n",
    "    YES[\"Yeast\"]= new_i[0] # Add column 'Yeast' from 'new' data frame    \n",
    "    YES[\"Stress\"]= new_i[1]  # Add column 'Stress' from 'new' data frame   \n",
    "    YES['Medium_Stress'] = YES[['Medium','Stress']].apply(lambda x: '_'.join(x[x.notnull()]),\n",
    "                                                      axis = 1) # Add column '_Medium_Stress'  \n",
    "   "
   ]
  },
  {
   "cell_type": "code",
   "execution_count": 37,
   "metadata": {},
   "outputs": [],
   "source": [
    "for YES in YES_list:\n",
    "    put_yeast_stress(YES)"
   ]
  },
  {
   "cell_type": "code",
   "execution_count": 39,
   "metadata": {
    "scrolled": false
   },
   "outputs": [
    {
     "name": "stdout",
     "output_type": "stream",
     "text": [
      "DataFrames/preprocessed_YES_20190601.csv\n",
      "DataFrames/preprocessed_YES_20190602.csv\n"
     ]
    }
   ],
   "source": [
    "for old_name,YES in zip(old_names,YES_list): # takes a pair one from first one from second list\n",
    "    print(os.path.join(\"DataFrames\",\"preprocessed_%s.csv\" % old_name))\n",
    "    YES.to_csv(os.path.join(\"DataFrames\",\"preprocessed_%s.csv\" % old_name))"
   ]
  },
  {
   "cell_type": "markdown",
   "metadata": {},
   "source": [
    "### Make the pivot tables with maximum slope and lag phase"
   ]
  },
  {
   "cell_type": "code",
   "execution_count": 40,
   "metadata": {},
   "outputs": [],
   "source": [
    "lagphase_pivot_YES_list=[YES.pivot_table(index='Yeast', columns='Medium_Stress', values='lag')\n",
    "                        for YES in YES_list]\n",
    "\n",
    "maxslope_pivot_YES_list=[YES.pivot_table(index='Yeast', columns='Medium_Stress', values='max_slope')\n",
    "                        for YES in YES_list]"
   ]
  },
  {
   "cell_type": "code",
   "execution_count": 41,
   "metadata": {},
   "outputs": [
    {
     "name": "stdout",
     "output_type": "stream",
     "text": [
      "DataFrames/lagphase_pivot_YES_20190601.csv\n",
      "DataFrames/lagphase_pivot_YES_20190602.csv\n"
     ]
    }
   ],
   "source": [
    "for old_name,YES in zip(old_names, lagphase_pivot_YES_list):\n",
    "    print(os.path.join(\"DataFrames\",\"lagphase_pivot_%s.csv\" % old_name))\n",
    "    YES.to_csv(os.path.join(\"DataFrames\",\"lagphase_pivot_%s.csv\" % old_name))"
   ]
  },
  {
   "cell_type": "markdown",
   "metadata": {},
   "source": [
    "### Results of lag phase and maximum slope before normalization"
   ]
  },
  {
   "cell_type": "code",
   "execution_count": 43,
   "metadata": {},
   "outputs": [
    {
     "name": "stdout",
     "output_type": "stream",
     "text": [
      "results of lag phase:\n",
      "[Medium_Stress     YES  YES_etOH10%  YES_etOH5%  YES_heat40C10min\n",
      "Yeast                                                           \n",
      "WT             8.1250    20.937500     10.0000            8.4375\n",
      "mutant1        8.1250    23.750000     10.9375            8.7500\n",
      "mutant11       7.1875    17.500000      9.3750            6.8750\n",
      "mutant13       6.8750    21.666667      8.7500            6.8750\n",
      "mutant16       7.5000    21.250000     10.0000            8.4375\n",
      "mutant32       8.4375    25.625000     12.1875            7.8125, Medium_Stress     YES  YES_etOH15%  YES_etOH20%  YES_heat40C20min\n",
      "Yeast                                                            \n",
      "WT             8.1250      10.0000    20.937500            8.4375\n",
      "mutant1        8.1250      10.9375    23.750000            8.7500\n",
      "mutant11       7.1875       9.3750    17.500000            6.8750\n",
      "mutant13       6.8750       8.7500    21.666667            6.8750\n",
      "mutant16       7.5000      10.0000    21.250000            8.4375\n",
      "mutant32       8.4375      12.1875    25.625000            7.8125]\n",
      "\n",
      "\n",
      "results of Maximum slope:\n",
      "[Medium_Stress     YES  YES_etOH10%  YES_etOH5%  YES_heat40C10min\n",
      "Yeast                                                           \n",
      "WT             0.0587       0.0356      0.0566            0.0617\n",
      "mutant1        0.0637       0.0182      0.0509            0.0700\n",
      "mutant11       0.0574       0.0221      0.0451            0.0613\n",
      "mutant13       0.0573       0.0191      0.0482            0.0590\n",
      "mutant16       0.0558       0.0248      0.0509            0.0577\n",
      "mutant32       0.0594       0.0228      0.0412            0.0680, Medium_Stress     YES  YES_etOH15%  YES_etOH20%  YES_heat40C20min\n",
      "Yeast                                                            \n",
      "WT             0.0587       0.0566       0.0356            0.0617\n",
      "mutant1        0.0637       0.0509       0.0182            0.0700\n",
      "mutant11       0.0574       0.0451       0.0221            0.0613\n",
      "mutant13       0.0573       0.0482       0.0191            0.0590\n",
      "mutant16       0.0558       0.0509       0.0248            0.0577\n",
      "mutant32       0.0594       0.0412       0.0228            0.0680]\n"
     ]
    }
   ],
   "source": [
    "# Print the pivot tables (if you want):\n",
    "print(\"results of lag phase:\")\n",
    "print(lagphase_pivot_YES_list)\n",
    "print(\"\")\n",
    "print(\"\")\n",
    "print(\"results of Maximum slope:\")\n",
    "print(maxslope_pivot_YES_list)"
   ]
  },
  {
   "cell_type": "markdown",
   "metadata": {},
   "source": [
    "### Normalization of laghase and maximum slope"
   ]
  },
  {
   "cell_type": "code",
   "execution_count": null,
   "metadata": {
    "scrolled": true
   },
   "outputs": [],
   "source": [
    "# Data for each mutant were normalized to growth on media without the stressor (EMM or YES, respectively).\n",
    "\n",
    "# Lag phase\n",
    "YES_lagphase_divirder = YES_pivot_lagphase['YES']\n",
    "YES_lagphase_divirder = YES_lagphase_divirder.transpose()\n",
    "YES_lagphase_after_transpose = YES_pivot_lagphase.transpose()\n",
    "\n",
    "YES_pivot_lagphase_normalized = YES_lagphase_after_transpose/YES_lagphase_divirder\n",
    "YES_pivot_lagphase_normalized = YES_pivot_lagphase_normalized.transpose()\n",
    "\n",
    "\n",
    "# Maximum slope\n",
    "YES_maxslope_divirder = YES_pivot_maxslope['YES']\n",
    "YES_maxslope_divirder = YES_maxslope_divirder.transpose()\n",
    "YES_maxslope_after_transpose = YES_pivot_maxslope.transpose()\n",
    "\n",
    "YES_pivot_maxslope_normalized = YES_maxslope_after_transpose/YES_maxslope_divirder\n",
    "YES_pivot_maxslope_normalized = YES_pivot_maxslope_normalized.transpose()\n",
    "\n",
    "# Save the pivot tables as csv files: \n",
    "YES_pivot_lagphase_normalized.to_csv('DataFrames/YES_pivot_lagphase_normalized.csv')\n",
    "YES_pivot_maxslope_normalized.to_csv('DataFrames/YES_pivot_maxslope_normalized.csv')"
   ]
  },
  {
   "cell_type": "code",
   "execution_count": null,
   "metadata": {},
   "outputs": [],
   "source": [
    "# Print the pivot tables with normalized results (if you want):\n",
    "print(\"Normalized results of lag phase:\")\n",
    "print(YES_pivot_lagphase_normalized)\n",
    "print(\"\")\n",
    "print(\"\")\n",
    "print(\"Normalized results of Maximum slope:\")\n",
    "print(YES_pivot_maxslope_normalized)"
   ]
  },
  {
   "cell_type": "markdown",
   "metadata": {},
   "source": [
    "## YES - Heatmaps preparation"
   ]
  },
  {
   "cell_type": "markdown",
   "metadata": {},
   "source": [
    "### Dobór wielkości czcionki na osiach x i y"
   ]
  },
  {
   "cell_type": "code",
   "execution_count": null,
   "metadata": {},
   "outputs": [],
   "source": [
    "# Helper funtion with interactive widgets to select proper size of labels and title\n",
    "\n",
    "from __future__ import print_function\n",
    "from ipywidgets import interact, interactive, fixed, interact_manual\n",
    "import ipywidgets as widgets\n",
    "\n",
    "@interact\n",
    "def heat_map_fun(label_size=15,title_size=15):\n",
    "    def heat_map_elegant(title,path_to_save,df,cmap='RdYlBu',ylabel='Fission yeast name'):\n",
    "        ax =sns.heatmap(df,cmap=cmap,linewidths=5)\n",
    "        #with sns.axes_style(\"white\"):\n",
    "        #    ax = sns.heatmap(df, vmax=.3, square=True)\n",
    "        fig=ax.figure #wyciagamy dostep do figure\n",
    "        fig.set_size_inches(10,8)\n",
    "        ax.set(title=title,\n",
    "               ylabel=ylabel,\n",
    "              xlabel='Growth medium/ stress conditions',\n",
    "              )\n",
    "        ax.xaxis.label.set_size(label_size)\n",
    "        ax.yaxis.label.set_size(label_size)\n",
    "        ax.title.set_size(title_size)\n",
    "        plt.setp(ax.get_xticklabels(), rotation=45, ha=\"right\",\n",
    "                 rotation_mode=\"anchor\")\n",
    "        plt.setp(ax.get_yticklabels(), rotation=0, ha=\"right\",\n",
    "                 rotation_mode=\"anchor\")\n",
    "\n",
    "        plt.setp(ax.get_yticklabels(), style=\"italic\")    \n",
    "        #fig.savefig(path_to_save+\".pdf\",dpi=150)\n",
    "        #fig.savefig(path_to_save+\".png\",dpi=150)\n",
    "        return ax,fig\n",
    "    return heat_map_elegant(\"The normalized maximum slope of fission yeast in YES\",\n",
    "                            \"Plots_Heatmaps//YES_max_slope_RdYlBu_znormalizowana\",YES_pivot_maxslope_normalized)"
   ]
  },
  {
   "cell_type": "markdown",
   "metadata": {},
   "source": [
    "## Colors of heatmap\n",
    "We used two kinds of colors of cmap:\n",
    "1. 'RdYlBu' for lag phase\n",
    "2. 'RdYlBu_r' ('RdYlBu' with reversed colors) for maximum slope\n",
    "\n",
    "You can find other colors for label here: https://matplotlib.org/examples/color/colormaps_reference.html\n"
   ]
  },
  {
   "cell_type": "code",
   "execution_count": null,
   "metadata": {},
   "outputs": [],
   "source": [
    "# This function reverses the colors of chosen cmap and makes new cmap named \"oldname_r\":\n",
    "\n",
    "reversed('RdYlBu')\n",
    "\n",
    "#Output:\n",
    "#'RdYlBu_r'"
   ]
  },
  {
   "cell_type": "markdown",
   "metadata": {},
   "source": [
    "## Make the heatmaps"
   ]
  },
  {
   "cell_type": "code",
   "execution_count": null,
   "metadata": {},
   "outputs": [],
   "source": [
    "def heat_map_elegant_YES(title,path_to_save,df,cmap,ylabel='Name of ncPAP deletion mutants'):\n",
    "    '''\n",
    "    This function will create a heatmap and save it as pdf and png.\n",
    "    \n",
    "    title: title of plot [string]\n",
    "    path_to_save: path to directory where the heatmap will be saved [string]\n",
    "    df: \n",
    "    \n",
    "    '''\n",
    "    ax =sns.heatmap(df,cmap=cmap,linewidths=1)\n",
    "    #with sns.axes_style(\"white\"):\n",
    "    #    ax = sns.heatmap(df, vmax=.3, square=True)\n",
    "    fig=ax.figure #wyciagamy dostep do figure\n",
    "    fig.set_size_inches(6,9)\n",
    "    ax.set(title=title,\n",
    "           ylabel=ylabel,\n",
    "          xlabel='YES & stress conditions')\n",
    "    ax.xaxis.label.set_size(20)\n",
    "    ax.yaxis.label.set_size(20)\n",
    "    ax.title.set_size(20)\n",
    "    plt.setp(ax.get_xticklabels(), rotation=45, ha=\"right\",\n",
    "             rotation_mode=\"anchor\", fontsize=20)\n",
    "    plt.setp(ax.get_yticklabels(), rotation=0, ha=\"right\",\n",
    "             rotation_mode=\"anchor\", fontsize=20)\n",
    "    \n",
    "    plt.setp(ax.get_yticklabels(), style=\"italic\")   \n",
    "    plt.rcParams.update({'legend.labelspacing':0.25})\n",
    "    fig.tight_layout()\n",
    "\n",
    "    fig.savefig(path_to_save+\".pdf\",dpi=150)\n",
    "    fig.savefig(path_to_save+\".png\",dpi=150)\n",
    "    return ax,fig"
   ]
  },
  {
   "cell_type": "code",
   "execution_count": null,
   "metadata": {
    "scrolled": false
   },
   "outputs": [],
   "source": [
    "# Heatmap of the normalized maximum slope of fission yeast in YES\n",
    "\n",
    "heat_map_elegant_YES(\"The normalized maximum slope of fission yeast in YES\",\n",
    "                     \"Plots_Heatmaps//YES_max_slope_RdYlBu_znormalizowana\",\n",
    "                     YES_pivot_maxslope_normalized,'RdYlBu_r')"
   ]
  },
  {
   "cell_type": "code",
   "execution_count": null,
   "metadata": {},
   "outputs": [],
   "source": [
    "# Heatmap of the normalized lag phase of fission yeast in YES\n",
    "\n",
    "heat_map_elegant_YES(\"The normalized lag phase of fission yeast in YES\",\n",
    "                     \"Plots_Heatmaps//YES_lagphase_RdYlBu_znormalizowana\",\n",
    "                     YES_pivot_lagphase_normalized,'RdYlBu')"
   ]
  },
  {
   "cell_type": "markdown",
   "metadata": {},
   "source": [
    "# EMM medium\n",
    "## Preprocessing of results"
   ]
  },
  {
   "cell_type": "code",
   "execution_count": 24,
   "metadata": {},
   "outputs": [],
   "source": [
    "# Make a path for data and list of files:\n",
    "path_EMM =r'./Example_data/Bioscreen_data_EMM/'\n",
    "filenames_EMM = glob.glob(path_EMM + \"*.csv\")\n",
    "filenames_EMM_short = filenames_EMM\n"
   ]
  },
  {
   "cell_type": "code",
   "execution_count": 4,
   "metadata": {},
   "outputs": [],
   "source": [
    "import os.path\n",
    "old_names=[os.path.splitext(os.path.basename(name))[0] for name in filenames_EMM]"
   ]
  },
  {
   "cell_type": "code",
   "execution_count": 5,
   "metadata": {},
   "outputs": [],
   "source": [
    "EMM_list=[pd.read_csv(filename_EMM) for filename_EMM in filenames_EMM ]"
   ]
  },
  {
   "cell_type": "code",
   "execution_count": 6,
   "metadata": {},
   "outputs": [],
   "source": [
    "# We have 3 example files with results of maximum slope and lag phase of mutants cultivated \n",
    "# in EMM supplemented with stressors\n",
    "#\n",
    "# Please do it only once - the second one will change the output\n",
    "\n",
    "\n",
    "def put_yeast_stress(EMM):\n",
    "    EMM['Medium'] = 'EMM'        #Add new column 'Medium'    \n",
    "    new_i = EMM[\"Mutants\"].str.split(\"_\", n = 1, expand = True)  # Make temporarily 'new' data frame    \n",
    "    EMM[\"Yeast\"]= new_i[0] # Add column 'Yeast' from 'new' data frame    \n",
    "    EMM[\"Stress\"]= new_i[1]  # Add column 'Stress' from 'new' data frame    \n",
    "    EMM['Medium_Stress'] = EMM[['Medium','Stress']].apply(lambda x: '_'.join(x[x.notnull()]),\n",
    "                                                      axis = 1) # Add column '_Medium_Stress'  \n",
    "    \n",
    "    "
   ]
  },
  {
   "cell_type": "code",
   "execution_count": 7,
   "metadata": {},
   "outputs": [],
   "source": [
    "for EMM in EMM_list:\n",
    "    put_yeast_stress(EMM)"
   ]
  },
  {
   "cell_type": "code",
   "execution_count": 22,
   "metadata": {},
   "outputs": [
    {
     "name": "stdout",
     "output_type": "stream",
     "text": [
      "DataFrames/preprocessed_EMM_20190530.csv\n",
      "DataFrames/preprocessed_EMM_20190606.csv\n",
      "DataFrames/preprocessed_EMM_20190624.csv\n",
      "DataFrames/preprocessed_EMM_20190613.csv\n",
      "DataFrames/preprocessed_EMM_20190612.csv\n"
     ]
    }
   ],
   "source": [
    "for old_name,EMM in zip(old_names,EMM_list): # takes a pair one from first one from second list\n",
    "    print(os.path.join(\"DataFrames\",\"preprocessed_%s.csv\" % old_name))\n",
    "    EMM.to_csv(os.path.join(\"DataFrames\",\"preprocessed_%s.csv\" % old_name))"
   ]
  },
  {
   "cell_type": "code",
   "execution_count": 23,
   "metadata": {},
   "outputs": [],
   "source": [
    "lagphase_pivot_EMM_list=[EMM.pivot_table(index='Yeast', columns='Medium_Stress', values='lag')\n",
    "                        for EMM in EMM_list]\n",
    "\n",
    "maxslope_pivot_EMM_list=[EMM.pivot_table(index='Yeast', columns='Medium_Stress', values='max_slope')\n",
    "                        for EMM in EMM_list]"
   ]
  },
  {
   "cell_type": "markdown",
   "metadata": {},
   "source": [
    "lagph"
   ]
  },
  {
   "cell_type": "code",
   "execution_count": 24,
   "metadata": {},
   "outputs": [
    {
     "name": "stdout",
     "output_type": "stream",
     "text": [
      "DataFrames/lagphase_pivot_EMM_20190530.csv\n",
      "DataFrames/lagphase_pivot_EMM_20190606.csv\n",
      "DataFrames/lagphase_pivot_EMM_20190624.csv\n",
      "DataFrames/lagphase_pivot_EMM_20190613.csv\n",
      "DataFrames/lagphase_pivot_EMM_20190612.csv\n"
     ]
    }
   ],
   "source": [
    "for old_name,EMM in zip(old_names, lagphase_pivot_EMM_list):\n",
    "    print(os.path.join(\"DataFrames\",\"lagphase_pivot_%s.csv\" % old_name))\n",
    "    EMM.to_csv(os.path.join(\"DataFrames\",\"lagphase_pivot_%s.csv\" % old_name))"
   ]
  },
  {
   "cell_type": "code",
   "execution_count": 25,
   "metadata": {},
   "outputs": [
    {
     "name": "stdout",
     "output_type": "stream",
     "text": [
      "DataFrames/maxslope_pivot_EMM_20190530.csv\n",
      "DataFrames/maxslope_pivot_EMM_20190606.csv\n",
      "DataFrames/maxslope_pivot_EMM_20190624.csv\n",
      "DataFrames/maxslope_pivot_EMM_20190613.csv\n",
      "DataFrames/maxslope_pivot_EMM_20190612.csv\n"
     ]
    }
   ],
   "source": [
    "for old_name,EMM in zip(old_names, maxslope_pivot_EMM_list):\n",
    "    print(os.path.join(\"DataFrames\",\"maxslope_pivot_%s.csv\" % old_name))\n",
    "    EMM.to_csv(os.path.join(\"DataFrames\",\"maxslope_pivot_%s.csv\" % old_name))"
   ]
  },
  {
   "cell_type": "code",
   "execution_count": 10,
   "metadata": {},
   "outputs": [
    {
     "ename": "NameError",
     "evalue": "name 'old_name' is not defined",
     "output_type": "error",
     "traceback": [
      "\u001b[0;31m---------------------------------------------------------------------------\u001b[0m",
      "\u001b[0;31mNameError\u001b[0m                                 Traceback (most recent call last)",
      "\u001b[0;32m<ipython-input-10-0a72379f2bcb>\u001b[0m in \u001b[0;36m<module>\u001b[0;34m\u001b[0m\n\u001b[0;32m----> 1\u001b[0;31m \u001b[0mlist_of_lagphase_EMM\u001b[0m\u001b[0;34m=\u001b[0m\u001b[0;34m[\u001b[0m\u001b[0mpd\u001b[0m\u001b[0;34m.\u001b[0m\u001b[0mread_csv\u001b[0m\u001b[0;34m(\u001b[0m\u001b[0mos\u001b[0m\u001b[0;34m.\u001b[0m\u001b[0mpath\u001b[0m\u001b[0;34m.\u001b[0m\u001b[0mjoin\u001b[0m\u001b[0;34m(\u001b[0m\u001b[0;34m\"DataFrames\"\u001b[0m\u001b[0;34m,\u001b[0m\u001b[0;34m\"maxslope_pivot_%s.csv\"\u001b[0m \u001b[0;34m%\u001b[0m \u001b[0mold_name\u001b[0m\u001b[0;34m)\u001b[0m\u001b[0;34m)\u001b[0m\u001b[0;34m]\u001b[0m\u001b[0;34m\u001b[0m\u001b[0;34m\u001b[0m\u001b[0m\n\u001b[0m",
      "\u001b[0;31mNameError\u001b[0m: name 'old_name' is not defined"
     ]
    }
   ],
   "source": [
    "list_of_lagphase_EMM=[pd.read_csv(os.path.join(\"DataFrames\",\"maxslope_pivot_%s.csv\" % old_name))]"
   ]
  },
  {
   "cell_type": "code",
   "execution_count": 8,
   "metadata": {},
   "outputs": [
    {
     "ename": "NameError",
     "evalue": "name 'lagphase_pivot_EMM_1' is not defined",
     "output_type": "error",
     "traceback": [
      "\u001b[0;31m---------------------------------------------------------------------------\u001b[0m",
      "\u001b[0;31mNameError\u001b[0m                                 Traceback (most recent call last)",
      "\u001b[0;32m<ipython-input-8-5effaca3af64>\u001b[0m in \u001b[0;36m<module>\u001b[0;34m\u001b[0m\n\u001b[0;32m----> 1\u001b[0;31m list_of_laghase_pivot_EMM = (lagphase_pivot_EMM_1,lagphase_pivot_EMM_2,lagphase_pivot_EMM_3,\n\u001b[0m\u001b[1;32m      2\u001b[0m                              lagphase_pivot_EMM_4,lagphase_pivot_EMM_5)\n\u001b[1;32m      3\u001b[0m \u001b[0;34m\u001b[0m\u001b[0m\n\u001b[1;32m      4\u001b[0m list_of_maxslope_pivot_EMM = (maxslope_pivot_EMM_1,lagphase_pivot_EMM_2,lagphase_pivot_EMM_3,\n\u001b[1;32m      5\u001b[0m                              maxslope_pivot_EMM_4,lagphase_pivot_EMM_5)\n",
      "\u001b[0;31mNameError\u001b[0m: name 'lagphase_pivot_EMM_1' is not defined"
     ]
    }
   ],
   "source": [
    "list_of_laghase_pivot_EMM = (lagphase_pivot_EMM_1,lagphase_pivot_EMM_2,lagphase_pivot_EMM_3,\n",
    "                             lagphase_pivot_EMM_4,lagphase_pivot_EMM_5)\n",
    "\n",
    "list_of_maxslope_pivot_EMM = (maxslope_pivot_EMM_1,lagphase_pivot_EMM_2,lagphase_pivot_EMM_3,\n",
    "                             maxslope_pivot_EMM_4,lagphase_pivot_EMM_5)"
   ]
  },
  {
   "cell_type": "code",
   "execution_count": null,
   "metadata": {},
   "outputs": [],
   "source": [
    "names_of_laghase_pivot_EMM = {\"lagphase_pivot_EMM_1\": lagphase_pivot_EMM_1,\n",
    "                              \"lagphase_pivot_EMM_2\":lagphase_pivot_EMM_2,\n",
    "                              \"lagphase_pivot_EMM_3\":lagphase_pivot_EMM_3,\n",
    "                             \"lagphase_pivot_EMM_4\":lagphase_pivot_EMM_4,\n",
    "                              \"lagphase_pivot_EMM_5\":lagphase_pivot_EMM_5}\n",
    "\n",
    "names_of_maxslope_pivot_EMM = {\"maxslope_pivot_EMM_1\": maxslope_pivot_EMM_1,\n",
    "                              \"maxslope_pivot_EMM_2\":maxslope_pivot_EMM_2,\n",
    "                              \"maxslope_pivot_EMM_3\":maxslope_pivot_EMM_3,\n",
    "                             \"maxslope_pivot_EMM_4\":maxslope_pivot_EMM_4,\n",
    "                              \"maxslope_pivot_EMM_5\":maxslope_pivot_EMM_5}"
   ]
  },
  {
   "cell_type": "code",
   "execution_count": null,
   "metadata": {},
   "outputs": [],
   "source": [
    "list_of_laghase_pivot_EMM[1]"
   ]
  },
  {
   "cell_type": "code",
   "execution_count": 11,
   "metadata": {},
   "outputs": [
    {
     "ename": "NameError",
     "evalue": "name 'list_of_laghase_pivot_EMM' is not defined",
     "output_type": "error",
     "traceback": [
      "\u001b[0;31m---------------------------------------------------------------------------\u001b[0m",
      "\u001b[0;31mNameError\u001b[0m                                 Traceback (most recent call last)",
      "\u001b[0;32m<ipython-input-11-9c5644d1cc9c>\u001b[0m in \u001b[0;36m<module>\u001b[0;34m\u001b[0m\n\u001b[1;32m      2\u001b[0m \u001b[0;34m\u001b[0m\u001b[0m\n\u001b[1;32m      3\u001b[0m \u001b[0;31m# Lag phase\u001b[0m\u001b[0;34m\u001b[0m\u001b[0;34m\u001b[0m\u001b[0;34m\u001b[0m\u001b[0m\n\u001b[0;32m----> 4\u001b[0;31m \u001b[0;32mfor\u001b[0m \u001b[0mi\u001b[0m \u001b[0;32min\u001b[0m \u001b[0mlist_of_laghase_pivot_EMM\u001b[0m\u001b[0;34m:\u001b[0m\u001b[0;34m\u001b[0m\u001b[0;34m\u001b[0m\u001b[0m\n\u001b[0m\u001b[1;32m      5\u001b[0m     \u001b[0;32mfor\u001b[0m \u001b[0mnumber\u001b[0m \u001b[0;32min\u001b[0m \u001b[0mrange\u001b[0m \u001b[0;34m(\u001b[0m\u001b[0;36m1\u001b[0m\u001b[0;34m,\u001b[0m\u001b[0;36m5\u001b[0m\u001b[0;34m)\u001b[0m\u001b[0;34m:\u001b[0m\u001b[0;34m\u001b[0m\u001b[0;34m\u001b[0m\u001b[0m\n\u001b[1;32m      6\u001b[0m         \u001b[0mlagphase_divider_EMM\u001b[0m \u001b[0;34m=\u001b[0m \u001b[0mi\u001b[0m\u001b[0;34m[\u001b[0m\u001b[0;34m'EMM'\u001b[0m\u001b[0;34m]\u001b[0m\u001b[0;34m\u001b[0m\u001b[0;34m\u001b[0m\u001b[0m\n",
      "\u001b[0;31mNameError\u001b[0m: name 'list_of_laghase_pivot_EMM' is not defined"
     ]
    }
   ],
   "source": [
    "# Data for each mutant were normalized to growth on media without the stressor (EMM or YES, respectively).\n",
    "\n",
    "# Lag phase\n",
    "for i in list_of_laghase_pivot_EMM:\n",
    "    for number in range (1,5):\n",
    "        lagphase_divider_EMM = i['EMM']\n",
    "        lagphase_divider_EMM[number] = lagphase_divider_EMM[number].transpose()\n",
    "    \n",
    "        lagphase_after_transpose_EMM[number] = i.transpose()\n",
    "        pivot_lagphase_normalized_EMM[number] = lagphase_after_transpose_EMM[number]/lagphase_divider_EMM[number]\n",
    "        pivot_lagphase_normalized_EMM[number] = pivot_lagphase_normalized_EMM[number].transpose()\n",
    "   "
   ]
  },
  {
   "cell_type": "code",
   "execution_count": null,
   "metadata": {},
   "outputs": [],
   "source": [
    " pivot_lagphase_normalized_EMM_2\n",
    "    "
   ]
  },
  {
   "cell_type": "code",
   "execution_count": null,
   "metadata": {},
   "outputs": [],
   "source": [
    "# Data for each mutant were normalized to growth on media without the stressor (EMM or YES, respectively).\n",
    "\n",
    "# Lag phase\n",
    "\n",
    "lagphase_divider_EMM_1 = lagphase_pivot_EMM_1['EMM']\n",
    "lagphase_divider_EMM_1 = lagphase_divider_EMM_1.transpose()\n",
    "lagphase_after_transpose_EMM_1 = lagphase_pivot_EMM_1.transpose()\n",
    "pivot_lagphase_normalized_EMM_1 = lagphase_after_transpose_EMM_1/lagphase_divider_EMM_1\n",
    "pivot_lagphase_normalized_EMM_1 = pivot_lagphase_normalized_EMM_1.transpose()\n",
    "pivot_lagphase_normalized_EMM_1\n",
    "\n",
    "# Maximum slope\n",
    "#YES_maxslope_divider = YES_pivot_maxslope['YES']\n",
    "#YES_maxslope_divider = YES_maxslope_divrder.transpose()\n",
    "#YES_maxslope_after_transpose = YES_pivot_maxslope.transpose()\n",
    "\n",
    "#YES_pivot_maxslope_normalized = YES_maxslope_after_transpose/YES_maxslope_divirder\n",
    "#YES_pivot_maxslope_normalized = YES_pivot_maxslope_normalized.transpose()\n",
    "\n",
    "# Save the pivot tables as csv files: \n",
    "#YES_pivot_lagphase_normalized.to_csv('DataFrames/YES_pivot_lagphase_normalized.csv')\n",
    "#YES_pivot_maxslope_normalized.to_csv('DataFrames/YES_pivot_maxslope_normalized.csv')"
   ]
  },
  {
   "cell_type": "code",
   "execution_count": null,
   "metadata": {},
   "outputs": [],
   "source": [
    "pivot_lagphase_normalized_EMM_1"
   ]
  },
  {
   "cell_type": "code",
   "execution_count": null,
   "metadata": {},
   "outputs": [],
   "source": []
  },
  {
   "cell_type": "code",
   "execution_count": null,
   "metadata": {},
   "outputs": [],
   "source": []
  },
  {
   "cell_type": "code",
   "execution_count": null,
   "metadata": {},
   "outputs": [],
   "source": [
    "# normalizacja laghase i maxslope - dzielę wyniki dla stresów przez wyniki dla samej pożywki\n",
    "\n",
    "# Lagfaza\n",
    "dzielnik_lagphase = lag_pivot_EMM['EMM']\n",
    "dzielnik_lagphase = dzielnik_lagphase.transpose()\n",
    "\n",
    "Lag_po_transpozycji = lag_pivot_EMM.transpose()\n",
    "\n",
    "normalized_lagphase_EMM_pivot = Lag_po_transpozycji/dzielnik_lagphase\n",
    "\n",
    "\n",
    "\n",
    "\n",
    "# maxslope\n",
    "dzielnik_maxslope = maxslope_pivot_EMM['EMM']\n",
    "dzielnik_maxslope = dzielnik_maxslope.transpose()\n",
    "\n",
    "maxslope_po_transpozycji1 = maxslope_pivot_EMM.transpose()\n",
    "\n",
    "normalized_maxslope_EMM_pivot = maxslope_po_transpozycji1/dzielnik_maxslope\n",
    "\n",
    "\n",
    "# zapisuje wyniki jako obiekty dla konkternej daty w formacie DDMMRRRR\n",
    "normalized_lagphase_EMM_pivot_24062019 = normalized_lagphase_EMM_pivot\n",
    "normalized_maxslope_EMM_pivot_24062019 = normalized_maxslope_EMM_pivot\n",
    "\n",
    "# mam przygotowane pivot tables dla YES - lagphase and maxslope osobno\n",
    "\n",
    "# Tutaj podglądam moje nowe znowrmalizowane pivot tables:\n",
    "print(\"Normalized results of lag phase:\")\n",
    "print(normalized_lagphase_EMM_pivot)\n",
    "print(\"\")\n",
    "print(\"\")\n",
    "print(\"Normalized results of Maximum slope:\")\n",
    "print(normalized_maxslope_EMM_pivot)"
   ]
  },
  {
   "cell_type": "markdown",
   "metadata": {},
   "source": [
    "### Join pivot tables (lag phase and maxslope separately) after all of EMM experiments together"
   ]
  },
  {
   "cell_type": "code",
   "execution_count": null,
   "metadata": {},
   "outputs": [],
   "source": [
    "#LAG PHASE\n",
    "\n",
    "frames_lagphase_EMM = [normalized_lagphase_EMM_pivot_30052019,\n",
    "                       normalized_lagphase_EMM_pivot_06062019, normalized_lagphase_EMM_pivot_12062019, \n",
    "                       normalized_lagphase_EMM_pivot_13062019,normalized_lagphase_EMM_pivot_24062019]\n",
    "\n",
    "joined_frames_lagphase_EMM = pd.concat(frames_lagphase_EMM)"
   ]
  },
  {
   "cell_type": "code",
   "execution_count": null,
   "metadata": {},
   "outputs": [],
   "source": [
    "#LAG PHASE\n",
    "\n",
    "frames_maxslope_EMM = [normalized_maxslope_EMM_pivot_30052019,\n",
    "                       normalized_maxslope_EMM_pivot_06062019, normalized_maxslope_EMM_pivot_12062019, \n",
    "                       normalized_maxslope_EMM_pivot_13062019,normalized_maxslope_EMM_pivot_24062019]\n",
    "\n",
    "joined_frames_maxslope_EMM = pd.concat(frames_maxslope_EMM )\n",
    "joined_frames_maxslope_EMM\n"
   ]
  },
  {
   "cell_type": "code",
   "execution_count": null,
   "metadata": {},
   "outputs": [],
   "source": []
  },
  {
   "cell_type": "code",
   "execution_count": null,
   "metadata": {},
   "outputs": [],
   "source": [
    "#imporp do csv\n",
    "\n",
    "joined_frames_maxslope_EMM.to_csv('joined_frames_maxslope_EMM.csv')\n",
    "joined_frames_lagphase_EMM.to_csv('joined_frames_lagphase_EMM.csv')\n",
    "\n",
    "# w plikach ręcznie :( wywalam dislsm i lsm oraz powtórki EMM"
   ]
  },
  {
   "cell_type": "code",
   "execution_count": null,
   "metadata": {},
   "outputs": [],
   "source": []
  },
  {
   "cell_type": "markdown",
   "metadata": {},
   "source": [
    "# Mogę puścić kod od tego momentu - mam wygenerowany plik csv"
   ]
  },
  {
   "cell_type": "code",
   "execution_count": null,
   "metadata": {},
   "outputs": [],
   "source": [
    "results_EMM_all_lag = pd.read_csv('joined_frames_lagphase_EMM.csv')\n",
    "results_EMM_all_maxslope = pd.read_csv('joined_frames_maxslope_EMM.csv')\n",
    "\n",
    "\n",
    "results_EMM_all_maxslope = results_EMM_all_maxslope.set_index('Medium_Stress')\n",
    "results_EMM_all_lag = results_EMM_all_lag.set_index('Medium_Stress')"
   ]
  },
  {
   "cell_type": "code",
   "execution_count": null,
   "metadata": {},
   "outputs": [],
   "source": [
    "results_EMM_all_maxslope = results_EMM_all_maxslope.transpose()\n",
    "results_EMM_all_lag = results_EMM_all_lag.transpose()"
   ]
  },
  {
   "cell_type": "code",
   "execution_count": null,
   "metadata": {},
   "outputs": [],
   "source": [
    "results_EMM_all_lag"
   ]
  },
  {
   "cell_type": "code",
   "execution_count": null,
   "metadata": {
    "scrolled": true
   },
   "outputs": [],
   "source": [
    "results_EMM_all_maxslope"
   ]
  },
  {
   "cell_type": "code",
   "execution_count": null,
   "metadata": {},
   "outputs": [],
   "source": [
    "maxslope_pivot_YES"
   ]
  },
  {
   "cell_type": "markdown",
   "metadata": {},
   "source": [
    "## Tutaj mam poprawnie zrobione heatmapy EMM - do czyszczenia\n",
    "\n",
    "#### ładuję pliki \n",
    "    results_EMM_all_lag\n",
    "    results_EMM_all_maxslope"
   ]
  },
  {
   "cell_type": "code",
   "execution_count": null,
   "metadata": {},
   "outputs": [],
   "source": [
    "results_EMM_all_lag"
   ]
  },
  {
   "cell_type": "code",
   "execution_count": null,
   "metadata": {},
   "outputs": [],
   "source": [
    "#heatmap maxslope EMM\n",
    "\n",
    "\n",
    "df = results_EMM_all_maxslope\n",
    "fig, ax = plt.subplots(figsize=a4_dims)\n",
    "plt.fontsize=20\n",
    "#plt.xlim([0,8])\n",
    "#plt.ylim([0.01,150])\n",
    "plt.xticks(fontsize=18, rotation=90)\n",
    "plt.yticks(fontsize=18)\n",
    "plt.setp(ax.get_xticklabels(), rotation=45, ha=\"right\",\n",
    "             rotation_mode=\"anchor\")\n",
    "#plt.legend(loc=2, prop={'size': 6})\n",
    "plt.title(\"The maximum slope of the growth curve of ncPAP deletion mutants in EMM medium\", fontsize=20)\n",
    "plt.xlabel(\"Medium & stress conditions\",fontsize=20)\n",
    "plt.ylabel(\"Deletion mutants\",fontsize=20)\n",
    "#plt =sns.heatmap(df,cmap=plt.cm.RdYlBu)\n",
    "#with sns.axes_style(\"white\"):\n",
    "#    ax = sns.heatmap(df, vmax=.3, square=True)\n",
    "\n",
    "plt.savefig(\"EMM_max_slope_RdYlBu_znormalizowana.pdf\")\n",
    "plt.savefig(\"EMM_max_slope_RdYlBu_znormalizowana.png\")"
   ]
  },
  {
   "cell_type": "code",
   "execution_count": null,
   "metadata": {},
   "outputs": [],
   "source": [
    "\n",
    "from __future__ import print_function\n",
    "from ipywidgets import interact, interactive, fixed, interact_manual\n",
    "import ipywidgets as widgets\n",
    "\n",
    "@interact\n",
    "def heat_map_fun(label_size=15,title_size=15):\n",
    "    def heat_map_elegant(title,path_to_save,df,cmap='RdYlBu',ylabel='Fission yeast name'):\n",
    "        ax =sns.heatmap(df,cmap=cmap,linewidths=5)\n",
    "        #with sns.axes_style(\"white\"):\n",
    "        #    ax = sns.heatmap(df, vmax=.3, square=True)\n",
    "        fig=ax.figure #wyciagamy dostep do figure\n",
    "        fig.set_size_inches(10,8)\n",
    "        ax.set(title=title,\n",
    "               ylabel=ylabel,\n",
    "              xlabel='Growth medium/ stress conditions',\n",
    "              )\n",
    "        ax.xaxis.label.set_size(label_size)\n",
    "        ax.yaxis.label.set_size(label_size)\n",
    "        ax.title.set_size(title_size)\n",
    "        plt.setp(ax.get_xticklabels(), rotation=45, ha=\"right\",\n",
    "                 rotation_mode=\"anchor\")\n",
    "        plt.setp(ax.get_yticklabels(), rotation=0, ha=\"right\",\n",
    "                 rotation_mode=\"anchor\")\n",
    "\n",
    "        plt.setp(ax.get_yticklabels(), style=\"italic\")    \n",
    "        #fig.savefig(path_to_save+\".pdf\",dpi=150)\n",
    "        #fig.savefig(path_to_save+\".png\",dpi=150)\n",
    "        return ax,fig\n",
    "    return heat_map_elegant(\"EMM_max_slope_RdYlBu_znormalizowana\",\"ploty/EMM_max_slope_RdYlBu_znormalizowana\",results_EMM_all_lag)"
   ]
  },
  {
   "cell_type": "code",
   "execution_count": null,
   "metadata": {},
   "outputs": [],
   "source": [
    "def heat_map_elegant(title,path_to_save,df,cmap='RdYlBu_r',ylabel='Name of ncPAP deletion mutants'):\n",
    "    ax =sns.heatmap(df,cmap=cmap,linewidths=1)\n",
    "    #with sns.axes_style(\"white\"):\n",
    "    #    ax = sns.heatmap(df, vmax=.3, square=True)\n",
    "    fig=ax.figure #wyciagamy dostep do figure\n",
    "    fig.set_size_inches(5,5.9)\n",
    "    ax.set(title=title,\n",
    "           ylabel=ylabel,\n",
    "          xlabel='EMM & stress conditions')\n",
    "    ax.xaxis.label.set_size(20)\n",
    "    ax.yaxis.label.set_size(20)\n",
    "    ax.title.set_size(20)\n",
    "    plt.setp(ax.get_xticklabels(), rotation=45, ha=\"right\",\n",
    "             rotation_mode=\"anchor\", fontsize=20)\n",
    "    plt.setp(ax.get_yticklabels(), rotation=0, ha=\"right\",\n",
    "             rotation_mode=\"anchor\", fontsize=20)\n",
    "    \n",
    "    plt.setp(ax.get_yticklabels(), style=\"italic\")   \n",
    "    plt.rcParams.update({'legend.labelspacing':0.25})\n",
    "    fig.tight_layout()\n",
    "\n",
    "    fig.savefig(path_to_save+\".pdf\",dpi=150)\n",
    "    fig.savefig(path_to_save+\".png\",dpi=150)\n",
    "    return ax,fig\n",
    "\n",
    "#ax,fig=heat_map_elegant(\"EMM_max_slope_RdYlBu_znormalizowana\",\"ploty/EMM_max_slope_RdYlBu_znormalizowana\",df);"
   ]
  },
  {
   "cell_type": "code",
   "execution_count": null,
   "metadata": {},
   "outputs": [],
   "source": [
    "ax,fig=heat_map_elegant(\"The normalized maximum slope of fission yeast in EMM medium\",\n",
    "                        \"ploty/EMM_maxslope_LL\",results_EMM_all_maxslope);"
   ]
  },
  {
   "cell_type": "code",
   "execution_count": null,
   "metadata": {},
   "outputs": [],
   "source": [
    "# odwraca kolory w wybramej cmap i tworzy nowy cmap o nazwie \"staranazwa_r\"\n",
    "reversed('RdYlBu')"
   ]
  },
  {
   "cell_type": "code",
   "execution_count": null,
   "metadata": {},
   "outputs": [],
   "source": [
    "def heat_map_elegant_YES(title,path_to_save,df,cmap='RdYlBu_r',ylabel='Fission yeast name'):\n",
    "    ax =sns.heatmap(df,cmap=cmap,linewidths=1)\n",
    "    #with sns.axes_style(\"white\"):\n",
    "    #    ax = sns.heatmap(df, vmax=.3, square=True)\n",
    "    fig=ax.figure #wyciagamy dostep do figure\n",
    "    fig.set_size_inches(5.5,9)\n",
    "    ax.set(title=title,\n",
    "           ylabel=ylabel,\n",
    "          xlabel='YES & stress conditions')\n",
    "    ax.xaxis.label.set_size(20)\n",
    "    ax.yaxis.label.set_size(20)\n",
    "    ax.title.set_size(20)\n",
    "    plt.setp(ax.get_xticklabels(), rotation=45, ha=\"right\",\n",
    "             rotation_mode=\"anchor\", fontsize=20)\n",
    "    plt.setp(ax.get_yticklabels(), rotation=0, ha=\"right\",\n",
    "             rotation_mode=\"anchor\", fontsize=20)\n",
    "    \n",
    "    plt.setp(ax.get_yticklabels(), style=\"italic\")   \n",
    "    plt.rcParams.update({'legend.labelspacing':0.25})\n",
    "    fig.tight_layout()\n",
    "\n",
    "    fig.savefig(path_to_save+\".pdf\",dpi=150)\n",
    "    fig.savefig(path_to_save+\".png\",dpi=150)\n",
    "    return ax,fig"
   ]
  },
  {
   "cell_type": "code",
   "execution_count": null,
   "metadata": {
    "scrolled": true
   },
   "outputs": [],
   "source": [
    "ax,fig=heat_map_elegant(\"The normalized Lag phase of fission yeast in EMM medium\",\n",
    "                        \"ploty/EMM_lagphase_LL\",df_yes_maxslope);"
   ]
  },
  {
   "cell_type": "code",
   "execution_count": null,
   "metadata": {},
   "outputs": [],
   "source": [
    "def heat_map_elegant_YES(title,path_to_save,df,cmap='RdYlBu_r',ylabel='Fission yeast name'):\n",
    "    ax =sns.heatmap(df,cmap=cmap,linewidths=1)\n",
    "    #with sns.axes_style(\"white\"):\n",
    "    #    ax = sns.heatmap(df, vmax=.3, square=True)\n",
    "    fig=ax.figure #wyciagamy dostep do figure\n",
    "    fig.set_size_inches(5.5,9)\n",
    "    ax.set(title=title,\n",
    "           ylabel=ylabel,\n",
    "          xlabel='YES & stress conditions')\n",
    "    ax.xaxis.label.set_size(20)\n",
    "    ax.yaxis.label.set_size(20)\n",
    "    ax.title.set_size(20)\n",
    "    plt.setp(ax.get_xticklabels(), rotation=45, ha=\"right\",\n",
    "             rotation_mode=\"anchor\", fontsize=20)\n",
    "    plt.setp(ax.get_yticklabels(), rotation=0, ha=\"right\",\n",
    "             rotation_mode=\"anchor\", fontsize=20)\n",
    "    \n",
    "    plt.setp(ax.get_yticklabels(), style=\"italic\")   \n",
    "    plt.rcParams.update({'legend.labelspacing':0.25})\n",
    "    fig.tight_layout()\n",
    "\n",
    "    fig.savefig(path_to_save+\".pdf\",dpi=150)\n",
    "    fig.savefig(path_to_save+\".png\",dpi=150)\n",
    "    return ax,fig\n",
    "\n",
    "#ax,fig=heat_map_elegant(\"EMM_max_slope_RdYlBu_znormalizowana\",\"ploty/EMM_max_slope_RdYlBu_znormalizowana\",df)"
   ]
  },
  {
   "cell_type": "code",
   "execution_count": null,
   "metadata": {},
   "outputs": [],
   "source": [
    "#YES\n",
    "df_yes_lagphase = normalized_lagphase_YES_pivot.transpose()\n",
    "df_yes_maxslope = normalized_maxslope_YES_pivot.transpose()\n"
   ]
  },
  {
   "cell_type": "code",
   "execution_count": null,
   "metadata": {},
   "outputs": [],
   "source": [
    "ax,fig=heat_map_elegant_YES(\"The normalized maximum slope of fission yeast in YES medium\",\n",
    "                        \"ploty/YES_maxslope_LL\",df);"
   ]
  },
  {
   "cell_type": "code",
   "execution_count": null,
   "metadata": {},
   "outputs": [],
   "source": [
    "#YES\n",
    "\n",
    "ax,fig=heat_map_elegant(\"The normalized maximum slope \\n of fission yeast in YES medium\",\n",
    "                        \"ploty/YES_maxslope_LL\",normalized_maxslope_YES_pivot)"
   ]
  },
  {
   "cell_type": "code",
   "execution_count": null,
   "metadata": {},
   "outputs": [],
   "source": [
    "ax,fig=heat_map_elegant_YES(\"The normalized Lag phase \\n of fission yeast in YES medium\",\n",
    "                        \"ploty/YES_lagphase_LL\",df_yes_lagphase);"
   ]
  },
  {
   "cell_type": "code",
   "execution_count": null,
   "metadata": {},
   "outputs": [],
   "source": []
  },
  {
   "cell_type": "code",
   "execution_count": null,
   "metadata": {
    "scrolled": true
   },
   "outputs": [],
   "source": [
    "ax.get_label"
   ]
  },
  {
   "cell_type": "code",
   "execution_count": null,
   "metadata": {},
   "outputs": [],
   "source": [
    "ax.figure.get_children()"
   ]
  },
  {
   "cell_type": "code",
   "execution_count": null,
   "metadata": {},
   "outputs": [],
   "source": [
    "fig.artists"
   ]
  },
  {
   "cell_type": "code",
   "execution_count": null,
   "metadata": {
    "scrolled": true
   },
   "outputs": [],
   "source": [
    "sns.heatmap(results_EMM_all_maxslope, cmap='RdYlBu')"
   ]
  },
  {
   "cell_type": "code",
   "execution_count": null,
   "metadata": {},
   "outputs": [],
   "source": [
    "results_EMM_all_maxslope"
   ]
  },
  {
   "cell_type": "code",
   "execution_count": null,
   "metadata": {
    "scrolled": true
   },
   "outputs": [],
   "source": [
    "sns.heatmap(results_EMM_all_lag, cmap='RdYlBu')"
   ]
  }
 ],
 "metadata": {
  "kernelspec": {
   "display_name": "Python 3",
   "language": "python",
   "name": "python3"
  },
  "language_info": {
   "codemirror_mode": {
    "name": "ipython",
    "version": 3
   },
   "file_extension": ".py",
   "mimetype": "text/x-python",
   "name": "python",
   "nbconvert_exporter": "python",
   "pygments_lexer": "ipython3",
   "version": "3.7.1"
  }
 },
 "nbformat": 4,
 "nbformat_minor": 2
}
